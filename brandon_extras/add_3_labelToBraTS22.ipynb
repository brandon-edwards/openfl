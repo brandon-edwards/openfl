{
 "cells": [
  {
   "cell_type": "code",
   "execution_count": 1,
   "metadata": {},
   "outputs": [
    {
     "data": {
      "text/plain": [
       "'\\nUsing to artificially insert some 3 labels into some brats22 samples to see the warning\\nwe are getting: \\nnnUNetTrainer.py:712: RuntimeWarning: invalid value encountered in scalar divide\\n  global_dc_per_class = [i for i in [2 * i / (2 * i + j + k) for i, j, k in\\n\\nhopefully go away\\n'"
      ]
     },
     "execution_count": 1,
     "metadata": {},
     "output_type": "execute_result"
    }
   ],
   "source": [
    "\"\"\"\n",
    "Using to artificially insert some 3 labels into some brats22 samples to see the warning\n",
    "we are getting: \n",
    "nnUNetTrainer.py:712: RuntimeWarning: invalid value encountered in scalar divide\n",
    "  global_dc_per_class = [i for i in [2 * i / (2 * i + j + k) for i, j, k in\n",
    "\n",
    "hopefully go away\n",
    "\"\"\""
   ]
  },
  {
   "cell_type": "code",
   "execution_count": 2,
   "metadata": {},
   "outputs": [],
   "source": [
    "import os\n",
    "import sys\n",
    "import numpy as np\n",
    "\n",
    "import nibabel as nib"
   ]
  },
  {
   "cell_type": "code",
   "execution_count": 3,
   "metadata": {},
   "outputs": [],
   "source": [
    "sys.path.append('/home/edwardsb/repositories/private-mri-sandbox/2D_data_creation')\n",
    "\n",
    "from nifti_utils import load_nifti, save_nifti"
   ]
  },
  {
   "cell_type": "code",
   "execution_count": 4,
   "metadata": {},
   "outputs": [],
   "source": [
    "datadir = '/raid/edwardsb/projects/RANO/ExampleBraTS22_Labels0-4'\n",
    "# this next one is for when we replace labels with those that have 3s inserted into it\n",
    "new_datadir = '/raid/edwardsb/projects/RANO/FAKE_withlabel3_ExampleBraTS22_Labels0-4'"
   ]
  },
  {
   "cell_type": "code",
   "execution_count": 5,
   "metadata": {},
   "outputs": [],
   "source": [
    "def profile_labels(label_path):\n",
    "    array = load_nifti(label_path)\n",
    "    print(f\"The labels represented in the file: {label_path.split('/')[-1]} are: {np.unique(array)} and array has shape: {array.shape}\\n\")"
   ]
  },
  {
   "cell_type": "code",
   "execution_count": 6,
   "metadata": {},
   "outputs": [],
   "source": [
    "def get_modality(niftidir, ending):\n",
    "    # I check that the ending occurs exactly once\n",
    "    fnames = os.listdir(niftidir)\n",
    "    ours = [fname for fname in fnames if fname.endswith(ending)]\n",
    "    if len(ours) ==0:\n",
    "        raise ValueError(f\"The ending {ending} was not observed in the nifti pardir: {niftidir}\")\n",
    "    elif len(ours) > 1:\n",
    "        raise ValueError(f\"The ending {ending} occurs {len(ours)} times when only once was expected.\")\n",
    "    else:\n",
    "        return os.path.join(niftidir, ours[0])\n",
    "\n"
   ]
  },
  {
   "cell_type": "code",
   "execution_count": 7,
   "metadata": {},
   "outputs": [],
   "source": [
    "\n",
    "\n",
    "def modalitypaths(nifti_pardir, ending, new_nifti_pardir=None, create_new=False):\n",
    "    modalitypaths = []\n",
    "    subnames = os.listdir(nifti_pardir)\n",
    "    subpaths = [os.path.join(nifti_pardir, name) for name in subnames]\n",
    "    subdirpaths = [path for path in subpaths if os.path.isdir(path)]\n",
    "\n",
    "    for path in subdirpaths:\n",
    "        modalitypaths.append(get_modality(niftidir=path, ending=ending))\n",
    "    print(f\"Found {len(modalitypaths)} paths with modality {ending} under parent directory: {nifti_pardir}\")\n",
    "\n",
    "    if not create_new:\n",
    "        return modalitypaths\n",
    "    else:\n",
    "        # creating paths for similar files in alternate folder (note the modality can already exist here so be careful as overwriting will happen)\n",
    "        new_modalitypaths = [os.path.join(new_nifti_pardir, path.split('/')[-2], path.split('/')[-1]) for path in modalitypaths]\n",
    "\n",
    "        return modalitypaths, new_modalitypaths\n"
   ]
  },
  {
   "cell_type": "code",
   "execution_count": 8,
   "metadata": {},
   "outputs": [],
   "source": [
    "def profile_all_masks(nifti_pardir):\n",
    "    paths = modalitypaths(nifti_pardir=nifti_pardir, ending='_seg.nii.gz')\n",
    "    for path in paths:\n",
    "        profile_labels(label_path=path)"
   ]
  },
  {
   "cell_type": "code",
   "execution_count": 9,
   "metadata": {},
   "outputs": [
    {
     "name": "stdout",
     "output_type": "stream",
     "text": [
      "Found 8 paths with modality _seg.nii.gz under parent directory: /raid/edwardsb/projects/RANO/ExampleBraTS22_Labels0-4\n",
      "The labels represented in the file: BraTS2021_00344_seg.nii.gz are: [0. 1. 2. 4.] and array has shape: (240, 240, 155)\n",
      "\n",
      "The labels represented in the file: BraTS2021_00343_seg.nii.gz are: [0. 1. 2. 4.] and array has shape: (240, 240, 155)\n",
      "\n",
      "The labels represented in the file: BraTS2021_00349_seg.nii.gz are: [0. 1. 2. 4.] and array has shape: (240, 240, 155)\n",
      "\n",
      "The labels represented in the file: BraTS2021_00347_seg.nii.gz are: [0. 1. 2. 4.] and array has shape: (240, 240, 155)\n",
      "\n",
      "The labels represented in the file: BraTS2021_00340_seg.nii.gz are: [0. 1. 2. 4.] and array has shape: (240, 240, 155)\n",
      "\n",
      "The labels represented in the file: BraTS2021_00348_seg.nii.gz are: [0. 1. 2. 4.] and array has shape: (240, 240, 155)\n",
      "\n",
      "The labels represented in the file: BraTS2021_00341_seg.nii.gz are: [0. 1. 2. 4.] and array has shape: (240, 240, 155)\n",
      "\n",
      "The labels represented in the file: BraTS2021_00346_seg.nii.gz are: [0. 1. 2. 4.] and array has shape: (240, 240, 155)\n",
      "\n"
     ]
    }
   ],
   "source": [
    "profile_all_masks(nifti_pardir=datadir)"
   ]
  },
  {
   "cell_type": "code",
   "execution_count": 10,
   "metadata": {},
   "outputs": [],
   "source": [
    "def insert_label3(labelpath, new_labelpath, exists_ok=False):                  \n",
    "    array = load_nifti(labelpath)\n",
    "    array[120:124, 120:124, 73:75] = 3\n",
    "    print(f\"Brandon DEBUG - type of thing I think is old label image is: {type(nib.load(labelpath))}\")\n",
    "    save_nifti(array=array, path=new_labelpath, exists_ok=exists_ok, metadata_from=nib.load(labelpath))"
   ]
  },
  {
   "cell_type": "code",
   "execution_count": 11,
   "metadata": {},
   "outputs": [],
   "source": [
    "def create_new_masks(nifti_pardir, fakesegs_nifti_pardir, new_path_exists_ok=False):\n",
    "    paths, new_paths = modalitypaths(nifti_pardir=nifti_pardir, ending='_seg.nii.gz', new_nifti_pardir=fakesegs_nifti_pardir, create_new=True)\n",
    "    for path, new_path in zip(paths, new_paths):\n",
    "        profile_labels(label_path=path)\n",
    "        insert_label3(labelpath=path, new_labelpath=new_path, exists_ok=new_path_exists_ok)\n",
    "        profile_labels(label_path=new_path)"
   ]
  },
  {
   "cell_type": "code",
   "execution_count": 12,
   "metadata": {},
   "outputs": [
    {
     "name": "stdout",
     "output_type": "stream",
     "text": [
      "Found 8 paths with modality _seg.nii.gz under parent directory: /raid/edwardsb/projects/RANO/ExampleBraTS22_Labels0-4\n",
      "The labels represented in the file: BraTS2021_00344_seg.nii.gz are: [0. 1. 2. 4.] and array has shape: (240, 240, 155)\n",
      "\n",
      "Brandon DEBUG - type of thing I think is old label image is: <class 'nibabel.nifti1.Nifti1Image'>\n",
      "The labels represented in the file: BraTS2021_00344_seg.nii.gz are: [0. 1. 2. 3. 4.] and array has shape: (240, 240, 155)\n",
      "\n",
      "The labels represented in the file: BraTS2021_00343_seg.nii.gz are: [0. 1. 2. 4.] and array has shape: (240, 240, 155)\n",
      "\n",
      "Brandon DEBUG - type of thing I think is old label image is: <class 'nibabel.nifti1.Nifti1Image'>\n",
      "The labels represented in the file: BraTS2021_00343_seg.nii.gz are: [0. 1. 2. 3. 4.] and array has shape: (240, 240, 155)\n",
      "\n",
      "The labels represented in the file: BraTS2021_00349_seg.nii.gz are: [0. 1. 2. 4.] and array has shape: (240, 240, 155)\n",
      "\n",
      "Brandon DEBUG - type of thing I think is old label image is: <class 'nibabel.nifti1.Nifti1Image'>\n",
      "The labels represented in the file: BraTS2021_00349_seg.nii.gz are: [0. 1. 2. 3. 4.] and array has shape: (240, 240, 155)\n",
      "\n",
      "The labels represented in the file: BraTS2021_00347_seg.nii.gz are: [0. 1. 2. 4.] and array has shape: (240, 240, 155)\n",
      "\n",
      "Brandon DEBUG - type of thing I think is old label image is: <class 'nibabel.nifti1.Nifti1Image'>\n",
      "The labels represented in the file: BraTS2021_00347_seg.nii.gz are: [0. 1. 2. 3. 4.] and array has shape: (240, 240, 155)\n",
      "\n",
      "The labels represented in the file: BraTS2021_00340_seg.nii.gz are: [0. 1. 2. 4.] and array has shape: (240, 240, 155)\n",
      "\n",
      "Brandon DEBUG - type of thing I think is old label image is: <class 'nibabel.nifti1.Nifti1Image'>\n",
      "The labels represented in the file: BraTS2021_00340_seg.nii.gz are: [0. 1. 2. 3. 4.] and array has shape: (240, 240, 155)\n",
      "\n",
      "The labels represented in the file: BraTS2021_00348_seg.nii.gz are: [0. 1. 2. 4.] and array has shape: (240, 240, 155)\n",
      "\n",
      "Brandon DEBUG - type of thing I think is old label image is: <class 'nibabel.nifti1.Nifti1Image'>\n",
      "The labels represented in the file: BraTS2021_00348_seg.nii.gz are: [0. 1. 2. 3. 4.] and array has shape: (240, 240, 155)\n",
      "\n",
      "The labels represented in the file: BraTS2021_00341_seg.nii.gz are: [0. 1. 2. 4.] and array has shape: (240, 240, 155)\n",
      "\n",
      "Brandon DEBUG - type of thing I think is old label image is: <class 'nibabel.nifti1.Nifti1Image'>\n",
      "The labels represented in the file: BraTS2021_00341_seg.nii.gz are: [0. 1. 2. 3. 4.] and array has shape: (240, 240, 155)\n",
      "\n",
      "The labels represented in the file: BraTS2021_00346_seg.nii.gz are: [0. 1. 2. 4.] and array has shape: (240, 240, 155)\n",
      "\n",
      "Brandon DEBUG - type of thing I think is old label image is: <class 'nibabel.nifti1.Nifti1Image'>\n",
      "The labels represented in the file: BraTS2021_00346_seg.nii.gz are: [0. 1. 2. 3. 4.] and array has shape: (240, 240, 155)\n",
      "\n"
     ]
    }
   ],
   "source": [
    "create_new_masks(nifti_pardir=datadir, fakesegs_nifti_pardir=new_datadir, new_path_exists_ok=True)"
   ]
  }
 ],
 "metadata": {
  "kernelspec": {
   "display_name": "CurrentGANDLF",
   "language": "python",
   "name": "currentgandlf"
  },
  "language_info": {
   "codemirror_mode": {
    "name": "ipython",
    "version": 3
   },
   "file_extension": ".py",
   "mimetype": "text/x-python",
   "name": "python",
   "nbconvert_exporter": "python",
   "pygments_lexer": "ipython3",
   "version": "3.9.5"
  }
 },
 "nbformat": 4,
 "nbformat_minor": 2
}
