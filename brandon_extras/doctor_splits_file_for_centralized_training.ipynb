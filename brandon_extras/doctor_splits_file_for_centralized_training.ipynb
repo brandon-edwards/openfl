{
 "cells": [
  {
   "cell_type": "code",
   "execution_count": 1,
   "metadata": {},
   "outputs": [
    {
     "data": {
      "text/plain": [
       "OrderedDict([('train',\n",
       "              array(['BraTS2021_01277_2008.12.99', 'BraTS2021_00155_2008.12.99',\n",
       "                     'BraTS2021_00468_2008.12.99', 'BraTS2021_00512_2008.12.99',\n",
       "                     'BraTS2021_00565_2008.12.99', 'BraTS2021_01200_2008.12.99',\n",
       "                     'BraTS2021_01299_2008.12.99', 'BraTS2021_01394_2008.12.99'],\n",
       "                    dtype='<U26')),\n",
       "             ('val',\n",
       "              array(['BraTS2021_00058_2008.12.99', 'BraTS2021_00122_2008.12.99'],\n",
       "                    dtype='<U26'))])"
      ]
     },
     "execution_count": 1,
     "metadata": {},
     "output_type": "execute_result"
    }
   ],
   "source": [
    "import os\n",
    "import pickle as pkl\n",
    "\n",
    "\n",
    "splits_fpath = '/raid/edwardsb/projects/RANO/BraTS22_pretending_tobe_postopp/nnUNet_raw_data_base/nnUNet_preprocessed/Task588_FedSimTest/splits_final.pkl'\n",
    "\n",
    "with open(splits_fpath, 'rb') as f:\n",
    "    splits_final = pkl.load(f)\n",
    "\n",
    "splits_final[0]"
   ]
  },
  {
   "cell_type": "code",
   "execution_count": 4,
   "metadata": {},
   "outputs": [
    {
     "data": {
      "text/plain": [
       "OrderedDict([('train',\n",
       "              array(['BraTS2021_01277_2008.12.99', 'BraTS2021_00155_2008.12.99',\n",
       "                     'BraTS2021_00468_2008.12.99', 'BraTS2021_00512_2008.12.99',\n",
       "                     'BraTS2021_00565_2008.12.99', 'BraTS2021_01200_2008.12.99',\n",
       "                     'BraTS2021_01299_2008.12.99', 'BraTS2021_01394_2008.12.99'],\n",
       "                    dtype='<U26')),\n",
       "             ('val',\n",
       "              array(['BraTS2021_00058_2008.12.99', 'BraTS2021_00122_2008.12.99'],\n",
       "                    dtype='<U26'))])"
      ]
     },
     "execution_count": 4,
     "metadata": {},
     "output_type": "execute_result"
    }
   ],
   "source": [
    "temp_train = splits_final[0]['train']\n",
    "temp_val = splits_final[0]['val']\n",
    "\n",
    "to_val = temp_train[0].copy()\n",
    "to_train = temp_val[-1].copy()\n",
    "\n",
    "temp_train[0] = to_train\n",
    "temp_val[-1] = to_val\n",
    "\n",
    "splits_final[0]\n",
    "\n"
   ]
  },
  {
   "cell_type": "code",
   "execution_count": 8,
   "metadata": {},
   "outputs": [],
   "source": [
    "with open(splits_fpath, 'wb') as f:\n",
    "    pkl.dump(splits_final, f)"
   ]
  },
  {
   "cell_type": "code",
   "execution_count": 9,
   "metadata": {},
   "outputs": [
    {
     "data": {
      "text/plain": [
       "OrderedDict([('train',\n",
       "              array(['BraTS2021_01277_2008.12.99', 'BraTS2021_00155_2008.12.99',\n",
       "                     'BraTS2021_00468_2008.12.99', 'BraTS2021_00512_2008.12.99',\n",
       "                     'BraTS2021_00565_2008.12.99', 'BraTS2021_01200_2008.12.99',\n",
       "                     'BraTS2021_01299_2008.12.99', 'BraTS2021_01394_2008.12.99'],\n",
       "                    dtype='<U26')),\n",
       "             ('val',\n",
       "              array(['BraTS2021_00058_2008.12.99', 'BraTS2021_00122_2008.12.99'],\n",
       "                    dtype='<U26'))])"
      ]
     },
     "execution_count": 9,
     "metadata": {},
     "output_type": "execute_result"
    }
   ],
   "source": [
    "with open(splits_fpath, 'rb') as f:\n",
    "    splits_final_new = pkl.load(f)\n",
    "\n",
    "splits_final_new[0]"
   ]
  },
  {
   "cell_type": "code",
   "execution_count": null,
   "metadata": {},
   "outputs": [],
   "source": [
    "\"\"\"\n",
    "Now we want to get the old split file back (will save it to a new ALT name though)\n",
    "\"\"\""
   ]
  },
  {
   "cell_type": "code",
   "execution_count": 3,
   "metadata": {},
   "outputs": [
    {
     "data": {
      "text/plain": [
       "OrderedDict([('train',\n",
       "              array(['BraTS2021_01277_2008.12.99', 'BraTS2021_00155_2008.12.99',\n",
       "                     'BraTS2021_00468_2008.12.99', 'BraTS2021_00512_2008.12.99',\n",
       "                     'BraTS2021_00565_2008.12.99', 'BraTS2021_01200_2008.12.99',\n",
       "                     'BraTS2021_01299_2008.12.99', 'BraTS2021_01394_2008.12.99'],\n",
       "                    dtype='<U26')),\n",
       "             ('val',\n",
       "              array(['BraTS2021_00058_2008.12.99', 'BraTS2021_00122_2008.12.99'],\n",
       "                    dtype='<U26'))])"
      ]
     },
     "execution_count": 3,
     "metadata": {},
     "output_type": "execute_result"
    }
   ],
   "source": [
    "import os\n",
    "import pickle as pkl\n",
    "\n",
    "\n",
    "splits_fpath = '/raid/edwardsb/projects/RANO/BraTS22_pretending_tobe_postopp/nnUNet_raw_data_base/nnUNet_preprocessed/Task588_FedSimTest/splits_final.pkl'\n",
    "\n",
    "with open(splits_fpath, 'rb') as f:\n",
    "    splits_final = pkl.load(f)\n",
    "\n",
    "splits_final[0]"
   ]
  },
  {
   "cell_type": "code",
   "execution_count": 4,
   "metadata": {},
   "outputs": [
    {
     "data": {
      "text/plain": [
       "OrderedDict([('train',\n",
       "              array(['BraTS2021_00122_2008.12.99', 'BraTS2021_00155_2008.12.99',\n",
       "                     'BraTS2021_00468_2008.12.99', 'BraTS2021_00512_2008.12.99',\n",
       "                     'BraTS2021_00565_2008.12.99', 'BraTS2021_01200_2008.12.99',\n",
       "                     'BraTS2021_01299_2008.12.99', 'BraTS2021_01394_2008.12.99'],\n",
       "                    dtype='<U26')),\n",
       "             ('val',\n",
       "              array(['BraTS2021_00058_2008.12.99', 'BraTS2021_01277_2008.12.99'],\n",
       "                    dtype='<U26'))])"
      ]
     },
     "execution_count": 4,
     "metadata": {},
     "output_type": "execute_result"
    }
   ],
   "source": [
    "temp_train = splits_final[0]['train']\n",
    "temp_val = splits_final[0]['val']\n",
    "\n",
    "to_val = temp_train[0].copy()\n",
    "to_train = temp_val[-1].copy()\n",
    "\n",
    "temp_train[0] = to_train\n",
    "temp_val[-1] = to_val\n",
    "\n",
    "splits_final[0]\n"
   ]
  },
  {
   "cell_type": "code",
   "execution_count": 6,
   "metadata": {},
   "outputs": [],
   "source": [
    "difficult_splits_fpath = '/raid/edwardsb/projects/RANO/BraTS22_pretending_tobe_postopp/nnUNet_raw_data_base/nnUNet_preprocessed/Task588_FedSimTest/splits_final_DIFFICULT_VALS.pkl'"
   ]
  },
  {
   "cell_type": "code",
   "execution_count": 8,
   "metadata": {},
   "outputs": [],
   "source": [
    "with open(difficult_splits_fpath, 'wb') as f:\n",
    "    pkl.dump(splits_final, f)"
   ]
  },
  {
   "cell_type": "code",
   "execution_count": 9,
   "metadata": {},
   "outputs": [
    {
     "data": {
      "text/plain": [
       "OrderedDict([('train',\n",
       "              array(['BraTS2021_00122_2008.12.99', 'BraTS2021_00155_2008.12.99',\n",
       "                     'BraTS2021_00468_2008.12.99', 'BraTS2021_00512_2008.12.99',\n",
       "                     'BraTS2021_00565_2008.12.99', 'BraTS2021_01200_2008.12.99',\n",
       "                     'BraTS2021_01299_2008.12.99', 'BraTS2021_01394_2008.12.99'],\n",
       "                    dtype='<U26')),\n",
       "             ('val',\n",
       "              array(['BraTS2021_00058_2008.12.99', 'BraTS2021_01277_2008.12.99'],\n",
       "                    dtype='<U26'))])"
      ]
     },
     "execution_count": 9,
     "metadata": {},
     "output_type": "execute_result"
    }
   ],
   "source": [
    "with open(difficult_splits_fpath, 'rb') as f:\n",
    "    difficult_splits_final_new = pkl.load(f)\n",
    "\n",
    "difficult_splits_final_new[0]"
   ]
  },
  {
   "cell_type": "code",
   "execution_count": null,
   "metadata": {},
   "outputs": [],
   "source": []
  }
 ],
 "metadata": {
  "kernelspec": {
   "display_name": "be-SATGOpenFL-too",
   "language": "python",
   "name": "be-satgopenfl-too"
  },
  "language_info": {
   "codemirror_mode": {
    "name": "ipython",
    "version": 3
   },
   "file_extension": ".py",
   "mimetype": "text/x-python",
   "name": "python",
   "nbconvert_exporter": "python",
   "pygments_lexer": "ipython3",
   "version": "3.8.10"
  }
 },
 "nbformat": 4,
 "nbformat_minor": 2
}
