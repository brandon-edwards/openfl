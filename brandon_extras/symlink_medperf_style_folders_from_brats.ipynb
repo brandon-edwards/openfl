{
 "cells": [
  {
   "cell_type": "code",
   "execution_count": 1,
   "metadata": {},
   "outputs": [],
   "source": []
  },
  {
   "cell_type": "code",
   "execution_count": 3,
   "metadata": {},
   "outputs": [],
   "source": [
    "import os"
   ]
  },
  {
   "cell_type": "code",
   "execution_count": null,
   "metadata": {},
   "outputs": [],
   "source": [
    "#################################\n",
    "#################################\n",
    "################################"
   ]
  },
  {
   "cell_type": "code",
   "execution_count": 15,
   "metadata": {},
   "outputs": [],
   "source": [
    "# Folder holding the BraTS samples\n",
    "\n",
    "# ONE BELOW IS THE MAIN ONE USED\n",
    "# source_dirpath = '/raid/datasets/BraTS22/BraTS2022_Training/RSNA_ASNR_MICCAI_BraTS2021_TrainingData_16July2021'\n",
    "source_dirpath = '/raid/edwardsb/projects/RANO/FAKE_withlabel3_ExampleBraTS22_Labels0-4'\n",
    "\n",
    "# destination folder to hold the medperf postopp style data format\n",
    "# (should be cleared of all items before re-running if already have run once)\n",
    "\n",
    "\n",
    "# ONE BELOW IS MAIN ONE USED\n",
    "# postopp_pardir = '/raid/edwardsb/projects/RANO/test_data_links_micahtest'\n",
    "postopp_pardir = '/raid/edwardsb/projects/RANO/test_data_links_testforhasan'\n",
    "\n",
    "# total number of samples to use\n",
    "total_samples = 10"
   ]
  },
  {
   "cell_type": "code",
   "execution_count": 16,
   "metadata": {},
   "outputs": [],
   "source": [
    "\n",
    "\n",
    "\"\"\"\n",
    "Creating some data links that mimic the folder structure expected after data prep\n",
    "\n",
    "\"\"\"\n",
    "\n",
    "\n",
    "src_mods = ['t1.nii.gz', 't2.nii.gz', 't1ce.nii.gz', 'flair.nii.gz', 'seg.nii.gz']\n",
    "dst_mods = ['t1n.nii.gz', 't2w.nii.gz', 't1c.nii.gz', 't2f.nii.gz', 'final_seg.nii.gz']\n",
    "\n",
    "patients = list(os.listdir(source_dirpath))[:total_samples]\n",
    "for src_mod, dst_mod in zip(src_mods, dst_mods):\n",
    "    if src_mod == 'seg.nii.gz':\n",
    "        subdir = 'labels'\n",
    "    else:\n",
    "        subdir = 'data'\n",
    "    \n",
    "    for patient in patients:\n",
    "        dst_pat_dir = os.path.join(postopp_pardir, subdir, patient)\n",
    "        if not os.path.exists(dst_pat_dir):\n",
    "            os.makedirs(dst_pat_dir)\n",
    "        src_pat_dir = os.path.join(source_dirpath, patient)\n",
    "        for timestamp in ['2008.03.88', '2008.12.99']:\n",
    "            dst_pattim_dir = os.path.join(dst_pat_dir, timestamp)\n",
    "            if not os.path.exists(dst_pattim_dir):\n",
    "                os.makedirs(dst_pattim_dir)\n",
    "       \n",
    "            \n",
    "\n",
    "\n",
    "            src_path = os.path.join(src_pat_dir, patient + '_' + src_mod)\n",
    "            if dst_mod == 'final_seg.nii.gz':\n",
    "                dst_path = os.path.join(dst_pattim_dir, patient + '_' + timestamp + '_' + dst_mod)\n",
    "            else:\n",
    "                dst_path = os.path.join(dst_pattim_dir, patient + '_' + timestamp + '_brain_' + dst_mod)\n",
    "            os.symlink(src=src_path, dst=dst_path)\n",
    "        \n",
    "\n"
   ]
  },
  {
   "cell_type": "code",
   "execution_count": null,
   "metadata": {},
   "outputs": [],
   "source": []
  },
  {
   "cell_type": "code",
   "execution_count": null,
   "metadata": {},
   "outputs": [],
   "source": []
  },
  {
   "cell_type": "code",
   "execution_count": null,
   "metadata": {},
   "outputs": [],
   "source": []
  }
 ],
 "metadata": {
  "kernelspec": {
   "display_name": "Python 3",
   "language": "python",
   "name": "python3"
  },
  "language_info": {
   "codemirror_mode": {
    "name": "ipython",
    "version": 3
   },
   "file_extension": ".py",
   "mimetype": "text/x-python",
   "name": "python",
   "nbconvert_exporter": "python",
   "pygments_lexer": "ipython3",
   "version": "3.8.10"
  }
 },
 "nbformat": 4,
 "nbformat_minor": 2
}
