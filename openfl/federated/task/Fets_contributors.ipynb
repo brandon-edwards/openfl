{
 "cells": [
  {
   "cell_type": "code",
   "execution_count": 33,
   "metadata": {},
   "outputs": [],
   "source": [
    "affiliations_string = \"1Center for Biomedical Image Computing and Analytics (CBICA), University of Pennsylvania, Philadelphia, PA, USA. 2 Department of Radiology, Perelman School of Medicine, University of Pennsylvania, Philadelphia, PA, USA. 3 Department of Pathology and Laboratory Medicine, Perelman School of Medicine, University of Pennsylvania, Philadelphia, PA, USA. 4 Department of Informatics, Technical University of Munich, Munich, Bavaria, Germany. 5 Intel Corporation, Santa Clara, CA, USA. 6 Department of Neuroradiology, Heidelberg University Hospital, Heidelberg, Germany. 7 Clinical Cooperation Unit Neuropathology, German Cancer Consortium (DKTK) within the German Cancer Research Center (DKFZ), Heidelberg, Germany. 8 Department of Neuropathology, Heidelberg University Hospital, Heidelberg, Germany. 9 Division of Medical Image Computing, German Cancer Research Center, Heidelberg, Germany. 10Pattern Analysis and Learning Group, Department of Radiation Oncology, Heidelberg University Hospital, Heidelberg, Germany. 11Neurology Clinic, Heidelberg University Hospital, Heidelberg, Germany. 12Department of Radiology and Biomedical Imaging, University of California San Francisco, San Francisco, CA, USA. 13Symbiosis Center for Medical Image Analysis, Symbiosis International University, Pune, Maharashtra, India. 14Department of Neuroimaging and Interventional Radiology, National Institute of Mental Health and Neurosciences, Bangalore, Karnataka, India. 15Department of Radiology, School of Medicine and Public Health, University of Wisconsin, Madison, WI, USA. 16Department of Medical Physics, School of Medicine and Public Health, University of Wisconsin, Madison, WI, USA. 17Leeds Teaching Hospitals Trust, Department of Radiology, Leeds, UK. 18Department of Radiology, Brigham and Women’s Hospital, Harvard Medical School, Boston, MA, USA. 19Athinoula A. Martinos Center for Biomedical Imaging, Massachusetts General Hospital, Charlestown, MA, USA. 20Catalan Institute of Oncology, Badalona, Spain. 21Consorci MAR Parc de Salut de Barcelona, Catalonia, Spain. 22Department of Radiology (IDI), Girona Biomedical Research Institute (IdIBGi), Josep Trueta University Hospital, Girona, Spain. 23Institute of Neuroradiology, Neuromed Campus (NMC), Kepler University Hospital Linz, Linz, Austria. 24Department of Neurooncology, Neuromed Campus (NMC), Kepler University Hospital Linz, Linz, Austria. 25Institute of Diagnostic and Interventional Neuroradiology, RKH Klinikum Ludwigsburg, Ludwigsburg, Germany. 26Department of Radiation Oncology, Christiana Care Health System, Philadelphia, PA, USA. 27Sidney Kimmel Medical College, Thomas Jefferson University, Philadelphia, PA, USA. 28Department of Radiation Oncology, University of Maryland, Baltimore, MD, USA. 29Department of Radiation Oncology, Sidney Kimmel Cancer Center, Thomas Jefferson University, Philadelphia, PA, USA. 30Department of Radiation Oncology, The James Cancer Hospital and Solove Research Institute, The Ohio State University Comprehensive Cancer Center, Columbus, OH, USA. 31Department of Radiology, Sidney Kimmel Cancer Center, Thomas Jefferson University, Philadelphia, PA, USA. 32The Russell H. Morgan Department of Radiology and Radiological Science, Johns Hopkins University School of Medicine, Baltimore, MD, USA. 33The Malone Center for Engineering in Healthcare, The Whiting School of Engineering, Johns Hopkins University, Baltimore, MD, USA. 34Department of Electrical and Computer Engineering, Whiting School of Engineering, Johns Hopkins University, Baltimore, MD, USA. 35The Chinese University of Hong Kong, Hong Kong, China. 36Centre for Biomedical Image Analysis, Faculty of Informatics, Masaryk University, Brno, Czech Republic. 37Department of Radiology and Nuclear Medicine, Faculty of Medicine, Masaryk University, Brno and University Hospital Brno, Brno, Czech Republic. 38Department of Biophysics, Faculty of Medicine, Masaryk University, Brno, Czech Republic. 39Department of Neurosurgery, Faculty of Medicine, Masaryk University, Brno, and University Hospital and Czech Republic, Brno, Czech Republic. 40Department of Neuro Oncology, H. Lee Moffitt Cancer Center and Research Institute, Tampa, FL, USA. 41University of Alberta, Edmonton, AB, Canada. 42Alberta Machine Intelligence Institute, Edmonton, AB, Canada. 43Department of Radiology, H. Lee Moffitt Cancer Center and Research Institute, Tampa, FL, USA. 44University of Texas Southwestern Medical Center, Dallas, TX, USA. 45UCLA Brain Tumor Imaging Laboratory (BTIL), Center for Computer Vision and Imaging Biomarkers, Department of Radiological Sciences, David Geffen School of Medicine, University of California Los Angeles, Los Angeles, CA, USA. 46UCLA Neuro-Oncology Program, Department of Neurology, David Geffen School of Medicine, University of California Los Angeles, Los Angeles, CaA, USA. 47Department of Radiological Sciences, David Geffen School of Medicine, University of California Los Angeles, Los Angeles, CA, USA. 48College of Medicine and Public Health, Flinders University, Bedford Park, SA, Australia. 49Division of Surgery and Perioperative Medicine, Flinders Medical Centre, Bedford Park, SA, Australia. 50South Australia Medical Imaging, Flinders Medical Centre, Bedford Park, SA, Australia. 51Department of Neurology, Baylor College of Medicine, Houston, TX, USA. 52Institute of Computing, University of Campinas, Campinas, São Paulo, Brazil. 53Federal Institute of São Paulo, Campinas, São Paulo, Brazil. 54Instituto de Neurologia de Curitiba, Curitiba, Paraná, Brazil. 55Department of Radiology, Hospital de Clínicas da Universidade Federal do Paraná, Curitiba, Paraná, Brazil. 56Department of Informatics, Universidade Federal do Paraná, Curitiba, Paraná, Brazil. 57Department of Radiology, Washington University in St. Louis, St. Louis, MO, USA. 58Department of Diagnostic and Interventional Neuroradiology, School of Medicine, Klinikum rechts der Isar, Technical University of Munich, Munich, Germany. 59TranslaTUM (Zentralinstitut für translationale Krebsforschung der Technischen Universität München), Klinikum rechts der Isar, Munich, Germany. 60Image-Based Biomedical Modeling, Department of Informatics, Technical University of Munich, Munich, Germany. 61Department of Radiology, NYU Grossman School of Medicine, New York, NY, USA. 62Department of Neurosurgery, NYU Grossman School of Medicine, New York, NY, USA. 63Support Center for Advanced Neuroimaging, University Institute of Diagnostic and Interventional Neuroradiology, University Hospital Bern, Inselspital, University of Bern, Bern, Switzerland. 64Department of Neurosurgery, Anschutz Medical Campus, University of Colorado, Aurora, CO, USA. 65Department of Radiology, University Hospitals Cleveland, Cleveland, OH, USA. 66Department of Neurological Surgery, University Hospitals-Seidman Cancer Center, Cleveland, OH, USA. 67Case Comprehensive Cancer Center, Cleveland, OH, USA. 68Department of Neurosurgery, Case Western Reserve University School of Medicine, Cleveland, OH, USA. 69National Cancer Institute, National Institute of Health, Division of Cancer Epidemiology and Genetics, Bethesda, MD, USA. 70Department of Radiology, Neuroradiology Division, University of Pittsburgh, Pittsburgh, PA, USA. 71Department of Diagnostic Radiology, University of Texas MD Anderson Cancer Center, Houston, TX, USA. 72University of Pittsburgh Medical Center, Pittsburgh, PA, USA. 73Department of Neuroradiology, University of Michigan, Ann Arbor, MI, USA. 74Department of Computational Medicine and Bioinformatics, University of Michigan, Ann Arbor, MI, USA. 75Department of Radiology, Baylor College of Medicine, Houston, TX, USA. 76Department of Computing, Imperial College London, London, UK. 77Institute of Biomedical Engineering, Department of Engineering Science, University of Oxford, Oxford, UK. 78Department of Radiology, Imperial College NHS Healthcare Trust, London, UK. 79Computational Oncology Group, Institute for Global Health Innovation, Imperial College London, London, UK. 80Department of NeuroRadiology, University of Patras, Patras, Greece. 81Department of Neurosurgery, University of Patras, Patras, Greece. 82Clinical Radiology Laboratory, Department of Medicine, University of Patras, Patras, Greece. 83Department of Electrical and Computer Engineering, University of Patras, Patras, Greece. 84Department of Neuro-Oncology, University of Patras, Patras, Greece. 85Department of Radiation Oncology, University of Patras, Patras, Greece. 86Yonsei University College of Medicine, Seoul, Korea. 87Department of Radiation Oncology, Henry Ford Health System, Detroit, MI, USA. 88Public Health Sciences, Henry Ford Health System, Detroit, MI, USA. 89SJTU-Ruijin-UIH Institute for Medical Imaging Technology, Ruijin Hospital, Shanghai Jiao Tong University School of Medicine, 200025 Shanghai, China. 90Case Western Reserve University, Cleveland, OH, USA. 91Department of Radiology and Nuclear Medicine, Erasmus MC University Medical Centre Rotterdam, Rotterdam, Netherlands. 92Department of Neurosurgery, Brain Tumor Center, Erasmus MC University Medical Centre Rotterdam, Rotterdam, Netherlands. 93Department of Neurology, Brain Tumor Center, Erasmus MC Cancer Institute, Rotterdam, Netherlands. 94Department of Pathology, Brain Tumor Center, Erasmus MC Cancer Institute, Rotterdam, Netherlands. 95Biomedical Imaging Group Rotterdam, Department of Radiology and Nuclear Medicine, Erasmus MC University Medical Centre Rotterdam, Rotterdam, Netherlands. 96Department of Radiation Oncology, Icahn School of Medicine at Mount Sinai, New York, NY, USA. 97NORLUX NeuroOncology Laboratory, Department of Cancer Research, Luxembourg Institute of Health, Luxembourg, Luxembourg. 98Translation Radiomics, Department of Cancer Research, Luxembourg Institute of Health, Luxembourg, Luxembourg. 99Luxembourg Center of Neuropathology, Laboratoire National De Santé, Luxembourg, Luxembourg. 100Department of Computer Science, Université de Sherbrooke, Sherbrooke, QC, Canada. 101Centre de Recherche du Centre Hospitalière Universitaire de Sherbrooke, Sherbrooke, QC, Canada. 102Division of Neurosurgery and Neuro-Oncology, Faculty of Medicine and Health Science, Université de Sherbrooke, Sherbrooke, QC, Canada. 103Department of Nuclear Medicine and Radiobiology, Sherbrooke Molecular Imaging Centre, Université de Sherbrooke, Sherbrooke, QC, Canada. 104Electrical and Computer Engineering, Vanderbilt University, Nashville, TN, USA. 105Department of Computer Science, Vanderbilt University, Nashville, TN, USA. 106Department of Neurosurgery, Vanderbilt University Medical Center, Nashville, TN, USA. 107Innovation Center for Biomedical Informatics (ICBI), Georgetown University, Washington, DC, USA. 108Division of Neuroradiology and Neurointerventional Radiology, Department of Radiology, MedStar Georgetown University Hospital, Washington, DC, USA. 109School of Biomedical Engineering and Imaging Sciences, King’s College London, London, UK. 110Department of Neuroradiology, Ruskin Wing, King’s College Hospital NHS Foundation Trust, London, UK. 111Stoke Mandeville Hospital, Mandeville Road, Aylesbury, UK. 112Department of Biomedical and Molecular Sciences, Queen’s University, Kingston, ON, Canada. 113Neosoma Inc., Groton, MA, USA. 114University of Cairo School of Medicine, Giza, Egypt. 115University of Bern, Bern, Switzerland. 116Department of Radiology, Asan Medical Center, Seoul, South Korea. 117The Clatterbridge Cancer Centre NHS Foundation Trust Pembroke Place, Liverpool, UK. 118Department of Radiology, University of Washington, Seattle, WA, USA. 119Netherlands Cancer Institute, Amsterdam, Netherlands. 120Department of Radiology, Netherlands Cancer Institute, Amsterdam, Netherlands. 121GROW School of Oncology and Developmental Biology, Maastricht, Netherlands. 122Clínica Imbanaco Grupo Quirón Salud, Cali, Colombia. 123Universidad del Valle, Cali, Colombia. 124The University of Edinburgh, Edinburgh, UK. 125Department of Industrial and Systems Engineering, University of Iowa, Iowa, USA. 126Department of Industrial and Systems Engineering, Department of Radiation Oncology, University of Iowa, Iowa City, IA, USA. 127Department of Radiation Oncology, University of Iowa, Iowa City, IA, USA. 128MD Anderson Cancer Center, University of Texas, Houston, TX, USA. 129Department of Quantitative Biomedicine, University of Zurich, Zurich, Switzerland. 130Department of Neurology, Clinical Neuroscience Center, University Hospital Zurich and University of Zurich, Zurich, Switzerland. 131Department of Neuroradiology, Clinical Neuroscience Center, University Hospital Zurich and University of Zurich, Zurich, Switzerland. 132University of Alabama in Birmingham, Birmingham, AL, USA. 133Department of Biomedical Informatics, Stony Brook University, Stony Brook, New York, USA. 134Department of Radiation Oncology, Stony Brook University, Stony Brook, NY, USA. 135Department of Radiology, Stony Brook University, Stony Brook, NY, USA. 136Scientific Data Group, Oak Ridge National Laboratory, Oak Ridge, TN, USA. 137Escuela Superior Politecnica del Litoral, Guayaquil, Guayas, Ecuador. 138Sociedad de Lucha Contral el Cancer - SOLCA, Guayaquil Ecuador, Guayaquil, Ecuador. 139Universidad Católica de Cuenca, Cuenca, Ecuador. 140Universidad de Concepción, Concepción, Biobío, Chile. 141School of Electronic Engineering and Computer Science, Queen Mary University of London, London, UK. 142Department of Radiology, University College Hospital Ibadan, Oyo, Nigeria. 143Clinix Healthcare, Lagos, Lagos, Nigeria. 144Department of Radiology, Muhammad Abdullahi Wase Teaching Hospital, Kano, Nigeria. 145Department of Radiology, Obafemi Awolowo University Ile-Ife, Ile-Ife, Osun, Nigeria. 146Center for Global Health, Perelman School of Medicine, University of Pennsylvania, Philadelphia, PA, USA. 147School of Computing, Queen’s University, Kingston, ON, Canada. 148Department of Electrical Engineering, Qazvin Branch, Islamic Azad University, Qazvin, Iran. 149The Faculty of Arts and Sciences, Queen’s University, Kingston, ON, Canada. 150Department of Oncology, Queen’s University, Kingston, ON, Canada. 151Center for Research and Innovation, American College of Radiology, Philadelphia, PA, USA. 152Data Science Institute, American College of Radiology, Reston, VA, USA. 153Center for Biomedical Informatics and Information Technology, National Cancer Institute (NCI), National Institute of Health, Bethesda, MD, USA 154Duke University 155Radiology Partners 156Google 157MLCommons 158Dana Farber Cancer Institute 159Flower Labs 160Vector Institute 161FDA 162Bostone Gene 163DDx Foundation 164National University of Singapore 165Georgia Tech 166USC\""
   ]
  },
  {
   "cell_type": "code",
   "execution_count": 34,
   "metadata": {},
   "outputs": [],
   "source": [
    "import re"
   ]
  },
  {
   "cell_type": "code",
   "execution_count": 35,
   "metadata": {},
   "outputs": [],
   "source": [
    "affiliations = [thing for thing in re.split(r'\\d',affiliations_string) if thing != '']"
   ]
  },
  {
   "cell_type": "code",
   "execution_count": 36,
   "metadata": {},
   "outputs": [
    {
     "data": {
      "text/plain": [
       "('SJTU-Ruijin-UIH Institute for Medical Imaging Technology, Ruijin Hospital, Shanghai Jiao Tong University School of Medicine, ',\n",
       " ' Shanghai, China. ')"
      ]
     },
     "execution_count": 36,
     "metadata": {},
     "output_type": "execute_result"
    }
   ],
   "source": [
    "affiliations[88], affiliations[89]"
   ]
  },
  {
   "cell_type": "code",
   "execution_count": 37,
   "metadata": {},
   "outputs": [],
   "source": [
    "# manually correcting for an occurance of an integer in an address\n",
    "affiliations = affiliations[:88] + [affiliations[88]+affiliations[89]] + affiliations[90:]"
   ]
  },
  {
   "cell_type": "code",
   "execution_count": 38,
   "metadata": {},
   "outputs": [
    {
     "data": {
      "text/plain": [
       "166"
      ]
     },
     "execution_count": 38,
     "metadata": {},
     "output_type": "execute_result"
    }
   ],
   "source": [
    "len(affiliations)"
   ]
  },
  {
   "cell_type": "code",
   "execution_count": 39,
   "metadata": {},
   "outputs": [
    {
     "data": {
      "text/plain": [
       "'USC'"
      ]
     },
     "execution_count": 39,
     "metadata": {},
     "output_type": "execute_result"
    }
   ],
   "source": [
    "affiliations[-1]"
   ]
  },
  {
   "cell_type": "code",
   "execution_count": 40,
   "metadata": {},
   "outputs": [],
   "source": [
    "affiliations_dict = {idx+1: affiliations[idx] for idx in range(len(affiliations))}"
   ]
  },
  {
   "cell_type": "code",
   "execution_count": 41,
   "metadata": {},
   "outputs": [
    {
     "data": {
      "text/plain": [
       "('Duke University ', 'Radiology Partners ')"
      ]
     },
     "execution_count": 41,
     "metadata": {},
     "output_type": "execute_result"
    }
   ],
   "source": [
    "affiliations_dict[154], affiliations_dict[155]\n"
   ]
  },
  {
   "cell_type": "code",
   "execution_count": null,
   "metadata": {},
   "outputs": [],
   "source": []
  },
  {
   "cell_type": "code",
   "execution_count": null,
   "metadata": {},
   "outputs": [],
   "source": []
  },
  {
   "cell_type": "code",
   "execution_count": null,
   "metadata": {},
   "outputs": [],
   "source": []
  },
  {
   "cell_type": "code",
   "execution_count": 126,
   "metadata": {},
   "outputs": [],
   "source": [
    "# NOW For the Collaborators\n",
    "# Jason Martin 5, Spyridon Bakas 1, Sarthak Pati 1, Ujjwal Baid 1, Brandon Edwards 5, Micah Sheller 5, Shih-Han Wang 5, G. Anthony Reina 5, Patrick Foley 5, Alexey Gruzdev 5, Deepthi Karkada 5"
   ]
  },
  {
   "cell_type": "code",
   "execution_count": 42,
   "metadata": {},
   "outputs": [],
   "source": [
    "# I have removed our core team: \n",
    "\n",
    "collaborator_string =  'Christos Davatzikos 1, Chiharu Sako 1, Satyam Ghodasara 2, Michel Bilello 1, Suyash Mohan 1, Philipp Vollmuth 6, Gianluca Brugnara 6, Chandrakanth J. Preetha 6, Felix Sahm 7, Klaus Maier-Hein 9, Maximilian Zenk 9, Martin Bendszus 6, Wolfgang Wick 7, Evan Calabrese 12, Jeffrey Rudie 12, Javier Villanueva-Meyer 12, Soonmee Cha 12, Madhura Ingalhalikar 13, Manali Jadhav 13, Umang Pandey 13, Jitender Saini 14, John Garrett 15, Matthew Larson 15, Robert Jeraj 15, Stuart Currie 17, Russell Frood 17, Kavi Fatania 17, Raymond Y. Huang 18, Ken Chang 19, Carmen Balaña 20, Jaume Capellades 21, Josep Puig 22, Johannes Trenkler 23, Josef Pichler 24, Georg Necker 23, Andreas Haunschmidt 23, Stephan Meckel 23, Gaurav Shukla 1, Spencer Liem 27, Gregory S. Alexander 28, Joseph Lombardo 27, Joshua D. Palmer 30, Adam E. Flanders 31, Adam P. Dicker 29, Haris I. Sair 32, Craig K. Jones 33, Archana Venkataraman 34, Meirui Jiang 35, Tiffany Y. So 35, Cheng Chen 35, Pheng Ann Heng 35, Qi Dou 35, Michal Kozubek 36, Filip Lux 36, Jan Michálek 36, Petr Matula 36, Miloš Keřkovský 37, Tereza Kopřivová 37, Marek Dostál 37, Václav Vybíhal 39, Michael A. Vogelbaum 40, J. Ross Mitchell 41, Joaquim Farinhas 43, Joseph A. Maldjian 44, Chandan Ganesh Bangalore Yogananda 44, Marco C. Pinho 44, Divya Reddy 44, James Holcomb 44, Benjamin C. Wagner 44, Benjamin M. Ellingson 45, Timothy F. Cloughesy 46, Catalina Raymond 45, Talia Oughourlian 45, Akifumi Hagiwara 47, Chencai Wang 47, Minh-Son To 48, Sargam Bhardwaj 48, Chee Chong 50, Marc Agzarian 50, Alexandre Xavier Falcão 52, Samuel B. Martins 53, Bernardo C. A. Teixeira 54, Flávia Sprenger 55, David Menotti 56, Diego R. Lucio 56, Pamela LaMontagne 57, Daniel Marcus 57, Benedikt Wiestler 58, Florian Kofler 58, Ivan Ezhov 4, Marie Metz 58, Rajan Jain 61, Matthew Lee 61, Yvonne W. Lui 61, Richard McKinley 63, Johannes Slotboom 63, Piotr Radojewski 63, Raphael Meier 63, Roland Wiest 63, Derrick Murcia 64, Eric Fu 64, Rourke Haas 64, John Thompson 64, David Ryan Ormond 64, Chaitra Badve 65, Andrew E. Sloan 66, Vachan Vadmal 68, Kristin Waite 69, Rivka R. Colen 70, Linmin Pei 72, Murat Ak 70, Ashok Srinivasan 73, J. Rajiv Bapuraj 73, Arvind Rao 74, Nicholas Wang 74, Ota Yoshiaki 73, Toshio Moritani 73, Sevcan Turk 73, Joonsang Lee 74, Snehal Prabhudesai 74, Fanny Morón 75, Jacob Mandel 51, Konstantinos Kamnitsas 76, Ben Glocker 76, Luke V. M. Dixon 78, Matthew Williams 79, Peter Zampakis 80, Vasileios Panagiotopoulos 81, Panagiotis Tsiganos 82, Sotiris Alexiou 83, Ilias Haliassos 84, Evangelia I. Zacharaki 83, Konstantinos Moustakas 83, Christina Kalogeropoulou 80, Dimitrios M. Kardamakis 85, Yoon Seong Choi 86, Seung-Koo Lee 86, Jong Hee Chang 86, Sung Soo Ahn 86, Bing Luo 87, Laila Poisson 88, Ning Wen 87, Pallavi Tiwari 90, Ruchika Verma 42, Rohan Bareja 90, Ipsa Yadav 90, Jonathan Chen 90, Neeraj Kumar 41, Marion Smits 91, Sebastian R. van der Voort 91, Ahmed Alafandi 91, Fatih Incekara 91, Maarten M. J. Wijnenga 93, Georgios Kapsas 91, Renske Gahrmann 91, Joost W. Schouten 92, Hendrikus J. Dubbink 94, Arnaud J. P. E. Vincent 92, Martin J. van den Bent 93, Pim J. French 93, Stefan Klein 95, Yading Yuan 96, Sonam Sharma 96, Tzu-Chi Tseng 96, Saba Adabi 96, Simone P. Niclou 97, Olivier Keunen 98, Ann-Christin Hau 97, Martin Vallières 100, David Fortin 101, Martin Lepage 101, Bennett Landman 104, Karthik Ramadass 104, Kaiwen Xu 105, Silky Chotai 106, Lola B. Chambless 106, Akshitkumar Mistry 106, Reid C. Thompson 106, Yuriy Gusev 107, Krithika Bhuvaneshwar 107, Anousheh Sayah 108, Camelia Bencheqroun 107, Anas Belouali 107, Subha Madhavan 107, Thomas C. Booth 109, Alysha Chelliah 109, Marc Modat 109, Haris Shuaib 111, Carmen Dragos 111, Aly Abayazeed 113, Kenneth Kolodziej 113, Michael Hill 113, Ahmed Abbassy 114, Shady Gamal 114, Mahmoud Mekhaimar 114, Mohamed Qayati 114, Mauricio Reyes 115, Ji Eun Park 116, Jihye Yun 116, Ho Sung Kim 116, Abhishek Mahajan 117, Mark Muzi 118, Sean Benson 119, Regina G. H. Beets-Tan 120, Jonas Teuwen 119, Alejandro Herrera-Trujillo 122, Maria Trujillo 123, William Escobar 122, Ana Abello 123, Jose Bernal 123, Jhon Gómez 123, Joseph Choi 125, Stephen Baek 126, Yusung Kim 127, Heba Ismael 127, Bryan Allen 127, John M. Buatti 127, Aikaterini Kotrotsou 128, Hongwei Li 129, Tobias Weiss 130, Michael Weller 130, Andrea Bink 131, Bertrand Pouymayou 131, Hassan F. Shaykh 132, Joel Saltz 133, Prateek Prasanna 133, Sampurna Shrestha 133, Kartik M. Mani 133, David Payne 135, Tahsin Kurc 133, Enrique Pelaez 137, Heydy Franco-Maldonado 138, Francis Loayza 137, Sebastian Quevedo 139, Pamela Guevara 140, Esteban Torche 140, Cristobal Mendoza 140, Franco Vera 140, Elvis Ríos 140, Eduardo López 140, Sergio A. Velastin 141, Godwin Ogbole 142, Mayowa Soneye 142, Dotun Oyekunle 142, Olubunmi Odafe-Oyibotha 143, Babatunde Osobu 142, Mustapha Shu’aibu 144, Adeleye Dorcas 145, Farouk Dako 2, Amber L. Simpson112 Mohammad Hamghalam 147, Jacob J. Peoples 147, Ricky Hu 147, Anh Tran 147, Danielle Cutler 149, Fabio Y. Moraes 150, Michael A. Boss 151, James Gimpel 151, Deepak Kattil Veettil 151, Kendall Schmidt 152, Brian Bialecki 152, Sailaja Marella 151, Cynthia Price 151, Lisa Cimino 151, Charles Apgar 151, Prashant Shah 5, Bjoern Menze 4, Jill S. Barnholtz-Sloan 69'"
   ]
  },
  {
   "cell_type": "code",
   "execution_count": 43,
   "metadata": {},
   "outputs": [],
   "source": [
    "collaborators_insts = collaborator_string.split(', ')"
   ]
  },
  {
   "cell_type": "code",
   "execution_count": 44,
   "metadata": {},
   "outputs": [],
   "source": [
    "col_inst_dict = {}\n",
    "for entry in collaborators_insts:\n",
    "    small_list = entry.split(' ')\n",
    "    col, inst = ' '.join(small_list[:-1]), small_list[-1]\n",
    "    # print(inst)\n",
    "    col_inst_dict[col] = inst"
   ]
  },
  {
   "cell_type": "code",
   "execution_count": 45,
   "metadata": {},
   "outputs": [
    {
     "data": {
      "text/plain": [
       "{'Christos Davatzikos': '1',\n",
       " 'Chiharu Sako': '1',\n",
       " 'Satyam Ghodasara': '2',\n",
       " 'Michel Bilello': '1',\n",
       " 'Suyash Mohan': '1',\n",
       " 'Philipp Vollmuth': '6',\n",
       " 'Gianluca Brugnara': '6',\n",
       " 'Chandrakanth J. Preetha': '6',\n",
       " 'Felix Sahm': '7',\n",
       " 'Klaus Maier-Hein': '9',\n",
       " 'Maximilian Zenk': '9',\n",
       " 'Martin Bendszus': '6',\n",
       " 'Wolfgang Wick': '7',\n",
       " 'Evan Calabrese': '12',\n",
       " 'Jeffrey Rudie': '12',\n",
       " 'Javier Villanueva-Meyer': '12',\n",
       " 'Soonmee Cha': '12',\n",
       " 'Madhura Ingalhalikar': '13',\n",
       " 'Manali Jadhav': '13',\n",
       " 'Umang Pandey': '13',\n",
       " 'Jitender Saini': '14',\n",
       " 'John Garrett': '15',\n",
       " 'Matthew Larson': '15',\n",
       " 'Robert Jeraj': '15',\n",
       " 'Stuart Currie': '17',\n",
       " 'Russell Frood': '17',\n",
       " 'Kavi Fatania': '17',\n",
       " 'Raymond Y. Huang': '18',\n",
       " 'Ken Chang': '19',\n",
       " 'Carmen Balaña': '20',\n",
       " 'Jaume Capellades': '21',\n",
       " 'Josep Puig': '22',\n",
       " 'Johannes Trenkler': '23',\n",
       " 'Josef Pichler': '24',\n",
       " 'Georg Necker': '23',\n",
       " 'Andreas Haunschmidt': '23',\n",
       " 'Stephan Meckel': '23',\n",
       " 'Gaurav Shukla': '1',\n",
       " 'Spencer Liem': '27',\n",
       " 'Gregory S. Alexander': '28',\n",
       " 'Joseph Lombardo': '27',\n",
       " 'Joshua D. Palmer': '30',\n",
       " 'Adam E. Flanders': '31',\n",
       " 'Adam P. Dicker': '29',\n",
       " 'Haris I. Sair': '32',\n",
       " 'Craig K. Jones': '33',\n",
       " 'Archana Venkataraman': '34',\n",
       " 'Meirui Jiang': '35',\n",
       " 'Tiffany Y. So': '35',\n",
       " 'Cheng Chen': '35',\n",
       " 'Pheng Ann Heng': '35',\n",
       " 'Qi Dou': '35',\n",
       " 'Michal Kozubek': '36',\n",
       " 'Filip Lux': '36',\n",
       " 'Jan Michálek': '36',\n",
       " 'Petr Matula': '36',\n",
       " 'Miloš Keřkovský': '37',\n",
       " 'Tereza Kopřivová': '37',\n",
       " 'Marek Dostál': '37',\n",
       " 'Václav Vybíhal': '39',\n",
       " 'Michael A. Vogelbaum': '40',\n",
       " 'J. Ross Mitchell': '41',\n",
       " 'Joaquim Farinhas': '43',\n",
       " 'Joseph A. Maldjian': '44',\n",
       " 'Chandan Ganesh Bangalore Yogananda': '44',\n",
       " 'Marco C. Pinho': '44',\n",
       " 'Divya Reddy': '44',\n",
       " 'James Holcomb': '44',\n",
       " 'Benjamin C. Wagner': '44',\n",
       " 'Benjamin M. Ellingson': '45',\n",
       " 'Timothy F. Cloughesy': '46',\n",
       " 'Catalina Raymond': '45',\n",
       " 'Talia Oughourlian': '45',\n",
       " 'Akifumi Hagiwara': '47',\n",
       " 'Chencai Wang': '47',\n",
       " 'Minh-Son To': '48',\n",
       " 'Sargam Bhardwaj': '48',\n",
       " 'Chee Chong': '50',\n",
       " 'Marc Agzarian': '50',\n",
       " 'Alexandre Xavier Falcão': '52',\n",
       " 'Samuel B. Martins': '53',\n",
       " 'Bernardo C. A. Teixeira': '54',\n",
       " 'Flávia Sprenger': '55',\n",
       " 'David Menotti': '56',\n",
       " 'Diego R. Lucio': '56',\n",
       " 'Pamela LaMontagne': '57',\n",
       " 'Daniel Marcus': '57',\n",
       " 'Benedikt Wiestler': '58',\n",
       " 'Florian Kofler': '58',\n",
       " 'Ivan Ezhov': '4',\n",
       " 'Marie Metz': '58',\n",
       " 'Rajan Jain': '61',\n",
       " 'Matthew Lee': '61',\n",
       " 'Yvonne W. Lui': '61',\n",
       " 'Richard McKinley': '63',\n",
       " 'Johannes Slotboom': '63',\n",
       " 'Piotr Radojewski': '63',\n",
       " 'Raphael Meier': '63',\n",
       " 'Roland Wiest': '63',\n",
       " 'Derrick Murcia': '64',\n",
       " 'Eric Fu': '64',\n",
       " 'Rourke Haas': '64',\n",
       " 'John Thompson': '64',\n",
       " 'David Ryan Ormond': '64',\n",
       " 'Chaitra Badve': '65',\n",
       " 'Andrew E. Sloan': '66',\n",
       " 'Vachan Vadmal': '68',\n",
       " 'Kristin Waite': '69',\n",
       " 'Rivka R. Colen': '70',\n",
       " 'Linmin Pei': '72',\n",
       " 'Murat Ak': '70',\n",
       " 'Ashok Srinivasan': '73',\n",
       " 'J. Rajiv Bapuraj': '73',\n",
       " 'Arvind Rao': '74',\n",
       " 'Nicholas Wang': '74',\n",
       " 'Ota Yoshiaki': '73',\n",
       " 'Toshio Moritani': '73',\n",
       " 'Sevcan Turk': '73',\n",
       " 'Joonsang Lee': '74',\n",
       " 'Snehal Prabhudesai': '74',\n",
       " 'Fanny Morón': '75',\n",
       " 'Jacob Mandel': '51',\n",
       " 'Konstantinos Kamnitsas': '76',\n",
       " 'Ben Glocker': '76',\n",
       " 'Luke V. M. Dixon': '78',\n",
       " 'Matthew Williams': '79',\n",
       " 'Peter Zampakis': '80',\n",
       " 'Vasileios Panagiotopoulos': '81',\n",
       " 'Panagiotis Tsiganos': '82',\n",
       " 'Sotiris Alexiou': '83',\n",
       " 'Ilias Haliassos': '84',\n",
       " 'Evangelia I. Zacharaki': '83',\n",
       " 'Konstantinos Moustakas': '83',\n",
       " 'Christina Kalogeropoulou': '80',\n",
       " 'Dimitrios M. Kardamakis': '85',\n",
       " 'Yoon Seong Choi': '86',\n",
       " 'Seung-Koo Lee': '86',\n",
       " 'Jong Hee Chang': '86',\n",
       " 'Sung Soo Ahn': '86',\n",
       " 'Bing Luo': '87',\n",
       " 'Laila Poisson': '88',\n",
       " 'Ning Wen': '87',\n",
       " 'Pallavi Tiwari': '90',\n",
       " 'Ruchika Verma': '42',\n",
       " 'Rohan Bareja': '90',\n",
       " 'Ipsa Yadav': '90',\n",
       " 'Jonathan Chen': '90',\n",
       " 'Neeraj Kumar': '41',\n",
       " 'Marion Smits': '91',\n",
       " 'Sebastian R. van der Voort': '91',\n",
       " 'Ahmed Alafandi': '91',\n",
       " 'Fatih Incekara': '91',\n",
       " 'Maarten M. J. Wijnenga': '93',\n",
       " 'Georgios Kapsas': '91',\n",
       " 'Renske Gahrmann': '91',\n",
       " 'Joost W. Schouten': '92',\n",
       " 'Hendrikus J. Dubbink': '94',\n",
       " 'Arnaud J. P. E. Vincent': '92',\n",
       " 'Martin J. van den Bent': '93',\n",
       " 'Pim J. French': '93',\n",
       " 'Stefan Klein': '95',\n",
       " 'Yading Yuan': '96',\n",
       " 'Sonam Sharma': '96',\n",
       " 'Tzu-Chi Tseng': '96',\n",
       " 'Saba Adabi': '96',\n",
       " 'Simone P. Niclou': '97',\n",
       " 'Olivier Keunen': '98',\n",
       " 'Ann-Christin Hau': '97',\n",
       " 'Martin Vallières': '100',\n",
       " 'David Fortin': '101',\n",
       " 'Martin Lepage': '101',\n",
       " 'Bennett Landman': '104',\n",
       " 'Karthik Ramadass': '104',\n",
       " 'Kaiwen Xu': '105',\n",
       " 'Silky Chotai': '106',\n",
       " 'Lola B. Chambless': '106',\n",
       " 'Akshitkumar Mistry': '106',\n",
       " 'Reid C. Thompson': '106',\n",
       " 'Yuriy Gusev': '107',\n",
       " 'Krithika Bhuvaneshwar': '107',\n",
       " 'Anousheh Sayah': '108',\n",
       " 'Camelia Bencheqroun': '107',\n",
       " 'Anas Belouali': '107',\n",
       " 'Subha Madhavan': '107',\n",
       " 'Thomas C. Booth': '109',\n",
       " 'Alysha Chelliah': '109',\n",
       " 'Marc Modat': '109',\n",
       " 'Haris Shuaib': '111',\n",
       " 'Carmen Dragos': '111',\n",
       " 'Aly Abayazeed': '113',\n",
       " 'Kenneth Kolodziej': '113',\n",
       " 'Michael Hill': '113',\n",
       " 'Ahmed Abbassy': '114',\n",
       " 'Shady Gamal': '114',\n",
       " 'Mahmoud Mekhaimar': '114',\n",
       " 'Mohamed Qayati': '114',\n",
       " 'Mauricio Reyes': '115',\n",
       " 'Ji Eun Park': '116',\n",
       " 'Jihye Yun': '116',\n",
       " 'Ho Sung Kim': '116',\n",
       " 'Abhishek Mahajan': '117',\n",
       " 'Mark Muzi': '118',\n",
       " 'Sean Benson': '119',\n",
       " 'Regina G. H. Beets-Tan': '120',\n",
       " 'Jonas Teuwen': '119',\n",
       " 'Alejandro Herrera-Trujillo': '122',\n",
       " 'Maria Trujillo': '123',\n",
       " 'William Escobar': '122',\n",
       " 'Ana Abello': '123',\n",
       " 'Jose Bernal': '123',\n",
       " 'Jhon Gómez': '123',\n",
       " 'Joseph Choi': '125',\n",
       " 'Stephen Baek': '126',\n",
       " 'Yusung Kim': '127',\n",
       " 'Heba Ismael': '127',\n",
       " 'Bryan Allen': '127',\n",
       " 'John M. Buatti': '127',\n",
       " 'Aikaterini Kotrotsou': '128',\n",
       " 'Hongwei Li': '129',\n",
       " 'Tobias Weiss': '130',\n",
       " 'Michael Weller': '130',\n",
       " 'Andrea Bink': '131',\n",
       " 'Bertrand Pouymayou': '131',\n",
       " 'Hassan F. Shaykh': '132',\n",
       " 'Joel Saltz': '133',\n",
       " 'Prateek Prasanna': '133',\n",
       " 'Sampurna Shrestha': '133',\n",
       " 'Kartik M. Mani': '133',\n",
       " 'David Payne': '135',\n",
       " 'Tahsin Kurc': '133',\n",
       " 'Enrique Pelaez': '137',\n",
       " 'Heydy Franco-Maldonado': '138',\n",
       " 'Francis Loayza': '137',\n",
       " 'Sebastian Quevedo': '139',\n",
       " 'Pamela Guevara': '140',\n",
       " 'Esteban Torche': '140',\n",
       " 'Cristobal Mendoza': '140',\n",
       " 'Franco Vera': '140',\n",
       " 'Elvis Ríos': '140',\n",
       " 'Eduardo López': '140',\n",
       " 'Sergio A. Velastin': '141',\n",
       " 'Godwin Ogbole': '142',\n",
       " 'Mayowa Soneye': '142',\n",
       " 'Dotun Oyekunle': '142',\n",
       " 'Olubunmi Odafe-Oyibotha': '143',\n",
       " 'Babatunde Osobu': '142',\n",
       " 'Mustapha Shu’aibu': '144',\n",
       " 'Adeleye Dorcas': '145',\n",
       " 'Farouk Dako': '2',\n",
       " 'Amber L. Simpson112 Mohammad Hamghalam': '147',\n",
       " 'Jacob J. Peoples': '147',\n",
       " 'Ricky Hu': '147',\n",
       " 'Anh Tran': '147',\n",
       " 'Danielle Cutler': '149',\n",
       " 'Fabio Y. Moraes': '150',\n",
       " 'Michael A. Boss': '151',\n",
       " 'James Gimpel': '151',\n",
       " 'Deepak Kattil Veettil': '151',\n",
       " 'Kendall Schmidt': '152',\n",
       " 'Brian Bialecki': '152',\n",
       " 'Sailaja Marella': '151',\n",
       " 'Cynthia Price': '151',\n",
       " 'Lisa Cimino': '151',\n",
       " 'Charles Apgar': '151',\n",
       " 'Prashant Shah': '5',\n",
       " 'Bjoern Menze': '4',\n",
       " 'Jill S. Barnholtz-Sloan': '69'}"
      ]
     },
     "execution_count": 45,
     "metadata": {},
     "output_type": "execute_result"
    }
   ],
   "source": [
    "col_inst_dict"
   ]
  },
  {
   "cell_type": "code",
   "execution_count": 46,
   "metadata": {},
   "outputs": [],
   "source": [
    "import pandas as pd\n",
    " "
   ]
  },
  {
   "cell_type": "code",
   "execution_count": null,
   "metadata": {},
   "outputs": [],
   "source": [
    "# I did a search in the large paper on collaborators listed by Evan\n",
    "\n",
    "# The following were found:\n",
    "# Javier Villanueva-Meyer\n",
    "#  Jeffrey Rudie\n",
    " \n"
   ]
  },
  {
   "cell_type": "code",
   "execution_count": 48,
   "metadata": {},
   "outputs": [
    {
     "data": {
      "text/plain": [
       "286"
      ]
     },
     "execution_count": 48,
     "metadata": {},
     "output_type": "execute_result"
    }
   ],
   "source": [
    "key_person = []\n",
    "individual = []\n",
    "affiliation_of_individual = []\n",
    "reason = []\n",
    "years_interaction = []\n",
    "\n",
    "\n",
    "\n",
    "for col, inst_str in col_inst_dict.items():\n",
    "    #print(inst_str)\n",
    "    #print(col)\n",
    "    key_person.append('BE, MS, SB, SP, UB, EC') # Brandon Edwards, Micah Sceller, Spyros Bakas, Sarthak Pati, Ujjwal Baid, Evan Calabrese')\n",
    "    individual.append(col)\n",
    "    affiliation_of_individual.append(inst_str)\n",
    "    reason.append('co-author')\n",
    "    years_interaction.append('2022-2023')\n",
    "\n",
    "\n",
    "# Now manually insert the extra rows coming from Evan\n",
    "key_person.extend(5*['EC'] + 2*['DLB'] + 9*['MS'] + 3*['BE'])\n",
    "individual.extend(['G. Allan Johnson', \n",
    "                   'Andreas Rauschecker', \n",
    "                   'John Mongan', \n",
    "                   'Walter Wiggins', \n",
    "                   'Maciej Mazuroski', \n",
    "                   'John Kirkpatric', \n",
    "                   'Zachery Reitman', \n",
    "                   'Peter Mattson', \n",
    "                   'Alex Karargyris', \n",
    "                   'Renato Umeton', \n",
    "                   'Daniel Beutel',\n",
    "                    'Nicholas Papernot',\n",
    "                    'Nic Lane',\n",
    "                    'Brandon Gallas',\n",
    "                    'Joe Lennerz',\n",
    "                    'Matt Leavitt', \n",
    "                    'Reza Shokri', \n",
    "                    'Faramarz Fekri', \n",
    "                    'Salman Avestimehr'])\n",
    "affiliation_of_individual.extend(['154', \n",
    "                                  '12', \n",
    "                                  '12', \n",
    "                                  '155', \n",
    "                                  '154', \n",
    "                                  '154', \n",
    "                                  '154', \n",
    "                                  '156', \n",
    "                                  '157', \n",
    "                                  '158', \n",
    "                                  '159', \n",
    "                                  '160', \n",
    "                                  '159', \n",
    "                                  '161', \n",
    "                                  '162', \n",
    "                                  '163', \n",
    "                                  '164', \n",
    "                                  '165', \n",
    "                                  '166'])\n",
    "reason.extend(['mentor', \n",
    "               'co-author', \n",
    "               'co-author', \n",
    "               'collaborator', \n",
    "               'mentor', \n",
    "               'mentor', \n",
    "               'mentor', \n",
    "               'collaborator', \n",
    "               'collaborator', \n",
    "               'collaborator', \n",
    "               'collaborator', \n",
    "               'advisee', \n",
    "               'collaborator', \n",
    "               'collaborator', \n",
    "               'collaborator', \n",
    "               'collaborator', \n",
    "               'collaborator', \n",
    "               'collaborator', \n",
    "               'collaborator'])\n",
    "years_interaction.extend(['2011-present', \n",
    "                          '2018-present', \n",
    "                          '2020-2022', \n",
    "                          '2022-present', \n",
    "                          '2022-present', \n",
    "                          '2022-present', \n",
    "                          '2022-present', \n",
    "                          '2022-2024', \n",
    "                          '2022-2024', \n",
    "                          '2022-2024', \n",
    "                           '2022-2024',\n",
    "                           '2022-2024', \n",
    "                           '2022-2024', \n",
    "                           '2023-2024', \n",
    "                           '2023-2024', \n",
    "                           '2023-2024', \n",
    "                           '2022-2024', \n",
    "                           '2022-2024', \n",
    "                           '2022-2024'])\n",
    "\n",
    "\n",
    "\n",
    "df = pd.DataFrame({'Key Person': key_person,\n",
    "                   'Individual': individual, \n",
    "                   'Affiliation': affiliation_of_individual, \n",
    "                   'Reason': reason, \n",
    "                   'Interaction': years_interaction})\n",
    "\n",
    "len(df)"
   ]
  },
  {
   "cell_type": "code",
   "execution_count": 49,
   "metadata": {},
   "outputs": [
    {
     "data": {
      "text/plain": [
       "166"
      ]
     },
     "execution_count": 49,
     "metadata": {},
     "output_type": "execute_result"
    }
   ],
   "source": [
    " # Print the key to inst number to inst name\n",
    "\n",
    "key_df = pd.DataFrame({'Affiliation': list(affiliations_dict.keys()), \n",
    "                      'Affiliation Details': list(affiliations_dict.values())})\n",
    "len(key_df)"
   ]
  },
  {
   "cell_type": "code",
   "execution_count": 16,
   "metadata": {},
   "outputs": [],
   "source": [
    "column_format='p{0.65in}|p{5.75in}'"
   ]
  },
  {
   "cell_type": "code",
   "execution_count": null,
   "metadata": {},
   "outputs": [],
   "source": []
  },
  {
   "cell_type": "code",
   "execution_count": null,
   "metadata": {},
   "outputs": [],
   "source": []
  },
  {
   "cell_type": "code",
   "execution_count": null,
   "metadata": {},
   "outputs": [],
   "source": [
    "\"\"\"\n",
    "Below is the work I did to put the data into word docs\n",
    "\n",
    "\"\"\""
   ]
  },
  {
   "cell_type": "code",
   "execution_count": 50,
   "metadata": {},
   "outputs": [],
   "source": [
    "\"\"\"\n",
    "Function to spit out tables into a word doc\n",
    "\n",
    "\"\"\"\n",
    "\n",
    "import docx\n",
    "\n",
    "def dataframe_to_word(df, path='/home/edwardsb/temp/test.docx'):\n",
    "    # open an existing document\n",
    "    doc = docx.Document(path)\n",
    "\n",
    "    # add a table to the end and create a reference variable\n",
    "    # extra row is so we can add the header row\n",
    "    t = doc.add_table(df.shape[0]+1, df.shape[1])\n",
    "\n",
    "    # add the header rows.\n",
    "    for j in range(df.shape[-1]):\n",
    "        t.cell(0,j).text = df.columns[j]\n",
    "\n",
    "    # add the rest of the data frame\n",
    "    for i in range(df.shape[0]):\n",
    "        for j in range(df.shape[-1]):\n",
    "            t.cell(i+1,j).text = str(df.values[i,j])\n",
    "\n",
    "    # save the doc\n",
    "    doc.save(path)"
   ]
  },
  {
   "cell_type": "code",
   "execution_count": 29,
   "metadata": {},
   "outputs": [],
   "source": [
    "dataframe_to_word(key_df, '/raid/edwardsb/projects/new_project_exploration/doe_2024/AffiliationLegend.docx')"
   ]
  },
  {
   "cell_type": "code",
   "execution_count": 30,
   "metadata": {},
   "outputs": [],
   "source": [
    "name_abreviations_df = pd.DataFrame({'Abbreviation': ['BE', 'MS', 'SB', 'SP', 'UB', 'EC', 'DLB'], \n",
    "                                     'Key Person': ['Brandon Edwards', 'Micah Sheller', 'Spyros Bakas', 'Sarthak Pati', 'Ujjwal Baid', 'Evan Calabrese', 'Dominic LaBella']})"
   ]
  },
  {
   "cell_type": "code",
   "execution_count": 31,
   "metadata": {},
   "outputs": [],
   "source": [
    "dataframe_to_word(name_abreviations_df, '/raid/edwardsb/projects/new_project_exploration/doe_2024/KeyPersonLegend.docx')"
   ]
  },
  {
   "cell_type": "code",
   "execution_count": 32,
   "metadata": {},
   "outputs": [],
   "source": [
    "dataframe_to_word(df, '/raid/edwardsb/projects/new_project_exploration/doe_2024/ReviewerExceptionList.docx')"
   ]
  },
  {
   "cell_type": "code",
   "execution_count": null,
   "metadata": {},
   "outputs": [],
   "source": [
    "\"\"\"\n",
    "Above is the work I did to put the data into word docs\n",
    "\n",
    "Below I still have code for putting into latex\n",
    "\"\"\""
   ]
  },
  {
   "cell_type": "code",
   "execution_count": null,
   "metadata": {},
   "outputs": [],
   "source": []
  },
  {
   "cell_type": "code",
   "execution_count": 288,
   "metadata": {},
   "outputs": [
    {
     "name": "stdout",
     "output_type": "stream",
     "text": [
      "\\begin{tabular}{p{0.65in}|p{5.75in}}\n",
      "\\toprule\n",
      "Affiliation & Affiliation Details \\\\\n",
      "\\midrule\n",
      "1 & Center for Biomedical Image Computing and Analytics (CBICA), University of Pennsylvania, Philadelphia, PA, USA.  \\\\\n",
      "2 &  Department of Radiology, Perelman School of Medicine, University of Pennsylvania, Philadelphia, PA, USA.  \\\\\n",
      "3 &  Department of Pathology and Laboratory Medicine, Perelman School of Medicine, University of Pennsylvania, Philadelphia, PA, USA.  \\\\\n",
      "4 &  Department of Informatics, Technical University of Munich, Munich, Bavaria, Germany.  \\\\\n",
      "5 &  Intel Corporation, Santa Clara, CA, USA.  \\\\\n",
      "6 &  Department of Neuroradiology, Heidelberg University Hospital, Heidelberg, Germany.  \\\\\n",
      "7 &  Clinical Cooperation Unit Neuropathology, German Cancer Consortium (DKTK) within the German Cancer Research Center (DKFZ), Heidelberg, Germany.  \\\\\n",
      "8 &  Department of Neuropathology, Heidelberg University Hospital, Heidelberg, Germany.  \\\\\n",
      "9 &  Division of Medical Image Computing, German Cancer Research Center, Heidelberg, Germany.  \\\\\n",
      "10 & Pattern Analysis and Learning Group, Department of Radiation Oncology, Heidelberg University Hospital, Heidelberg, Germany.  \\\\\n",
      "11 & Neurology Clinic, Heidelberg University Hospital, Heidelberg, Germany.  \\\\\n",
      "12 & Department of Radiology & Biomedical Imaging, University of California San Francisco, San Francisco, CA, USA.  \\\\\n",
      "13 & Symbiosis Center for Medical Image Analysis, Symbiosis International University, Pune, Maharashtra, India.  \\\\\n",
      "14 & Department of Neuroimaging and Interventional Radiology, National Institute of Mental Health and Neurosciences, Bangalore, Karnataka, India.  \\\\\n",
      "15 & Department of Radiology, School of Medicine and Public Health, University of Wisconsin, Madison, WI, USA.  \\\\\n",
      "16 & Department of Medical Physics, School of Medicine and Public Health, University of Wisconsin, Madison, WI, USA.  \\\\\n",
      "17 & Leeds Teaching Hospitals Trust, Department of Radiology, Leeds, UK.  \\\\\n",
      "18 & Department of Radiology, Brigham and Women’s Hospital, Harvard Medical School, Boston, MA, USA.  \\\\\n",
      "19 & Athinoula A. Martinos Center for Biomedical Imaging, Massachusetts General Hospital, Charlestown, MA, USA.  \\\\\n",
      "20 & Catalan Institute of Oncology, Badalona, Spain.  \\\\\n",
      "21 & Consorci MAR Parc de Salut de Barcelona, Catalonia, Spain.  \\\\\n",
      "22 & Department of Radiology (IDI), Girona Biomedical Research Institute (IdIBGi), Josep Trueta University Hospital, Girona, Spain.  \\\\\n",
      "23 & Institute of Neuroradiology, Neuromed Campus (NMC), Kepler University Hospital Linz, Linz, Austria.  \\\\\n",
      "24 & Department of Neurooncology, Neuromed Campus (NMC), Kepler University Hospital Linz, Linz, Austria.  \\\\\n",
      "25 & Institute of Diagnostic and Interventional Neuroradiology, RKH Klinikum Ludwigsburg, Ludwigsburg, Germany.  \\\\\n",
      "26 & Department of Radiation Oncology, Christiana Care Health System, Philadelphia, PA, USA.  \\\\\n",
      "27 & Sidney Kimmel Medical College, Thomas Jefferson University, Philadelphia, PA, USA.  \\\\\n",
      "28 & Department of Radiation Oncology, University of Maryland, Baltimore, MD, USA.  \\\\\n",
      "29 & Department of Radiation Oncology, Sidney Kimmel Cancer Center, Thomas Jefferson University, Philadelphia, PA, USA.  \\\\\n",
      "30 & Department of Radiation Oncology, The James Cancer Hospital and Solove Research Institute, The Ohio State University Comprehensive Cancer Center, Columbus, OH, USA.  \\\\\n",
      "\\bottomrule\n",
      "\\end{tabular}\n",
      "\n"
     ]
    }
   ],
   "source": [
    "# Key Part 1\n",
    "print(key_df[0:30].to_latex(index=False, column_format=column_format)) # Key Part 1"
   ]
  },
  {
   "cell_type": "code",
   "execution_count": 294,
   "metadata": {},
   "outputs": [
    {
     "name": "stdout",
     "output_type": "stream",
     "text": [
      "\\begin{tabular}{p{0.65in}|p{5.75in}}\n",
      "\\toprule\n",
      "Affiliation & Affiliation Details \\\\\n",
      "\\midrule\n",
      "31 & Department of Radiology, Sidney Kimmel Cancer Center, Thomas Jefferson University, Philadelphia, PA, USA.  \\\\\n",
      "32 & The Russell H. Morgan Department of Radiology and Radiological Science, Johns Hopkins University School of Medicine, Baltimore, MD, USA.  \\\\\n",
      "33 & The Malone Center for Engineering in Healthcare, The Whiting School of Engineering, Johns Hopkins University, Baltimore, MD, USA.  \\\\\n",
      "34 & Department of Electrical and Computer Engineering, Whiting School of Engineering, Johns Hopkins University, Baltimore, MD, USA.  \\\\\n",
      "35 & The Chinese University of Hong Kong, Hong Kong, China.  \\\\\n",
      "36 & Centre for Biomedical Image Analysis, Faculty of Informatics, Masaryk University, Brno, Czech Republic.  \\\\\n",
      "37 & Department of Radiology and Nuclear Medicine, Faculty of Medicine, Masaryk University, Brno and University Hospital Brno, Brno, Czech Republic.  \\\\\n",
      "38 & Department of Biophysics, Faculty of Medicine, Masaryk University, Brno, Czech Republic.  \\\\\n",
      "39 & Department of Neurosurgery, Faculty of Medicine, Masaryk University, Brno, and University Hospital and Czech Republic, Brno, Czech Republic.  \\\\\n",
      "40 & Department of Neuro Oncology, H. Lee Moffitt Cancer Center and Research Institute, Tampa, FL, USA.  \\\\\n",
      "41 & University of Alberta, Edmonton, AB, Canada.  \\\\\n",
      "42 & Alberta Machine Intelligence Institute, Edmonton, AB, Canada.  \\\\\n",
      "43 & Department of Radiology, H. Lee Moffitt Cancer Center and Research Institute, Tampa, FL, USA.  \\\\\n",
      "44 & University of Texas Southwestern Medical Center, Dallas, TX, USA.  \\\\\n",
      "45 & UCLA Brain Tumor Imaging Laboratory (BTIL), Center for Computer Vision and Imaging Biomarkers, Department of Radiological Sciences, David Geffen School of Medicine, University of California Los Angeles, Los Angeles, CA, USA.  \\\\\n",
      "46 & UCLA Neuro-Oncology Program, Department of Neurology, David Geffen School of Medicine, University of California Los Angeles, Los Angeles, CaA, USA.  \\\\\n",
      "47 & Department of Radiological Sciences, David Geffen School of Medicine, University of California Los Angeles, Los Angeles, CA, USA.  \\\\\n",
      "48 & College of Medicine and Public Health, Flinders University, Bedford Park, SA, Australia.  \\\\\n",
      "49 & Division of Surgery and Perioperative Medicine, Flinders Medical Centre, Bedford Park, SA, Australia.  \\\\\n",
      "50 & South Australia Medical Imaging, Flinders Medical Centre, Bedford Park, SA, Australia.  \\\\\n",
      "51 & Department of Neurology, Baylor College of Medicine, Houston, TX, USA.  \\\\\n",
      "52 & Institute of Computing, University of Campinas, Campinas, São Paulo, Brazil.  \\\\\n",
      "53 & Federal Institute of São Paulo, Campinas, São Paulo, Brazil.  \\\\\n",
      "54 & Instituto de Neurologia de Curitiba, Curitiba, Paraná, Brazil.  \\\\\n",
      "55 & Department of Radiology, Hospital de Clínicas da Universidade Federal do Paraná, Curitiba, Paraná, Brazil.  \\\\\n",
      "56 & Department of Informatics, Universidade Federal do Paraná, Curitiba, Paraná, Brazil.  \\\\\n",
      "57 & Department of Radiology, Washington University in St. Louis, St. Louis, MO, USA.  \\\\\n",
      "58 & Department of Diagnostic and Interventional Neuroradiology, School of Medicine, Klinikum rechts der Isar, Technical University of Munich, Munich, Germany.  \\\\\n",
      "59 & TranslaTUM (Zentralinstitut für translationale Krebsforschung der Technischen Universität München), Klinikum rechts der Isar, Munich, Germany.  \\\\\n",
      "60 & Image-Based Biomedical Modeling, Department of Informatics, Technical University of Munich, Munich, Germany.  \\\\\n",
      "\\bottomrule\n",
      "\\end{tabular}\n",
      "\n"
     ]
    }
   ],
   "source": [
    "# Key Part 2\n",
    "print(key_df[30:60].to_latex(index=False, column_format=column_format)) # Key Part 2"
   ]
  },
  {
   "cell_type": "code",
   "execution_count": 298,
   "metadata": {},
   "outputs": [
    {
     "name": "stdout",
     "output_type": "stream",
     "text": [
      "\\begin{tabular}{p{0.65in}|p{5.75in}}\n",
      "\\toprule\n",
      "Affiliation & Affiliation Details \\\\\n",
      "\\midrule\n",
      "61 & Department of Radiology, NYU Grossman School of Medicine, New York, NY, USA.  \\\\\n",
      "62 & Department of Neurosurgery, NYU Grossman School of Medicine, New York, NY, USA.  \\\\\n",
      "63 & Support Center for Advanced Neuroimaging, University Institute of Diagnostic and Interventional Neuroradiology, University Hospital Bern, Inselspital, University of Bern, Bern, Switzerland.  \\\\\n",
      "64 & Department of Neurosurgery, Anschutz Medical Campus, University of Colorado, Aurora, CO, USA.  \\\\\n",
      "65 & Department of Radiology, University Hospitals Cleveland, Cleveland, OH, USA.  \\\\\n",
      "66 & Department of Neurological Surgery, University Hospitals-Seidman Cancer Center, Cleveland, OH, USA.  \\\\\n",
      "67 & Case Comprehensive Cancer Center, Cleveland, OH, USA.  \\\\\n",
      "68 & Department of Neurosurgery, Case Western Reserve University School of Medicine, Cleveland, OH, USA.  \\\\\n",
      "69 & National Cancer Institute, National Institute of Health, Division of Cancer Epidemiology and Genetics, Bethesda, MD, USA.  \\\\\n",
      "70 & Department of Radiology, Neuroradiology Division, University of Pittsburgh, Pittsburgh, PA, USA.  \\\\\n",
      "71 & Department of Diagnostic Radiology, University of Texas MD Anderson Cancer Center, Houston, TX, USA.  \\\\\n",
      "72 & University of Pittsburgh Medical Center, Pittsburgh, PA, USA.  \\\\\n",
      "73 & Department of Neuroradiology, University of Michigan, Ann Arbor, MI, USA.  \\\\\n",
      "74 & Department of Computational Medicine and Bioinformatics, University of Michigan, Ann Arbor, MI, USA.  \\\\\n",
      "75 & Department of Radiology, Baylor College of Medicine, Houston, TX, USA.  \\\\\n",
      "76 & Department of Computing, Imperial College London, London, UK.  \\\\\n",
      "77 & Institute of Biomedical Engineering, Department of Engineering Science, University of Oxford, Oxford, UK.  \\\\\n",
      "78 & Department of Radiology, Imperial College NHS Healthcare Trust, London, UK.  \\\\\n",
      "79 & Computational Oncology Group, Institute for Global Health Innovation, Imperial College London, London, UK.  \\\\\n",
      "80 & Department of NeuroRadiology, University of Patras, Patras, Greece.  \\\\\n",
      "81 & Department of Neurosurgery, University of Patras, Patras, Greece.  \\\\\n",
      "82 & Clinical Radiology Laboratory, Department of Medicine, University of Patras, Patras, Greece.  \\\\\n",
      "83 & Department of Electrical and Computer Engineering, University of Patras, Patras, Greece.  \\\\\n",
      "84 & Department of Neuro-Oncology, University of Patras, Patras, Greece.  \\\\\n",
      "85 & Department of Radiation Oncology, University of Patras, Patras, Greece.  \\\\\n",
      "86 & Yonsei University College of Medicine, Seoul, Korea.  \\\\\n",
      "87 & Department of Radiation Oncology, Henry Ford Health System, Detroit, MI, USA.  \\\\\n",
      "88 & Public Health Sciences, Henry Ford Health System, Detroit, MI, USA.  \\\\\n",
      "89 & SJTU-Ruijin-UIH Institute for Medical Imaging Technology, Ruijin Hospital, Shanghai Jiao Tong University School of Medicine,  Shanghai, China.  \\\\\n",
      "90 & Case Western Reserve University, Cleveland, OH, USA.  \\\\\n",
      "\\bottomrule\n",
      "\\end{tabular}\n",
      "\n"
     ]
    }
   ],
   "source": [
    "# Key Part 3\n",
    "print(key_df[60:90].to_latex(index=False, column_format=column_format)) # Key Part 3"
   ]
  },
  {
   "cell_type": "code",
   "execution_count": 299,
   "metadata": {},
   "outputs": [
    {
     "name": "stdout",
     "output_type": "stream",
     "text": [
      "\\begin{tabular}{p{0.65in}|p{5.75in}}\n",
      "\\toprule\n",
      "Affiliation & Affiliation Details \\\\\n",
      "\\midrule\n",
      "91 & Department of Radiology and Nuclear Medicine, Erasmus MC University Medical Centre Rotterdam, Rotterdam, Netherlands.  \\\\\n",
      "92 & Department of Neurosurgery, Brain Tumor Center, Erasmus MC University Medical Centre Rotterdam, Rotterdam, Netherlands.  \\\\\n",
      "93 & Department of Neurology, Brain Tumor Center, Erasmus MC Cancer Institute, Rotterdam, Netherlands.  \\\\\n",
      "94 & Department of Pathology, Brain Tumor Center, Erasmus MC Cancer Institute, Rotterdam, Netherlands.  \\\\\n",
      "95 & Biomedical Imaging Group Rotterdam, Department of Radiology and Nuclear Medicine, Erasmus MC University Medical Centre Rotterdam, Rotterdam, Netherlands.  \\\\\n",
      "96 & Department of Radiation Oncology, Icahn School of Medicine at Mount Sinai, New York, NY, USA.  \\\\\n",
      "97 & NORLUX NeuroOncology Laboratory, Department of Cancer Research, Luxembourg Institute of Health, Luxembourg, Luxembourg.  \\\\\n",
      "98 & Translation Radiomics, Department of Cancer Research, Luxembourg Institute of Health, Luxembourg, Luxembourg.  \\\\\n",
      "99 & Luxembourg Center of Neuropathology, Laboratoire National De Santé, Luxembourg, Luxembourg.  \\\\\n",
      "100 & Department of Computer Science, Université de Sherbrooke, Sherbrooke, QC, Canada.  \\\\\n",
      "101 & Centre de Recherche du Centre Hospitalière Universitaire de Sherbrooke, Sherbrooke, QC, Canada.  \\\\\n",
      "102 & Division of Neurosurgery and Neuro-Oncology, Faculty of Medicine and Health Science, Université de Sherbrooke, Sherbrooke, QC, Canada.  \\\\\n",
      "103 & Department of Nuclear Medicine and Radiobiology, Sherbrooke Molecular Imaging Centre, Université de Sherbrooke, Sherbrooke, QC, Canada.  \\\\\n",
      "104 & Electrical and Computer Engineering, Vanderbilt University, Nashville, TN, USA.  \\\\\n",
      "105 & Department of Computer Science, Vanderbilt University, Nashville, TN, USA.  \\\\\n",
      "106 & Department of Neurosurgery, Vanderbilt University Medical Center, Nashville, TN, USA.  \\\\\n",
      "107 & Innovation Center for Biomedical Informatics (ICBI), Georgetown University, Washington, DC, USA.  \\\\\n",
      "108 & Division of Neuroradiology & Neurointerventional Radiology, Department of Radiology, MedStar Georgetown University Hospital, Washington, DC, USA.  \\\\\n",
      "109 & School of Biomedical Engineering & Imaging Sciences, King’s College London, London, UK.  \\\\\n",
      "110 & Department of Neuroradiology, Ruskin Wing, King’s College Hospital NHS Foundation Trust, London, UK.  \\\\\n",
      "111 & Stoke Mandeville Hospital, Mandeville Road, Aylesbury, UK.  \\\\\n",
      "112 & Department of Biomedical and Molecular Sciences, Queen’s University, Kingston, ON, Canada.  \\\\\n",
      "113 & Neosoma Inc., Groton, MA, USA.  \\\\\n",
      "114 & University of Cairo School of Medicine, Giza, Egypt.  \\\\\n",
      "115 & University of Bern, Bern, Switzerland.  \\\\\n",
      "116 & Department of Radiology, Asan Medical Center, Seoul, South Korea.  \\\\\n",
      "117 & The Clatterbridge Cancer Centre NHS Foundation Trust Pembroke Place, Liverpool, UK.  \\\\\n",
      "118 & Department of Radiology, University of Washington, Seattle, WA, USA.  \\\\\n",
      "119 & Netherlands Cancer Institute, Amsterdam, Netherlands.  \\\\\n",
      "120 & Department of Radiology, Netherlands Cancer Institute, Amsterdam, Netherlands.  \\\\\n",
      "\\bottomrule\n",
      "\\end{tabular}\n",
      "\n"
     ]
    }
   ],
   "source": [
    "# Key Part 4\n",
    "print(key_df[90:120].to_latex(index=False, column_format=column_format)) # Key Part 4"
   ]
  },
  {
   "cell_type": "code",
   "execution_count": 300,
   "metadata": {},
   "outputs": [
    {
     "name": "stdout",
     "output_type": "stream",
     "text": [
      "\\begin{tabular}{p{0.65in}|p{5.75in}}\n",
      "\\toprule\n",
      "Affiliation & Affiliation Details \\\\\n",
      "\\midrule\n",
      "121 & GROW School of Oncology and Developmental Biology, Maastricht, Netherlands.  \\\\\n",
      "122 & Clínica Imbanaco Grupo Quirón Salud, Cali, Colombia.  \\\\\n",
      "123 & Universidad del Valle, Cali, Colombia.  \\\\\n",
      "124 & The University of Edinburgh, Edinburgh, UK.  \\\\\n",
      "125 & Department of Industrial and Systems Engineering, University of Iowa, Iowa, USA.  \\\\\n",
      "126 & Department of Industrial and Systems Engineering, Department of Radiation Oncology, University of Iowa, Iowa City, IA, USA.  \\\\\n",
      "127 & Department of Radiation Oncology, University of Iowa, Iowa City, IA, USA.  \\\\\n",
      "128 & MD Anderson Cancer Center, University of Texas, Houston, TX, USA.  \\\\\n",
      "129 & Department of Quantitative Biomedicine, University of Zurich, Zurich, Switzerland.  \\\\\n",
      "130 & Department of Neurology, Clinical Neuroscience Center, University Hospital Zurich and University of Zurich, Zurich, Switzerland.  \\\\\n",
      "131 & Department of Neuroradiology, Clinical Neuroscience Center, University Hospital Zurich and University of Zurich, Zurich, Switzerland.  \\\\\n",
      "132 & University of Alabama in Birmingham, Birmingham, AL, USA.  \\\\\n",
      "133 & Department of Biomedical Informatics, Stony Brook University, Stony Brook, New York, USA.  \\\\\n",
      "134 & Department of Radiation Oncology, Stony Brook University, Stony Brook, NY, USA.  \\\\\n",
      "135 & Department of Radiology, Stony Brook University, Stony Brook, NY, USA.  \\\\\n",
      "136 & Scientific Data Group, Oak Ridge National Laboratory, Oak Ridge, TN, USA.  \\\\\n",
      "137 & Escuela Superior Politecnica del Litoral, Guayaquil, Guayas, Ecuador.  \\\\\n",
      "138 & Sociedad de Lucha Contral el Cancer - SOLCA, Guayaquil Ecuador, Guayaquil, Ecuador.  \\\\\n",
      "139 & Universidad Católica de Cuenca, Cuenca, Ecuador.  \\\\\n",
      "140 & Universidad de Concepción, Concepción, Biobío, Chile.  \\\\\n",
      "141 & School of Electronic Engineering and Computer Science, Queen Mary University of London, London, UK.  \\\\\n",
      "142 & Department of Radiology, University College Hospital Ibadan, Oyo, Nigeria.  \\\\\n",
      "143 & Clinix Healthcare, Lagos, Lagos, Nigeria.  \\\\\n",
      "144 & Department of Radiology, Muhammad Abdullahi Wase Teaching Hospital, Kano, Nigeria.  \\\\\n",
      "145 & Department of Radiology, Obafemi Awolowo University Ile-Ife, Ile-Ife, Osun, Nigeria.  \\\\\n",
      "146 & Center for Global Health, Perelman School of Medicine, University of Pennsylvania, Philadelphia, PA, USA.  \\\\\n",
      "147 & School of Computing, Queen’s University, Kingston, ON, Canada.  \\\\\n",
      "148 & Department of Electrical Engineering, Qazvin Branch, Islamic Azad University, Qazvin, Iran.  \\\\\n",
      "149 & The Faculty of Arts & Sciences, Queen’s University, Kingston, ON, Canada.  \\\\\n",
      "150 & Department of Oncology, Queen’s University, Kingston, ON, Canada.  \\\\\n",
      "151 & Center for Research and Innovation, American College of Radiology, Philadelphia, PA, USA.  \\\\\n",
      "152 & Data Science Institute, American College of Radiology, Reston, VA, USA.  \\\\\n",
      "153 & Center for Biomedical Informatics and Information Technology, National Cancer Institute (NCI), National Institute of Health, Bethesda, MD, USA  \\\\\n",
      "154 & Duke University  \\\\\n",
      "155 & Radiology Partners \\\\\n",
      "\\bottomrule\n",
      "\\end{tabular}\n",
      "\n"
     ]
    }
   ],
   "source": [
    "# Key Part 5\n",
    "print(key_df[120:].to_latex(index=False, column_format=column_format)) # Key Part 5"
   ]
  },
  {
   "cell_type": "code",
   "execution_count": null,
   "metadata": {},
   "outputs": [],
   "source": []
  },
  {
   "cell_type": "code",
   "execution_count": null,
   "metadata": {},
   "outputs": [],
   "source": []
  },
  {
   "cell_type": "code",
   "execution_count": 207,
   "metadata": {},
   "outputs": [
    {
     "name": "stdout",
     "output_type": "stream",
     "text": [
      "\\begin{tabular}{lllll}\n",
      "\\toprule\n",
      "Key Person & Individuial & Affiliation & Reason & Interaction \\\\\n",
      "\\midrule\n",
      "BE, MS, SB, SP, UB, EC & Christos Davatzikos & 1 & co-author & 2022-2023 \\\\\n",
      "BE, MS, SB, SP, UB, EC & Chiharu Sako & 1 & co-author & 2022-2023 \\\\\n",
      "BE, MS, SB, SP, UB, EC & Satyam Ghodasara & 2 & co-author & 2022-2023 \\\\\n",
      "BE, MS, SB, SP, UB, EC & Michel Bilello & 1 & co-author & 2022-2023 \\\\\n",
      "BE, MS, SB, SP, UB, EC & Suyash Mohan & 1 & co-author & 2022-2023 \\\\\n",
      "BE, MS, SB, SP, UB, EC & Philipp Vollmuth & 6 & co-author & 2022-2023 \\\\\n",
      "BE, MS, SB, SP, UB, EC & Gianluca Brugnara & 6 & co-author & 2022-2023 \\\\\n",
      "BE, MS, SB, SP, UB, EC & Chandrakanth J. Preetha & 6 & co-author & 2022-2023 \\\\\n",
      "BE, MS, SB, SP, UB, EC & Felix Sahm & 7 & co-author & 2022-2023 \\\\\n",
      "BE, MS, SB, SP, UB, EC & Klaus Maier-Hein & 9 & co-author & 2022-2023 \\\\\n",
      "BE, MS, SB, SP, UB, EC & Maximilian Zenk & 9 & co-author & 2022-2023 \\\\\n",
      "BE, MS, SB, SP, UB, EC & Martin Bendszus & 6 & co-author & 2022-2023 \\\\\n",
      "BE, MS, SB, SP, UB, EC & Wolfgang Wick & 7 & co-author & 2022-2023 \\\\\n",
      "BE, MS, SB, SP, UB, EC & Evan Calabrese & 12 & co-author & 2022-2023 \\\\\n",
      "BE, MS, SB, SP, UB, EC & Jeffrey Rudie & 12 & co-author & 2022-2023 \\\\\n",
      "BE, MS, SB, SP, UB, EC & Javier Villanueva-Meyer & 12 & co-author & 2022-2023 \\\\\n",
      "BE, MS, SB, SP, UB, EC & Soonmee Cha & 12 & co-author & 2022-2023 \\\\\n",
      "BE, MS, SB, SP, UB, EC & Madhura Ingalhalikar & 13 & co-author & 2022-2023 \\\\\n",
      "BE, MS, SB, SP, UB, EC & Manali Jadhav & 13 & co-author & 2022-2023 \\\\\n",
      "BE, MS, SB, SP, UB, EC & Umang Pandey & 13 & co-author & 2022-2023 \\\\\n",
      "BE, MS, SB, SP, UB, EC & Jitender Saini & 14 & co-author & 2022-2023 \\\\\n",
      "BE, MS, SB, SP, UB, EC & John Garrett & 15 & co-author & 2022-2023 \\\\\n",
      "BE, MS, SB, SP, UB, EC & Matthew Larson & 15 & co-author & 2022-2023 \\\\\n",
      "BE, MS, SB, SP, UB, EC & Robert Jeraj & 15 & co-author & 2022-2023 \\\\\n",
      "BE, MS, SB, SP, UB, EC & Stuart Currie & 17 & co-author & 2022-2023 \\\\\n",
      "BE, MS, SB, SP, UB, EC & Russell Frood & 17 & co-author & 2022-2023 \\\\\n",
      "BE, MS, SB, SP, UB, EC & Kavi Fatania & 17 & co-author & 2022-2023 \\\\\n",
      "BE, MS, SB, SP, UB, EC & Raymond Y. Huang & 18 & co-author & 2022-2023 \\\\\n",
      "BE, MS, SB, SP, UB, EC & Ken Chang & 19 & co-author & 2022-2023 \\\\\n",
      "BE, MS, SB, SP, UB, EC & Carmen Balaña & 20 & co-author & 2022-2023 \\\\\n",
      "BE, MS, SB, SP, UB, EC & Jaume Capellades & 21 & co-author & 2022-2023 \\\\\n",
      "BE, MS, SB, SP, UB, EC & Josep Puig & 22 & co-author & 2022-2023 \\\\\n",
      "BE, MS, SB, SP, UB, EC & Johannes Trenkler & 23 & co-author & 2022-2023 \\\\\n",
      "BE, MS, SB, SP, UB, EC & Josef Pichler & 24 & co-author & 2022-2023 \\\\\n",
      "BE, MS, SB, SP, UB, EC & Georg Necker & 23 & co-author & 2022-2023 \\\\\n",
      "\\bottomrule\n",
      "\\end{tabular}\n",
      "\n"
     ]
    }
   ],
   "source": [
    "print(df[0:35].to_latex(index=False)) #Part 1"
   ]
  },
  {
   "cell_type": "code",
   "execution_count": 208,
   "metadata": {},
   "outputs": [
    {
     "name": "stdout",
     "output_type": "stream",
     "text": [
      "\\begin{tabular}{lllll}\n",
      "\\toprule\n",
      "Key Person & Individuial & Affiliation & Reason & Interaction \\\\\n",
      "\\midrule\n",
      "BE, MS, SB, SP, UB, EC & Andreas Haunschmidt & 23 & co-author & 2022-2023 \\\\\n",
      "BE, MS, SB, SP, UB, EC & Stephan Meckel & 23 & co-author & 2022-2023 \\\\\n",
      "BE, MS, SB, SP, UB, EC & Gaurav Shukla & 1 & co-author & 2022-2023 \\\\\n",
      "BE, MS, SB, SP, UB, EC & Spencer Liem & 27 & co-author & 2022-2023 \\\\\n",
      "BE, MS, SB, SP, UB, EC & Gregory S. Alexander & 28 & co-author & 2022-2023 \\\\\n",
      "BE, MS, SB, SP, UB, EC & Joseph Lombardo & 27 & co-author & 2022-2023 \\\\\n",
      "BE, MS, SB, SP, UB, EC & Joshua D. Palmer & 30 & co-author & 2022-2023 \\\\\n",
      "BE, MS, SB, SP, UB, EC & Adam E. Flanders & 31 & co-author & 2022-2023 \\\\\n",
      "BE, MS, SB, SP, UB, EC & Adam P. Dicker & 29 & co-author & 2022-2023 \\\\\n",
      "BE, MS, SB, SP, UB, EC & Haris I. Sair & 32 & co-author & 2022-2023 \\\\\n",
      "BE, MS, SB, SP, UB, EC & Craig K. Jones & 33 & co-author & 2022-2023 \\\\\n",
      "BE, MS, SB, SP, UB, EC & Archana Venkataraman & 34 & co-author & 2022-2023 \\\\\n",
      "BE, MS, SB, SP, UB, EC & Meirui Jiang & 35 & co-author & 2022-2023 \\\\\n",
      "BE, MS, SB, SP, UB, EC & Tiffany Y. So & 35 & co-author & 2022-2023 \\\\\n",
      "BE, MS, SB, SP, UB, EC & Cheng Chen & 35 & co-author & 2022-2023 \\\\\n",
      "BE, MS, SB, SP, UB, EC & Pheng Ann Heng & 35 & co-author & 2022-2023 \\\\\n",
      "BE, MS, SB, SP, UB, EC & Qi Dou & 35 & co-author & 2022-2023 \\\\\n",
      "BE, MS, SB, SP, UB, EC & Michal Kozubek & 36 & co-author & 2022-2023 \\\\\n",
      "BE, MS, SB, SP, UB, EC & Filip Lux & 36 & co-author & 2022-2023 \\\\\n",
      "BE, MS, SB, SP, UB, EC & Jan Michálek & 36 & co-author & 2022-2023 \\\\\n",
      "BE, MS, SB, SP, UB, EC & Petr Matula & 36 & co-author & 2022-2023 \\\\\n",
      "BE, MS, SB, SP, UB, EC & Miloš Keřkovský & 37 & co-author & 2022-2023 \\\\\n",
      "BE, MS, SB, SP, UB, EC & Tereza Kopřivová & 37 & co-author & 2022-2023 \\\\\n",
      "BE, MS, SB, SP, UB, EC & Marek Dostál & 37 & co-author & 2022-2023 \\\\\n",
      "BE, MS, SB, SP, UB, EC & Václav Vybíhal & 39 & co-author & 2022-2023 \\\\\n",
      "BE, MS, SB, SP, UB, EC & Michael A. Vogelbaum & 40 & co-author & 2022-2023 \\\\\n",
      "BE, MS, SB, SP, UB, EC & J. Ross Mitchell & 41 & co-author & 2022-2023 \\\\\n",
      "BE, MS, SB, SP, UB, EC & Joaquim Farinhas & 43 & co-author & 2022-2023 \\\\\n",
      "BE, MS, SB, SP, UB, EC & Joseph A. Maldjian & 44 & co-author & 2022-2023 \\\\\n",
      "BE, MS, SB, SP, UB, EC & Chandan Ganesh Bangalore Yogananda & 44 & co-author & 2022-2023 \\\\\n",
      "BE, MS, SB, SP, UB, EC & Marco C. Pinho & 44 & co-author & 2022-2023 \\\\\n",
      "BE, MS, SB, SP, UB, EC & Divya Reddy & 44 & co-author & 2022-2023 \\\\\n",
      "BE, MS, SB, SP, UB, EC & James Holcomb & 44 & co-author & 2022-2023 \\\\\n",
      "BE, MS, SB, SP, UB, EC & Benjamin C. Wagner & 44 & co-author & 2022-2023 \\\\\n",
      "BE, MS, SB, SP, UB, EC & Benjamin M. Ellingson & 45 & co-author & 2022-2023 \\\\\n",
      "\\bottomrule\n",
      "\\end{tabular}\n",
      "\n"
     ]
    }
   ],
   "source": [
    "print(df[35:70].to_latex(index=False))    # Part 2"
   ]
  },
  {
   "cell_type": "code",
   "execution_count": 209,
   "metadata": {},
   "outputs": [
    {
     "name": "stdout",
     "output_type": "stream",
     "text": [
      "\\begin{tabular}{lllll}\n",
      "\\toprule\n",
      "Key Person & Individuial & Affiliation & Reason & Interaction \\\\\n",
      "\\midrule\n",
      "BE, MS, SB, SP, UB, EC & Timothy F. Cloughesy & 46 & co-author & 2022-2023 \\\\\n",
      "BE, MS, SB, SP, UB, EC & Catalina Raymond & 45 & co-author & 2022-2023 \\\\\n",
      "BE, MS, SB, SP, UB, EC & Talia Oughourlian & 45 & co-author & 2022-2023 \\\\\n",
      "BE, MS, SB, SP, UB, EC & Akifumi Hagiwara & 47 & co-author & 2022-2023 \\\\\n",
      "BE, MS, SB, SP, UB, EC & Chencai Wang & 47 & co-author & 2022-2023 \\\\\n",
      "BE, MS, SB, SP, UB, EC & Minh-Son To & 48 & co-author & 2022-2023 \\\\\n",
      "BE, MS, SB, SP, UB, EC & Sargam Bhardwaj & 48 & co-author & 2022-2023 \\\\\n",
      "BE, MS, SB, SP, UB, EC & Chee Chong & 50 & co-author & 2022-2023 \\\\\n",
      "BE, MS, SB, SP, UB, EC & Marc Agzarian & 50 & co-author & 2022-2023 \\\\\n",
      "BE, MS, SB, SP, UB, EC & Alexandre Xavier Falcão & 52 & co-author & 2022-2023 \\\\\n",
      "BE, MS, SB, SP, UB, EC & Samuel B. Martins & 53 & co-author & 2022-2023 \\\\\n",
      "BE, MS, SB, SP, UB, EC & Bernardo C. A. Teixeira & 54 & co-author & 2022-2023 \\\\\n",
      "BE, MS, SB, SP, UB, EC & Flávia Sprenger & 55 & co-author & 2022-2023 \\\\\n",
      "BE, MS, SB, SP, UB, EC & David Menotti & 56 & co-author & 2022-2023 \\\\\n",
      "BE, MS, SB, SP, UB, EC & Diego R. Lucio & 56 & co-author & 2022-2023 \\\\\n",
      "BE, MS, SB, SP, UB, EC & Pamela LaMontagne & 57 & co-author & 2022-2023 \\\\\n",
      "BE, MS, SB, SP, UB, EC & Daniel Marcus & 57 & co-author & 2022-2023 \\\\\n",
      "BE, MS, SB, SP, UB, EC & Benedikt Wiestler & 58 & co-author & 2022-2023 \\\\\n",
      "BE, MS, SB, SP, UB, EC & Florian Kofler & 58 & co-author & 2022-2023 \\\\\n",
      "BE, MS, SB, SP, UB, EC & Ivan Ezhov & 4 & co-author & 2022-2023 \\\\\n",
      "BE, MS, SB, SP, UB, EC & Marie Metz & 58 & co-author & 2022-2023 \\\\\n",
      "BE, MS, SB, SP, UB, EC & Rajan Jain & 61 & co-author & 2022-2023 \\\\\n",
      "BE, MS, SB, SP, UB, EC & Matthew Lee & 61 & co-author & 2022-2023 \\\\\n",
      "BE, MS, SB, SP, UB, EC & Yvonne W. Lui & 61 & co-author & 2022-2023 \\\\\n",
      "BE, MS, SB, SP, UB, EC & Richard McKinley & 63 & co-author & 2022-2023 \\\\\n",
      "BE, MS, SB, SP, UB, EC & Johannes Slotboom & 63 & co-author & 2022-2023 \\\\\n",
      "BE, MS, SB, SP, UB, EC & Piotr Radojewski & 63 & co-author & 2022-2023 \\\\\n",
      "BE, MS, SB, SP, UB, EC & Raphael Meier & 63 & co-author & 2022-2023 \\\\\n",
      "BE, MS, SB, SP, UB, EC & Roland Wiest & 63 & co-author & 2022-2023 \\\\\n",
      "BE, MS, SB, SP, UB, EC & Derrick Murcia & 64 & co-author & 2022-2023 \\\\\n",
      "BE, MS, SB, SP, UB, EC & Eric Fu & 64 & co-author & 2022-2023 \\\\\n",
      "BE, MS, SB, SP, UB, EC & Rourke Haas & 64 & co-author & 2022-2023 \\\\\n",
      "BE, MS, SB, SP, UB, EC & John Thompson & 64 & co-author & 2022-2023 \\\\\n",
      "BE, MS, SB, SP, UB, EC & David Ryan Ormond & 64 & co-author & 2022-2023 \\\\\n",
      "BE, MS, SB, SP, UB, EC & Chaitra Badve & 65 & co-author & 2022-2023 \\\\\n",
      "\\bottomrule\n",
      "\\end{tabular}\n",
      "\n"
     ]
    }
   ],
   "source": [
    "print(df[70:105].to_latex(index=False))   # Part3"
   ]
  },
  {
   "cell_type": "code",
   "execution_count": 210,
   "metadata": {},
   "outputs": [
    {
     "name": "stdout",
     "output_type": "stream",
     "text": [
      "\\begin{tabular}{lllll}\n",
      "\\toprule\n",
      "Key Person & Individuial & Affiliation & Reason & Interaction \\\\\n",
      "\\midrule\n",
      "BE, MS, SB, SP, UB, EC & Andrew E. Sloan & 66 & co-author & 2022-2023 \\\\\n",
      "BE, MS, SB, SP, UB, EC & Vachan Vadmal & 68 & co-author & 2022-2023 \\\\\n",
      "BE, MS, SB, SP, UB, EC & Kristin Waite & 69 & co-author & 2022-2023 \\\\\n",
      "BE, MS, SB, SP, UB, EC & Rivka R. Colen & 70 & co-author & 2022-2023 \\\\\n",
      "BE, MS, SB, SP, UB, EC & Linmin Pei & 72 & co-author & 2022-2023 \\\\\n",
      "BE, MS, SB, SP, UB, EC & Murat Ak & 70 & co-author & 2022-2023 \\\\\n",
      "BE, MS, SB, SP, UB, EC & Ashok Srinivasan & 73 & co-author & 2022-2023 \\\\\n",
      "BE, MS, SB, SP, UB, EC & J. Rajiv Bapuraj & 73 & co-author & 2022-2023 \\\\\n",
      "BE, MS, SB, SP, UB, EC & Arvind Rao & 74 & co-author & 2022-2023 \\\\\n",
      "BE, MS, SB, SP, UB, EC & Nicholas Wang & 74 & co-author & 2022-2023 \\\\\n",
      "BE, MS, SB, SP, UB, EC & Ota Yoshiaki & 73 & co-author & 2022-2023 \\\\\n",
      "BE, MS, SB, SP, UB, EC & Toshio Moritani & 73 & co-author & 2022-2023 \\\\\n",
      "BE, MS, SB, SP, UB, EC & Sevcan Turk & 73 & co-author & 2022-2023 \\\\\n",
      "BE, MS, SB, SP, UB, EC & Joonsang Lee & 74 & co-author & 2022-2023 \\\\\n",
      "BE, MS, SB, SP, UB, EC & Snehal Prabhudesai & 74 & co-author & 2022-2023 \\\\\n",
      "BE, MS, SB, SP, UB, EC & Fanny Morón & 75 & co-author & 2022-2023 \\\\\n",
      "BE, MS, SB, SP, UB, EC & Jacob Mandel & 51 & co-author & 2022-2023 \\\\\n",
      "BE, MS, SB, SP, UB, EC & Konstantinos Kamnitsas & 76 & co-author & 2022-2023 \\\\\n",
      "BE, MS, SB, SP, UB, EC & Ben Glocker & 76 & co-author & 2022-2023 \\\\\n",
      "BE, MS, SB, SP, UB, EC & Luke V. M. Dixon & 78 & co-author & 2022-2023 \\\\\n",
      "BE, MS, SB, SP, UB, EC & Matthew Williams & 79 & co-author & 2022-2023 \\\\\n",
      "BE, MS, SB, SP, UB, EC & Peter Zampakis & 80 & co-author & 2022-2023 \\\\\n",
      "BE, MS, SB, SP, UB, EC & Vasileios Panagiotopoulos & 81 & co-author & 2022-2023 \\\\\n",
      "BE, MS, SB, SP, UB, EC & Panagiotis Tsiganos & 82 & co-author & 2022-2023 \\\\\n",
      "BE, MS, SB, SP, UB, EC & Sotiris Alexiou & 83 & co-author & 2022-2023 \\\\\n",
      "BE, MS, SB, SP, UB, EC & Ilias Haliassos & 84 & co-author & 2022-2023 \\\\\n",
      "BE, MS, SB, SP, UB, EC & Evangelia I. Zacharaki & 83 & co-author & 2022-2023 \\\\\n",
      "BE, MS, SB, SP, UB, EC & Konstantinos Moustakas & 83 & co-author & 2022-2023 \\\\\n",
      "BE, MS, SB, SP, UB, EC & Christina Kalogeropoulou & 80 & co-author & 2022-2023 \\\\\n",
      "BE, MS, SB, SP, UB, EC & Dimitrios M. Kardamakis & 85 & co-author & 2022-2023 \\\\\n",
      "BE, MS, SB, SP, UB, EC & Yoon Seong Choi & 86 & co-author & 2022-2023 \\\\\n",
      "BE, MS, SB, SP, UB, EC & Seung-Koo Lee & 86 & co-author & 2022-2023 \\\\\n",
      "BE, MS, SB, SP, UB, EC & Jong Hee Chang & 86 & co-author & 2022-2023 \\\\\n",
      "BE, MS, SB, SP, UB, EC & Sung Soo Ahn & 86 & co-author & 2022-2023 \\\\\n",
      "BE, MS, SB, SP, UB, EC & Bing Luo & 87 & co-author & 2022-2023 \\\\\n",
      "\\bottomrule\n",
      "\\end{tabular}\n",
      "\n"
     ]
    }
   ],
   "source": [
    "print(df[105:140].to_latex(index=False))    # Part 4"
   ]
  },
  {
   "cell_type": "code",
   "execution_count": 211,
   "metadata": {},
   "outputs": [
    {
     "name": "stdout",
     "output_type": "stream",
     "text": [
      "\\begin{tabular}{lllll}\n",
      "\\toprule\n",
      "Key Person & Individuial & Affiliation & Reason & Interaction \\\\\n",
      "\\midrule\n",
      "BE, MS, SB, SP, UB, EC & Laila Poisson & 88 & co-author & 2022-2023 \\\\\n",
      "BE, MS, SB, SP, UB, EC & Ning Wen & 87 & co-author & 2022-2023 \\\\\n",
      "BE, MS, SB, SP, UB, EC & Pallavi Tiwari & 90 & co-author & 2022-2023 \\\\\n",
      "BE, MS, SB, SP, UB, EC & Ruchika Verma & 42 & co-author & 2022-2023 \\\\\n",
      "BE, MS, SB, SP, UB, EC & Rohan Bareja & 90 & co-author & 2022-2023 \\\\\n",
      "BE, MS, SB, SP, UB, EC & Ipsa Yadav & 90 & co-author & 2022-2023 \\\\\n",
      "BE, MS, SB, SP, UB, EC & Jonathan Chen & 90 & co-author & 2022-2023 \\\\\n",
      "BE, MS, SB, SP, UB, EC & Neeraj Kumar & 41 & co-author & 2022-2023 \\\\\n",
      "BE, MS, SB, SP, UB, EC & Marion Smits & 91 & co-author & 2022-2023 \\\\\n",
      "BE, MS, SB, SP, UB, EC & Sebastian R. van der Voort & 91 & co-author & 2022-2023 \\\\\n",
      "BE, MS, SB, SP, UB, EC & Ahmed Alafandi & 91 & co-author & 2022-2023 \\\\\n",
      "BE, MS, SB, SP, UB, EC & Fatih Incekara & 91 & co-author & 2022-2023 \\\\\n",
      "BE, MS, SB, SP, UB, EC & Maarten M. J. Wijnenga & 93 & co-author & 2022-2023 \\\\\n",
      "BE, MS, SB, SP, UB, EC & Georgios Kapsas & 91 & co-author & 2022-2023 \\\\\n",
      "BE, MS, SB, SP, UB, EC & Renske Gahrmann & 91 & co-author & 2022-2023 \\\\\n",
      "BE, MS, SB, SP, UB, EC & Joost W. Schouten & 92 & co-author & 2022-2023 \\\\\n",
      "BE, MS, SB, SP, UB, EC & Hendrikus J. Dubbink & 94 & co-author & 2022-2023 \\\\\n",
      "BE, MS, SB, SP, UB, EC & Arnaud J. P. E. Vincent & 92 & co-author & 2022-2023 \\\\\n",
      "BE, MS, SB, SP, UB, EC & Martin J. van den Bent & 93 & co-author & 2022-2023 \\\\\n",
      "BE, MS, SB, SP, UB, EC & Pim J. French & 93 & co-author & 2022-2023 \\\\\n",
      "BE, MS, SB, SP, UB, EC & Stefan Klein & 95 & co-author & 2022-2023 \\\\\n",
      "BE, MS, SB, SP, UB, EC & Yading Yuan & 96 & co-author & 2022-2023 \\\\\n",
      "BE, MS, SB, SP, UB, EC & Sonam Sharma & 96 & co-author & 2022-2023 \\\\\n",
      "BE, MS, SB, SP, UB, EC & Tzu-Chi Tseng & 96 & co-author & 2022-2023 \\\\\n",
      "BE, MS, SB, SP, UB, EC & Saba Adabi & 96 & co-author & 2022-2023 \\\\\n",
      "BE, MS, SB, SP, UB, EC & Simone P. Niclou & 97 & co-author & 2022-2023 \\\\\n",
      "BE, MS, SB, SP, UB, EC & Olivier Keunen & 98 & co-author & 2022-2023 \\\\\n",
      "BE, MS, SB, SP, UB, EC & Ann-Christin Hau & 97 & co-author & 2022-2023 \\\\\n",
      "BE, MS, SB, SP, UB, EC & Martin Vallières & 100 & co-author & 2022-2023 \\\\\n",
      "BE, MS, SB, SP, UB, EC & David Fortin & 101 & co-author & 2022-2023 \\\\\n",
      "BE, MS, SB, SP, UB, EC & Martin Lepage & 101 & co-author & 2022-2023 \\\\\n",
      "BE, MS, SB, SP, UB, EC & Bennett Landman & 104 & co-author & 2022-2023 \\\\\n",
      "BE, MS, SB, SP, UB, EC & Karthik Ramadass & 104 & co-author & 2022-2023 \\\\\n",
      "BE, MS, SB, SP, UB, EC & Kaiwen Xu & 105 & co-author & 2022-2023 \\\\\n",
      "BE, MS, SB, SP, UB, EC & Silky Chotai & 106 & co-author & 2022-2023 \\\\\n",
      "\\bottomrule\n",
      "\\end{tabular}\n",
      "\n"
     ]
    }
   ],
   "source": [
    "print(df[140:175].to_latex(index=False))     # Part 5"
   ]
  },
  {
   "cell_type": "code",
   "execution_count": 212,
   "metadata": {},
   "outputs": [
    {
     "name": "stdout",
     "output_type": "stream",
     "text": [
      "\\begin{tabular}{lllll}\n",
      "\\toprule\n",
      "Key Person & Individuial & Affiliation & Reason & Interaction \\\\\n",
      "\\midrule\n",
      "BE, MS, SB, SP, UB, EC & Lola B. Chambless & 106 & co-author & 2022-2023 \\\\\n",
      "BE, MS, SB, SP, UB, EC & Akshitkumar Mistry & 106 & co-author & 2022-2023 \\\\\n",
      "BE, MS, SB, SP, UB, EC & Reid C. Thompson & 106 & co-author & 2022-2023 \\\\\n",
      "BE, MS, SB, SP, UB, EC & Yuriy Gusev & 107 & co-author & 2022-2023 \\\\\n",
      "BE, MS, SB, SP, UB, EC & Krithika Bhuvaneshwar & 107 & co-author & 2022-2023 \\\\\n",
      "BE, MS, SB, SP, UB, EC & Anousheh Sayah & 108 & co-author & 2022-2023 \\\\\n",
      "BE, MS, SB, SP, UB, EC & Camelia Bencheqroun & 107 & co-author & 2022-2023 \\\\\n",
      "BE, MS, SB, SP, UB, EC & Anas Belouali & 107 & co-author & 2022-2023 \\\\\n",
      "BE, MS, SB, SP, UB, EC & Subha Madhavan & 107 & co-author & 2022-2023 \\\\\n",
      "BE, MS, SB, SP, UB, EC & Thomas C. Booth & 109 & co-author & 2022-2023 \\\\\n",
      "BE, MS, SB, SP, UB, EC & Alysha Chelliah & 109 & co-author & 2022-2023 \\\\\n",
      "BE, MS, SB, SP, UB, EC & Marc Modat & 109 & co-author & 2022-2023 \\\\\n",
      "BE, MS, SB, SP, UB, EC & Haris Shuaib & 111 & co-author & 2022-2023 \\\\\n",
      "BE, MS, SB, SP, UB, EC & Carmen Dragos & 111 & co-author & 2022-2023 \\\\\n",
      "BE, MS, SB, SP, UB, EC & Aly Abayazeed & 113 & co-author & 2022-2023 \\\\\n",
      "BE, MS, SB, SP, UB, EC & Kenneth Kolodziej & 113 & co-author & 2022-2023 \\\\\n",
      "BE, MS, SB, SP, UB, EC & Michael Hill & 113 & co-author & 2022-2023 \\\\\n",
      "BE, MS, SB, SP, UB, EC & Ahmed Abbassy & 114 & co-author & 2022-2023 \\\\\n",
      "BE, MS, SB, SP, UB, EC & Shady Gamal & 114 & co-author & 2022-2023 \\\\\n",
      "BE, MS, SB, SP, UB, EC & Mahmoud Mekhaimar & 114 & co-author & 2022-2023 \\\\\n",
      "BE, MS, SB, SP, UB, EC & Mohamed Qayati & 114 & co-author & 2022-2023 \\\\\n",
      "BE, MS, SB, SP, UB, EC & Mauricio Reyes & 115 & co-author & 2022-2023 \\\\\n",
      "BE, MS, SB, SP, UB, EC & Ji Eun Park & 116 & co-author & 2022-2023 \\\\\n",
      "BE, MS, SB, SP, UB, EC & Jihye Yun & 116 & co-author & 2022-2023 \\\\\n",
      "BE, MS, SB, SP, UB, EC & Ho Sung Kim & 116 & co-author & 2022-2023 \\\\\n",
      "BE, MS, SB, SP, UB, EC & Abhishek Mahajan & 117 & co-author & 2022-2023 \\\\\n",
      "BE, MS, SB, SP, UB, EC & Mark Muzi & 118 & co-author & 2022-2023 \\\\\n",
      "BE, MS, SB, SP, UB, EC & Sean Benson & 119 & co-author & 2022-2023 \\\\\n",
      "BE, MS, SB, SP, UB, EC & Regina G. H. Beets-Tan & 120 & co-author & 2022-2023 \\\\\n",
      "BE, MS, SB, SP, UB, EC & Jonas Teuwen & 119 & co-author & 2022-2023 \\\\\n",
      "BE, MS, SB, SP, UB, EC & Alejandro Herrera-Trujillo & 122 & co-author & 2022-2023 \\\\\n",
      "BE, MS, SB, SP, UB, EC & Maria Trujillo & 123 & co-author & 2022-2023 \\\\\n",
      "BE, MS, SB, SP, UB, EC & William Escobar & 122 & co-author & 2022-2023 \\\\\n",
      "BE, MS, SB, SP, UB, EC & Ana Abello & 123 & co-author & 2022-2023 \\\\\n",
      "BE, MS, SB, SP, UB, EC & Jose Bernal & 123 & co-author & 2022-2023 \\\\\n",
      "\\bottomrule\n",
      "\\end{tabular}\n",
      "\n"
     ]
    }
   ],
   "source": [
    "print(df[175:210].to_latex(index=False))    # Part 6"
   ]
  },
  {
   "cell_type": "code",
   "execution_count": 213,
   "metadata": {},
   "outputs": [
    {
     "name": "stdout",
     "output_type": "stream",
     "text": [
      "\\begin{tabular}{lllll}\n",
      "\\toprule\n",
      "Key Person & Individuial & Affiliation & Reason & Interaction \\\\\n",
      "\\midrule\n",
      "BE, MS, SB, SP, UB, EC & Jhon Gómez & 123 & co-author & 2022-2023 \\\\\n",
      "BE, MS, SB, SP, UB, EC & Joseph Choi & 125 & co-author & 2022-2023 \\\\\n",
      "BE, MS, SB, SP, UB, EC & Stephen Baek & 126 & co-author & 2022-2023 \\\\\n",
      "BE, MS, SB, SP, UB, EC & Yusung Kim & 127 & co-author & 2022-2023 \\\\\n",
      "BE, MS, SB, SP, UB, EC & Heba Ismael & 127 & co-author & 2022-2023 \\\\\n",
      "BE, MS, SB, SP, UB, EC & Bryan Allen & 127 & co-author & 2022-2023 \\\\\n",
      "BE, MS, SB, SP, UB, EC & John M. Buatti & 127 & co-author & 2022-2023 \\\\\n",
      "BE, MS, SB, SP, UB, EC & Aikaterini Kotrotsou & 128 & co-author & 2022-2023 \\\\\n",
      "BE, MS, SB, SP, UB, EC & Hongwei Li & 129 & co-author & 2022-2023 \\\\\n",
      "BE, MS, SB, SP, UB, EC & Tobias Weiss & 130 & co-author & 2022-2023 \\\\\n",
      "BE, MS, SB, SP, UB, EC & Michael Weller & 130 & co-author & 2022-2023 \\\\\n",
      "BE, MS, SB, SP, UB, EC & Andrea Bink & 131 & co-author & 2022-2023 \\\\\n",
      "BE, MS, SB, SP, UB, EC & Bertrand Pouymayou & 131 & co-author & 2022-2023 \\\\\n",
      "BE, MS, SB, SP, UB, EC & Hassan F. Shaykh & 132 & co-author & 2022-2023 \\\\\n",
      "BE, MS, SB, SP, UB, EC & Joel Saltz & 133 & co-author & 2022-2023 \\\\\n",
      "BE, MS, SB, SP, UB, EC & Prateek Prasanna & 133 & co-author & 2022-2023 \\\\\n",
      "BE, MS, SB, SP, UB, EC & Sampurna Shrestha & 133 & co-author & 2022-2023 \\\\\n",
      "BE, MS, SB, SP, UB, EC & Kartik M. Mani & 133 & co-author & 2022-2023 \\\\\n",
      "BE, MS, SB, SP, UB, EC & David Payne & 135 & co-author & 2022-2023 \\\\\n",
      "BE, MS, SB, SP, UB, EC & Tahsin Kurc & 133 & co-author & 2022-2023 \\\\\n",
      "BE, MS, SB, SP, UB, EC & Enrique Pelaez & 137 & co-author & 2022-2023 \\\\\n",
      "BE, MS, SB, SP, UB, EC & Heydy Franco-Maldonado & 138 & co-author & 2022-2023 \\\\\n",
      "BE, MS, SB, SP, UB, EC & Francis Loayza & 137 & co-author & 2022-2023 \\\\\n",
      "BE, MS, SB, SP, UB, EC & Sebastian Quevedo & 139 & co-author & 2022-2023 \\\\\n",
      "BE, MS, SB, SP, UB, EC & Pamela Guevara & 140 & co-author & 2022-2023 \\\\\n",
      "BE, MS, SB, SP, UB, EC & Esteban Torche & 140 & co-author & 2022-2023 \\\\\n",
      "BE, MS, SB, SP, UB, EC & Cristobal Mendoza & 140 & co-author & 2022-2023 \\\\\n",
      "BE, MS, SB, SP, UB, EC & Franco Vera & 140 & co-author & 2022-2023 \\\\\n",
      "BE, MS, SB, SP, UB, EC & Elvis Ríos & 140 & co-author & 2022-2023 \\\\\n",
      "BE, MS, SB, SP, UB, EC & Eduardo López & 140 & co-author & 2022-2023 \\\\\n",
      "BE, MS, SB, SP, UB, EC & Sergio A. Velastin & 141 & co-author & 2022-2023 \\\\\n",
      "BE, MS, SB, SP, UB, EC & Godwin Ogbole & 142 & co-author & 2022-2023 \\\\\n",
      "BE, MS, SB, SP, UB, EC & Mayowa Soneye & 142 & co-author & 2022-2023 \\\\\n",
      "BE, MS, SB, SP, UB, EC & Dotun Oyekunle & 142 & co-author & 2022-2023 \\\\\n",
      "BE, MS, SB, SP, UB, EC & Olubunmi Odafe-Oyibotha & 143 & co-author & 2022-2023 \\\\\n",
      "\\bottomrule\n",
      "\\end{tabular}\n",
      "\n"
     ]
    }
   ],
   "source": [
    "print(df[210:245].to_latex(index=False))     # Part 7"
   ]
  },
  {
   "cell_type": "code",
   "execution_count": 271,
   "metadata": {},
   "outputs": [
    {
     "name": "stdout",
     "output_type": "stream",
     "text": [
      "\\begin{tabular}{lllll}\n",
      "\\toprule\n",
      "Key Person & Individuial & Affiliation & Reason & Interaction \\\\\n",
      "\\midrule\n",
      "BE, MS, SB, SP, UB, EC & Babatunde Osobu & 142 & co-author & 2022-2023 \\\\\n",
      "BE, MS, SB, SP, UB, EC & Mustapha Shu’aibu & 144 & co-author & 2022-2023 \\\\\n",
      "BE, MS, SB, SP, UB, EC & Adeleye Dorcas & 145 & co-author & 2022-2023 \\\\\n",
      "BE, MS, SB, SP, UB, EC & Farouk Dako & 2 & co-author & 2022-2023 \\\\\n",
      "BE, MS, SB, SP, UB, EC & Amber L. Simpson112 Mohammad Hamghalam & 147 & co-author & 2022-2023 \\\\\n",
      "BE, MS, SB, SP, UB, EC & Jacob J. Peoples & 147 & co-author & 2022-2023 \\\\\n",
      "BE, MS, SB, SP, UB, EC & Ricky Hu & 147 & co-author & 2022-2023 \\\\\n",
      "BE, MS, SB, SP, UB, EC & Anh Tran & 147 & co-author & 2022-2023 \\\\\n",
      "BE, MS, SB, SP, UB, EC & Danielle Cutler & 149 & co-author & 2022-2023 \\\\\n",
      "BE, MS, SB, SP, UB, EC & Fabio Y. Moraes & 150 & co-author & 2022-2023 \\\\\n",
      "BE, MS, SB, SP, UB, EC & Michael A. Boss & 151 & co-author & 2022-2023 \\\\\n",
      "BE, MS, SB, SP, UB, EC & James Gimpel & 151 & co-author & 2022-2023 \\\\\n",
      "BE, MS, SB, SP, UB, EC & Deepak Kattil Veettil & 151 & co-author & 2022-2023 \\\\\n",
      "BE, MS, SB, SP, UB, EC & Kendall Schmidt & 152 & co-author & 2022-2023 \\\\\n",
      "BE, MS, SB, SP, UB, EC & Brian Bialecki & 152 & co-author & 2022-2023 \\\\\n",
      "BE, MS, SB, SP, UB, EC & Sailaja Marella & 151 & co-author & 2022-2023 \\\\\n",
      "BE, MS, SB, SP, UB, EC & Cynthia Price & 151 & co-author & 2022-2023 \\\\\n",
      "BE, MS, SB, SP, UB, EC & Lisa Cimino & 151 & co-author & 2022-2023 \\\\\n",
      "BE, MS, SB, SP, UB, EC & Charles Apgar & 151 & co-author & 2022-2023 \\\\\n",
      "BE, MS, SB, SP, UB, EC & Prashant Shah & 5 & co-author & 2022-2023 \\\\\n",
      "BE, MS, SB, SP, UB, EC & Bjoern Menze & 4 & co-author & 2022-2023 \\\\\n",
      "BE, MS, SB, SP, UB, EC & Jill S. Barnholtz-Sloan & 69 & co-author & 2022-2023 \\\\\n",
      "EC & G. Allan Johnson & 154 & mentor & 2011-present \\\\\n",
      "EC & Andreas Rauschecker & 12 & co-author & 2018-present \\\\\n",
      "EC & John Mongan & 12 & co-author & 2020-2022 \\\\\n",
      "EC & Walter Wiggins & 155 & collaborator & 2022-present \\\\\n",
      "EC & Maciej Mazuroski & 154 & mentor & 2022-present \\\\\n",
      "DLB & John Kirkpatric & 154 & mentor & 2022-present \\\\\n",
      "DLB & Zachery Reitman & 154 & mentor & 2022-present \\\\\n",
      "\\bottomrule\n",
      "\\end{tabular}\n",
      "\n"
     ]
    }
   ],
   "source": [
    "print(df[245:].to_latex(index=False))     # Part 8"
   ]
  },
  {
   "cell_type": "code",
   "execution_count": null,
   "metadata": {},
   "outputs": [],
   "source": [
    "print(df[240:270].to_latex(index=False))"
   ]
  },
  {
   "cell_type": "code",
   "execution_count": null,
   "metadata": {},
   "outputs": [],
   "source": [
    "print(df[270:275].to_latex(index=False))"
   ]
  },
  {
   "cell_type": "code",
   "execution_count": null,
   "metadata": {},
   "outputs": [],
   "source": []
  }
 ],
 "metadata": {
  "kernelspec": {
   "display_name": "be-SATGOpenFL-too",
   "language": "python",
   "name": "be-satgopenfl-too"
  },
  "language_info": {
   "codemirror_mode": {
    "name": "ipython",
    "version": 3
   },
   "file_extension": ".py",
   "mimetype": "text/x-python",
   "name": "python",
   "nbconvert_exporter": "python",
   "pygments_lexer": "ipython3",
   "version": "3.8.10"
  }
 },
 "nbformat": 4,
 "nbformat_minor": 2
}
