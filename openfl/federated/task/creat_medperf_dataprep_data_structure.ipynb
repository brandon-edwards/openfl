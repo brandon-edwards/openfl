{
 "cells": [
  {
   "cell_type": "code",
   "execution_count": 2,
   "metadata": {},
   "outputs": [],
   "source": [
    "\"\"\"\n",
    "Creating some data links that mimic the folder and filename structure expected after MLCommons data prep\n",
    "Taking BraTS22 data and dumping it into a files matching that of data prep results.\n",
    "Will be used to shard into multiple insitutions, like Evan wants to in oreder to simulate NNUnet FL over sythetic insitutions\n",
    "\n",
    "\"\"\"\n",
    "\n",
    "num_samples = 30\n",
    "\n",
    "import os\n",
    "\n",
    "\n",
    "\n",
    "source_dirpath = '/raid/datasets/BraTS22/BraTS2022_Training/RSNA_ASNR_MICCAI_BraTS2021_TrainingData_16July2021'\n",
    "test_folderpath = '/raid/edwardsb/projects/RANO/test_data_links'\n",
    "\n",
    "src_mods = ['t1.nii.gz', 't2.nii.gz', 't1ce.nii.gz', 'flair.nii.gz', 'seg.nii.gz']\n",
    "dst_mods = ['t1n.nii.gz', 't2w.nii.gz', 't1c.nii.gz', 't2f.nii.gz', 'final_seg.nii.gz']\n",
    "\n",
    "patients = list(os.listdir(source_dirpath))[:num_samples]\n",
    "for src_mod, dst_mod in zip(src_mods, dst_mods):\n",
    "    if src_mod == 'seg.nii.gz':\n",
    "        subdir = 'labels'\n",
    "    else:\n",
    "        subdir = 'data'\n",
    "    \n",
    "    for patient in patients:\n",
    "        dst_pat_dir = os.path.join(test_folderpath, subdir, patient)\n",
    "        if not os.path.exists(dst_pat_dir):\n",
    "            os.makedirs(dst_pat_dir)\n",
    "        src_pat_dir = os.path.join(source_dirpath, patient)\n",
    "        for timestamp in ['2008.03.88', '2008.12.99']:\n",
    "            dst_pattim_dir = os.path.join(dst_pat_dir, timestamp)\n",
    "            if not os.path.exists(dst_pattim_dir):\n",
    "                os.makedirs(dst_pattim_dir)\n",
    "       \n",
    "            \n",
    "\n",
    "\n",
    "            src_path = os.path.join(src_pat_dir, patient + '_' + src_mod)\n",
    "            if dst_mod == 'final_seg.nii.gz':\n",
    "                dst_path = os.path.join(dst_pattim_dir, patient + '_' + timestamp + '_' + dst_mod)\n",
    "            else:\n",
    "                dst_path = os.path.join(dst_pattim_dir, patient + '_' + timestamp + '_brain_' + dst_mod)\n",
    "            os.symlink(src=src_path, dst=dst_path)"
   ]
  },
  {
   "cell_type": "markdown",
   "metadata": {},
   "source": []
  }
 ],
 "metadata": {
  "kernelspec": {
   "display_name": "be-SATGOpenFL-too",
   "language": "python",
   "name": "be-satgopenfl-too"
  },
  "language_info": {
   "codemirror_mode": {
    "name": "ipython",
    "version": 3
   },
   "file_extension": ".py",
   "mimetype": "text/x-python",
   "name": "python",
   "nbconvert_exporter": "python",
   "pygments_lexer": "ipython3",
   "version": "3.8.10"
  }
 },
 "nbformat": 4,
 "nbformat_minor": 2
}
