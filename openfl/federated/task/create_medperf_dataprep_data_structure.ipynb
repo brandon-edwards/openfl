{
 "cells": [
  {
   "cell_type": "code",
   "execution_count": 11,
   "metadata": {},
   "outputs": [
    {
     "name": "stdout",
     "output_type": "stream",
     "text": [
      "['/raid/edwardsb/projects/RANO/test_data_links_random_times_0', '/raid/edwardsb/projects/RANO/test_data_links_random_times_1']\n"
     ]
    }
   ],
   "source": [
    "import numpy as np\n",
    "import shutil\n",
    "\n",
    "\"\"\"\n",
    "Creating some data links that mimic the folder and filename structure expected after MLCommons data prep\n",
    "Taking BraTS22 data and dumping it into a files matching that of data prep results.\n",
    "Will be used to shard into multiple insitutions, like Evan wants to in oreder to simulate NNUnet FL over sythetic insitutions\n",
    "\n",
    "\"\"\"\n",
    "import os\n",
    "\n",
    "\n",
    "num_samples_one_col = 4\n",
    "timestamps_random = True\n",
    "timestamp_limit = 2    # if not timestamps_random. will use this value\n",
    "test_name = 'random_times'\n",
    "allow_overwrite = True\n",
    "\n",
    "\n",
    "\n",
    "source_dirpath = '/raid/datasets/BraTS22/BraTS2022_Training/RSNA_ASNR_MICCAI_BraTS2021_TrainingData_16July2021'\n",
    "test_folderpaths = [f'/raid/edwardsb/projects/RANO/test_data_links_{test_name}_0', f'/raid/edwardsb/projects/RANO/test_data_links_{test_name}_1']\n",
    "if allow_overwrite:\n",
    "    for path in test_folderpaths:\n",
    "        shutil.rmtree(path)\n",
    "sample_indices = [(0, num_samples_one_col), (num_samples_one_col, 2*num_samples_one_col)]\n",
    "\n",
    "src_mods = ['t1.nii.gz', 't2.nii.gz', 't1ce.nii.gz', 'flair.nii.gz', 'seg.nii.gz']\n",
    "dst_mods = ['t1n.nii.gz', 't2w.nii.gz', 't1c.nii.gz', 't2f.nii.gz', 'final_seg.nii.gz']\n",
    "\n",
    "patient_to_timestamps = {}\n",
    "\n",
    "for test_folderpath, indices in zip(test_folderpaths, sample_indices):\n",
    "    patients = list(os.listdir(source_dirpath))[indices[0]:indices[1]]\n",
    "    for src_mod, dst_mod in zip(src_mods, dst_mods):\n",
    "        if src_mod == 'seg.nii.gz':\n",
    "            subdir = 'labels'\n",
    "        else:\n",
    "            subdir = 'data'\n",
    "        \n",
    "        for patient in patients:\n",
    "            if src_mod == src_mods[0]:\n",
    "                if timestamps_random:\n",
    "                    patient_to_timestamps[patient] = ['2008.03.26', '2008.12.11', '2008.12.20'][:np.random.randint(1,3)]\n",
    "                else:\n",
    "                    patient_to_timestamps[patient] = ['2008.03.26', '2008.12.11', '2008.12.20'][:timestamp_limit]\n",
    "\n",
    "            dst_pat_dir = os.path.join(test_folderpath, subdir, patient)\n",
    "            if not os.path.exists(dst_pat_dir):\n",
    "                os.makedirs(dst_pat_dir)\n",
    "            src_pat_dir = os.path.join(source_dirpath, patient)\n",
    "            for timestamp in patient_to_timestamps[patient]:\n",
    "                dst_pattim_dir = os.path.join(dst_pat_dir, timestamp)\n",
    "                if not os.path.exists(dst_pattim_dir):\n",
    "                    os.makedirs(dst_pattim_dir)\n",
    "                src_path = os.path.join(src_pat_dir, patient + '_' + src_mod)\n",
    "                if dst_mod == 'final_seg.nii.gz':\n",
    "                    dst_path = os.path.join(dst_pattim_dir, patient + '_' + timestamp + '_' + dst_mod)\n",
    "                else:\n",
    "                    dst_path = os.path.join(dst_pattim_dir, patient + '_' + timestamp + '_brain_' + dst_mod)\n",
    "                os.symlink(src=src_path, dst=dst_path)\n",
    "\n",
    "print(test_folderpaths)"
   ]
  },
  {
   "cell_type": "markdown",
   "metadata": {},
   "source": []
  }
 ],
 "metadata": {
  "kernelspec": {
   "display_name": "be-SATGOpenFL-too",
   "language": "python",
   "name": "be-satgopenfl-too"
  },
  "language_info": {
   "codemirror_mode": {
    "name": "ipython",
    "version": 3
   },
   "file_extension": ".py",
   "mimetype": "text/x-python",
   "name": "python",
   "nbconvert_exporter": "python",
   "pygments_lexer": "ipython3",
   "version": "3.8.10"
  }
 },
 "nbformat": 4,
 "nbformat_minor": 2
}
