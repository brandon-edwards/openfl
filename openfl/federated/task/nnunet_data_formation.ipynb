{
 "cells": [
  {
   "cell_type": "code",
   "execution_count": 1,
   "metadata": {},
   "outputs": [],
   "source": [
    "import os"
   ]
  },
  {
   "cell_type": "code",
   "execution_count": 2,
   "metadata": {},
   "outputs": [],
   "source": [
    "brats_src_pardir = '/raid/datasets/BraTS22/BraTS2022_Training/RSNA_ASNR_MICCAI_BraTS2021_TrainingData_16July2021'\n",
    "nnunet_dst_pardir = '/raid/edwardsb/projects/RANO/BraTS22_pretending_tobe_postopp/nnUNet_raw_data_base/nnUNet_raw_data/Task543_FakePostOpp_More'\n",
    "images_train_pardir = os.path.join(nnunet_dst_pardir, 'imagesTr')\n",
    "labels_train_pardir = os.path.join(nnunet_dst_pardir, 'labelsTr')"
   ]
  },
  {
   "cell_type": "code",
   "execution_count": 3,
   "metadata": {},
   "outputs": [],
   "source": [
    "num_to_modality = {'_0000': '_t1.nii.gz',\n",
    "                   '_0001': '_t2.nii.gz',\n",
    "                   '_0002': '_t1ce.nii.gz',\n",
    "                   '_0003': '_flair.nii.gz'}\n",
    "\n",
    "modality_to_num = {modality: num_str for num_str, modality in num_to_modality.items()}"
   ]
  },
  {
   "cell_type": "code",
   "execution_count": 4,
   "metadata": {},
   "outputs": [],
   "source": [
    "def format_nnunet_data(brats_src_pardir, nnunet_dst_pardir, subject_limit=5):\n",
    "    os.makedirs(images_train_pardir)\n",
    "    os.makedirs(labels_train_pardir)\n",
    "\n",
    "    for subject_idx, sub_dir in enumerate(os.listdir(brats_src_pardir)):\n",
    "        if subject_idx > subject_limit:\n",
    "            break\n",
    "        for num in num_to_modality:\n",
    "            src_path = os.path.join(brats_src_pardir, sub_dir,sub_dir + num_to_modality[num])\n",
    "            dst_path = os.path.join(images_train_pardir,sub_dir + num + '.nii.gz')\n",
    "            os.symlink(src=src_path, dst=dst_path)\n",
    "\n",
    "        src_path = os.path.join(brats_src_pardir, sub_dir,sub_dir + '_seg' + '.nii.gz')\n",
    "        dst_path = os.path.join(labels_train_pardir,sub_dir + '.nii.gz')\n",
    "        os.symlink(src=src_path, dst=dst_path)\n",
    "\n",
    "\n"
   ]
  },
  {
   "cell_type": "code",
   "execution_count": 5,
   "metadata": {},
   "outputs": [
    {
     "name": "stdout",
     "output_type": "stream",
     "text": [
      "\n",
      "\n",
      "Please cite the following paper when using nnUNet:\n",
      "\n",
      "Isensee, F., Jaeger, P.F., Kohl, S.A.A. et al. \"nnU-Net: a self-configuring method for deep learning-based biomedical image segmentation.\" Nat Methods (2020). https://doi.org/10.1038/s41592-020-01008-z\n",
      "\n",
      "\n",
      "If you have questions or suggestions, feel free to open an issue at https://github.com/MIC-DKFZ/nnUNet\n",
      "\n"
     ]
    }
   ],
   "source": [
    "format_nnunet_data(brats_src_pardir=brats_src_pardir, nnunet_dst_pardir=nnunet_dst_pardir)\n",
    "\n",
    "from nnunet.dataset_conversion.utils import generate_dataset_json\n",
    "\n",
    "json_path = os.path.join(nnunet_dst_pardir, 'dataset.json')\n",
    "\n",
    "generate_dataset_json(output_file=json_path, imagesTr_dir=images_train_pardir, imagesTs_dir=None, modalities=[string[1:] for string in list(num_to_modality.keys())],\n",
    "                          labels={'0': 'background', '1': 'bad1', '2': 'bad2', '3': 'bad4', '4': 'bad5'}, dataset_name='BraTS2022')"
   ]
  },
  {
   "cell_type": "code",
   "execution_count": 7,
   "metadata": {},
   "outputs": [
    {
     "data": {
      "text/plain": [
       "'/raid/edwardsb/projects/RANO/BraTS22_pretending_tobe_postopp/nnUNet_raw_data_base/nnUNet_raw_data/Task543_FakePostOpp_More/dataset.json'"
      ]
     },
     "execution_count": 7,
     "metadata": {},
     "output_type": "execute_result"
    }
   ],
   "source": [
    "json_path\n",
    "\n",
    "# LOOK AT IT"
   ]
  },
  {
   "cell_type": "code",
   "execution_count": null,
   "metadata": {},
   "outputs": [],
   "source": []
  },
  {
   "cell_type": "code",
   "execution_count": null,
   "metadata": {},
   "outputs": [],
   "source": []
  },
  {
   "cell_type": "markdown",
   "metadata": {},
   "source": []
  },
  {
   "cell_type": "code",
   "execution_count": null,
   "metadata": {},
   "outputs": [],
   "source": []
  },
  {
   "cell_type": "code",
   "execution_count": null,
   "metadata": {},
   "outputs": [],
   "source": []
  }
 ],
 "metadata": {
  "kernelspec": {
   "display_name": "be-SATGOpenFL-too",
   "language": "python",
   "name": "be-satgopenfl-too"
  },
  "language_info": {
   "codemirror_mode": {
    "name": "ipython",
    "version": 3
   },
   "file_extension": ".py",
   "mimetype": "text/x-python",
   "name": "python",
   "nbconvert_exporter": "python",
   "pygments_lexer": "ipython3",
   "version": "3.8.10"
  }
 },
 "nbformat": 4,
 "nbformat_minor": 2
}
