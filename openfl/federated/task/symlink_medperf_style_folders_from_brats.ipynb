{
 "cells": [
  {
   "cell_type": "code",
   "execution_count": 1,
   "metadata": {},
   "outputs": [],
   "source": [
    "import nibabel as nib\n",
    "import numpy as np\n",
    "import os\n",
    "import pickle as pkl"
   ]
  },
  {
   "cell_type": "code",
   "execution_count": 2,
   "metadata": {},
   "outputs": [],
   "source": [
    "import os\n",
    "import torch\n",
    "os.environ['CUDA_VISIBLE_DEVICES']='2'"
   ]
  },
  {
   "cell_type": "code",
   "execution_count": null,
   "metadata": {},
   "outputs": [],
   "source": [
    "# Looking at information from checkpoint of new 5 sample data"
   ]
  },
  {
   "cell_type": "code",
   "execution_count": null,
   "metadata": {},
   "outputs": [],
   "source": []
  },
  {
   "cell_type": "code",
   "execution_count": 3,
   "metadata": {},
   "outputs": [],
   "source": [
    "modalities = ['_t1.nii.gz','_t2.nii.gz', '_t1ce.nii.gz', '_flair.nii.gz', '_seg.nii.gz']"
   ]
  },
  {
   "cell_type": "code",
   "execution_count": 4,
   "metadata": {},
   "outputs": [],
   "source": [
    "sample_pardir = '/raid/datasets/BraTS22/BraTS2022_Training/RSNA_ASNR_MICCAI_BraTS2021_TrainingData_16July2021'\n",
    "patients = ['BraTS2021_00512', 'BraTS2021_00565', 'BraTS2021_01200', 'BraTS2021_01277', 'BraTS2021_01394']"
   ]
  },
  {
   "cell_type": "code",
   "execution_count": 5,
   "metadata": {},
   "outputs": [],
   "source": [
    "dir_path_tups = [(os.path.join(sample_pardir, patient), patient) for patient in patients]"
   ]
  },
  {
   "cell_type": "code",
   "execution_count": 6,
   "metadata": {},
   "outputs": [
    {
     "data": {
      "text/plain": [
       "[(240, 240, 155)]"
      ]
     },
     "execution_count": 6,
     "metadata": {},
     "output_type": "execute_result"
    }
   ],
   "source": [
    "seen_shapes = []\n",
    "for dir_path, patient in dir_path_tups:\n",
    "    for mod in modalities:\n",
    "        path = os.path.join(dir_path,patient + mod)\n",
    "        shape = np.array(nib.load(path).dataobj).astype(np.float32).shape\n",
    "        if shape not in seen_shapes:\n",
    "            seen_shapes.append(shape)\n",
    "seen_shapes\n",
    "\n"
   ]
  },
  {
   "cell_type": "code",
   "execution_count": 7,
   "metadata": {},
   "outputs": [],
   "source": [
    "# What about the cropped data?\n",
    "\n",
    "cropped_543_pardir = '/raid/edwardsb/projects/RANO/BraTS22_pretending_tobe_postopp/nnUNet_raw_data_base/nnUNet_cropped_data/Task543_FakePostOpp_More/'\n",
    "cropped_542_pardir = '/raid/edwardsb/projects/RANO/BraTS22_pretending_tobe_postopp/nnUNet_raw_data_base/nnUNet_cropped_data/Task542_FakePostOpp/'"
   ]
  },
  {
   "cell_type": "code",
   "execution_count": 14,
   "metadata": {},
   "outputs": [],
   "source": [
    "def inspect_shapes(cropped_pardir):\n",
    "    seen_shapes = []\n",
    "    for _file in os.listdir(cropped_pardir):\n",
    "        if _file.endswith('.pkl') or _file.endswith('.json') or not os.path.isfile(os.path.join(cropped_pardir, _file)):\n",
    "            # print(f\"skipped file: {_file}\")\n",
    "            continue\n",
    "        # print(_file)\n",
    "        path = os.path.join(cropped_pardir, _file)\n",
    "        array = np.load(path)['data']\n",
    "        shape = array.shape\n",
    "        # print(shape)\n",
    "        if shape not in seen_shapes:\n",
    "            seen_shapes.append(shape)\n",
    "    print(f\"unique cropped shapes were: {seen_shapes}\")"
   ]
  },
  {
   "cell_type": "code",
   "execution_count": 15,
   "metadata": {},
   "outputs": [
    {
     "name": "stdout",
     "output_type": "stream",
     "text": [
      "unique cropped shapes were: [(5, 137, 173, 128), (5, 130, 159, 123), (5, 136, 171, 130), (5, 141, 176, 141), (5, 138, 168, 135), (5, 144, 169, 133)]\n"
     ]
    }
   ],
   "source": [
    "inspect_shapes(cropped_543_pardir)"
   ]
  },
  {
   "cell_type": "code",
   "execution_count": 16,
   "metadata": {},
   "outputs": [
    {
     "name": "stdout",
     "output_type": "stream",
     "text": [
      "unique cropped shapes were: [(5, 133, 160, 136)]\n"
     ]
    }
   ],
   "source": [
    "inspect_shapes(cropped_542_pardir)"
   ]
  },
  {
   "cell_type": "code",
   "execution_count": 10,
   "metadata": {},
   "outputs": [],
   "source": [
    "# inspect checkpoints to see what patch sized ect were selected for each task\n",
    "checkpoint_542_path = '/raid/edwardsb/projects/RANO/NNUnetModels/nnUNet/3d_fullres/Task542_FakePostOpp/nnUNetTrainerV2__nnUNetPlansv2.1/all/model_final_checkpoint.model'\n",
    "checkpoint_543_path = '/raid/edwardsb/projects/RANO/NNUnetModels/nnUNet/3d_fullres/Task543_FakePostOpp_More/nnUNetTrainerV2__nnUNetPlansv2.1/fold_0/model_final_checkpoint.model'"
   ]
  },
  {
   "cell_type": "code",
   "execution_count": 11,
   "metadata": {},
   "outputs": [],
   "source": [
    "import torch\n",
    "ch_42 = torch.load(checkpoint_542_path)\n",
    "ch_43 = torch.load(checkpoint_543_path)"
   ]
  },
  {
   "cell_type": "code",
   "execution_count": 12,
   "metadata": {},
   "outputs": [
    {
     "data": {
      "text/plain": [
       "dict_keys(['epoch', 'state_dict', 'optimizer_state_dict', 'lr_scheduler_state_dict', 'plot_stuff', 'best_stuff', 'amp_grad_scaler'])"
      ]
     },
     "execution_count": 12,
     "metadata": {},
     "output_type": "execute_result"
    }
   ],
   "source": [
    "ch_42.keys()"
   ]
  },
  {
   "cell_type": "code",
   "execution_count": 13,
   "metadata": {},
   "outputs": [
    {
     "data": {
      "text/plain": [
       "odict_keys(['conv_blocks_localization.0.0.blocks.0.conv.weight', 'conv_blocks_localization.0.0.blocks.0.conv.bias', 'conv_blocks_localization.0.0.blocks.0.instnorm.weight', 'conv_blocks_localization.0.0.blocks.0.instnorm.bias', 'conv_blocks_localization.0.1.blocks.0.conv.weight', 'conv_blocks_localization.0.1.blocks.0.conv.bias', 'conv_blocks_localization.0.1.blocks.0.instnorm.weight', 'conv_blocks_localization.0.1.blocks.0.instnorm.bias', 'conv_blocks_localization.1.0.blocks.0.conv.weight', 'conv_blocks_localization.1.0.blocks.0.conv.bias', 'conv_blocks_localization.1.0.blocks.0.instnorm.weight', 'conv_blocks_localization.1.0.blocks.0.instnorm.bias', 'conv_blocks_localization.1.1.blocks.0.conv.weight', 'conv_blocks_localization.1.1.blocks.0.conv.bias', 'conv_blocks_localization.1.1.blocks.0.instnorm.weight', 'conv_blocks_localization.1.1.blocks.0.instnorm.bias', 'conv_blocks_localization.2.0.blocks.0.conv.weight', 'conv_blocks_localization.2.0.blocks.0.conv.bias', 'conv_blocks_localization.2.0.blocks.0.instnorm.weight', 'conv_blocks_localization.2.0.blocks.0.instnorm.bias', 'conv_blocks_localization.2.1.blocks.0.conv.weight', 'conv_blocks_localization.2.1.blocks.0.conv.bias', 'conv_blocks_localization.2.1.blocks.0.instnorm.weight', 'conv_blocks_localization.2.1.blocks.0.instnorm.bias', 'conv_blocks_localization.3.0.blocks.0.conv.weight', 'conv_blocks_localization.3.0.blocks.0.conv.bias', 'conv_blocks_localization.3.0.blocks.0.instnorm.weight', 'conv_blocks_localization.3.0.blocks.0.instnorm.bias', 'conv_blocks_localization.3.1.blocks.0.conv.weight', 'conv_blocks_localization.3.1.blocks.0.conv.bias', 'conv_blocks_localization.3.1.blocks.0.instnorm.weight', 'conv_blocks_localization.3.1.blocks.0.instnorm.bias', 'conv_blocks_localization.4.0.blocks.0.conv.weight', 'conv_blocks_localization.4.0.blocks.0.conv.bias', 'conv_blocks_localization.4.0.blocks.0.instnorm.weight', 'conv_blocks_localization.4.0.blocks.0.instnorm.bias', 'conv_blocks_localization.4.1.blocks.0.conv.weight', 'conv_blocks_localization.4.1.blocks.0.conv.bias', 'conv_blocks_localization.4.1.blocks.0.instnorm.weight', 'conv_blocks_localization.4.1.blocks.0.instnorm.bias', 'conv_blocks_context.0.blocks.0.conv.weight', 'conv_blocks_context.0.blocks.0.conv.bias', 'conv_blocks_context.0.blocks.0.instnorm.weight', 'conv_blocks_context.0.blocks.0.instnorm.bias', 'conv_blocks_context.0.blocks.1.conv.weight', 'conv_blocks_context.0.blocks.1.conv.bias', 'conv_blocks_context.0.blocks.1.instnorm.weight', 'conv_blocks_context.0.blocks.1.instnorm.bias', 'conv_blocks_context.1.blocks.0.conv.weight', 'conv_blocks_context.1.blocks.0.conv.bias', 'conv_blocks_context.1.blocks.0.instnorm.weight', 'conv_blocks_context.1.blocks.0.instnorm.bias', 'conv_blocks_context.1.blocks.1.conv.weight', 'conv_blocks_context.1.blocks.1.conv.bias', 'conv_blocks_context.1.blocks.1.instnorm.weight', 'conv_blocks_context.1.blocks.1.instnorm.bias', 'conv_blocks_context.2.blocks.0.conv.weight', 'conv_blocks_context.2.blocks.0.conv.bias', 'conv_blocks_context.2.blocks.0.instnorm.weight', 'conv_blocks_context.2.blocks.0.instnorm.bias', 'conv_blocks_context.2.blocks.1.conv.weight', 'conv_blocks_context.2.blocks.1.conv.bias', 'conv_blocks_context.2.blocks.1.instnorm.weight', 'conv_blocks_context.2.blocks.1.instnorm.bias', 'conv_blocks_context.3.blocks.0.conv.weight', 'conv_blocks_context.3.blocks.0.conv.bias', 'conv_blocks_context.3.blocks.0.instnorm.weight', 'conv_blocks_context.3.blocks.0.instnorm.bias', 'conv_blocks_context.3.blocks.1.conv.weight', 'conv_blocks_context.3.blocks.1.conv.bias', 'conv_blocks_context.3.blocks.1.instnorm.weight', 'conv_blocks_context.3.blocks.1.instnorm.bias', 'conv_blocks_context.4.blocks.0.conv.weight', 'conv_blocks_context.4.blocks.0.conv.bias', 'conv_blocks_context.4.blocks.0.instnorm.weight', 'conv_blocks_context.4.blocks.0.instnorm.bias', 'conv_blocks_context.4.blocks.1.conv.weight', 'conv_blocks_context.4.blocks.1.conv.bias', 'conv_blocks_context.4.blocks.1.instnorm.weight', 'conv_blocks_context.4.blocks.1.instnorm.bias', 'conv_blocks_context.5.0.blocks.0.conv.weight', 'conv_blocks_context.5.0.blocks.0.conv.bias', 'conv_blocks_context.5.0.blocks.0.instnorm.weight', 'conv_blocks_context.5.0.blocks.0.instnorm.bias', 'conv_blocks_context.5.1.blocks.0.conv.weight', 'conv_blocks_context.5.1.blocks.0.conv.bias', 'conv_blocks_context.5.1.blocks.0.instnorm.weight', 'conv_blocks_context.5.1.blocks.0.instnorm.bias', 'tu.0.weight', 'tu.1.weight', 'tu.2.weight', 'tu.3.weight', 'tu.4.weight', 'seg_outputs.0.weight', 'seg_outputs.1.weight', 'seg_outputs.2.weight', 'seg_outputs.3.weight', 'seg_outputs.4.weight'])"
      ]
     },
     "execution_count": 13,
     "metadata": {},
     "output_type": "execute_result"
    }
   ],
   "source": [
    "ch_42['state_dict'].keys()"
   ]
  },
  {
   "cell_type": "code",
   "execution_count": null,
   "metadata": {},
   "outputs": [],
   "source": []
  },
  {
   "cell_type": "code",
   "execution_count": 11,
   "metadata": {},
   "outputs": [],
   "source": [
    "# Where is the patch size defined?\n",
    "plans_path_42 = '/raid/edwardsb/projects/RANO/NNUnetModels/nnUNet/3d_fullres/Task542_FakePostOpp/nnUNetTrainerV2__nnUNetPlansv2.1/plans.pkl'\n",
    "plans_path_43 = '/raid/edwardsb/projects/RANO/NNUnetModels/nnUNet/3d_fullres/Task543_FakePostOpp_More/nnUNetTrainerV2__nnUNetPlansv2.1/plans.pkl'"
   ]
  },
  {
   "cell_type": "code",
   "execution_count": 2,
   "metadata": {},
   "outputs": [],
   "source": [
    "def load_pickle(path):\n",
    "    with open(path, 'rb') as _file:\n",
    "        return pkl.load(_file)"
   ]
  },
  {
   "cell_type": "code",
   "execution_count": 13,
   "metadata": {},
   "outputs": [],
   "source": [
    "plans_42 = load_pickle(plans_path_42)\n",
    "plans_43 = load_pickle(plans_path_43)\n"
   ]
  },
  {
   "cell_type": "code",
   "execution_count": 19,
   "metadata": {},
   "outputs": [
    {
     "data": {
      "text/plain": [
       "dict_keys(['num_stages', 'num_modalities', 'modalities', 'normalization_schemes', 'dataset_properties', 'list_of_npz_files', 'original_spacings', 'original_sizes', 'preprocessed_data_folder', 'num_classes', 'all_classes', 'base_num_features', 'use_mask_for_norm', 'keep_only_largest_region', 'min_region_size_per_class', 'min_size_per_class', 'transpose_forward', 'transpose_backward', 'data_identifier', 'plans_per_stage', 'preprocessor_name', 'conv_per_stage'])"
      ]
     },
     "execution_count": 19,
     "metadata": {},
     "output_type": "execute_result"
    }
   ],
   "source": [
    "plan_keys = plans_42.keys()\n",
    "plan_keys"
   ]
  },
  {
   "cell_type": "code",
   "execution_count": 34,
   "metadata": {},
   "outputs": [
    {
     "name": "stdout",
     "output_type": "stream",
     "text": [
      "modalities: Skipping DICT comparison!!\n",
      "normalization_schemes: Skipping DICT comparison!!\n",
      "dataset_properties: Skipping DICT comparison!!\n",
      "list_of_npz_files: Skipping comparison of value with type: <class 'list'>\n",
      "original_spacings: Skipping comparison of value with type: <class 'list'>\n",
      "original_sizes: Skipping comparison of value with type: <class 'list'>\n",
      "preprocessed_data_folder: Skipping comparison of value with type: <class 'str'>\n",
      "all_classes: Skipping comparison of value with type: <class 'list'>\n",
      "use_mask_for_norm: Skipping DICT comparison!!\n",
      "keep_only_largest_region: Skipping comparison of value with type: <class 'NoneType'>\n",
      "min_region_size_per_class: Skipping comparison of value with type: <class 'NoneType'>\n",
      "min_size_per_class: Skipping comparison of value with type: <class 'NoneType'>\n",
      "transpose_forward: Skipping comparison of value with type: <class 'list'>\n",
      "transpose_backward: Skipping comparison of value with type: <class 'list'>\n",
      "data_identifier: Skipping comparison of value with type: <class 'str'>\n",
      "plans_per_stage: Skipping DICT comparison!!\n",
      "preprocessor_name: Skipping comparison of value with type: <class 'str'>\n"
     ]
    },
    {
     "data": {
      "text/plain": [
       "{}"
      ]
     },
     "execution_count": 34,
     "metadata": {},
     "output_type": "execute_result"
    }
   ],
   "source": [
    "diff_dict = {}\n",
    "for key in plan_keys:\n",
    "    different = False\n",
    "    if isinstance(plans_42[key], np.ndarray):\n",
    "        if not np.all(plans_42[key] == plans_43[key]):\n",
    "            different = True\n",
    "    elif isinstance(plans_42[key], int) and not isinstance(plans_42[key], list):\n",
    "        different = plans_42[key] != plans_43[key]\n",
    "    elif isinstance(plans_42[key], dict):\n",
    "        print(f\"{key}: Skipping DICT comparison!!\")\n",
    "        continue\n",
    "    else:\n",
    "        print(f\"{key}: Skipping comparison of value with type: {type(plans_42[key])}\")\n",
    "        continue\n",
    "\n",
    "    if different:\n",
    "        diff_dict[key] = {'42': plans_42[key], '43': plans_43[key]}\n",
    "diff_dict"
   ]
  },
  {
   "cell_type": "code",
   "execution_count": 35,
   "metadata": {},
   "outputs": [
    {
     "data": {
      "text/plain": [
       "{'all_sizes': [(133, 160, 136),\n",
       "  (133, 160, 136),\n",
       "  (133, 160, 136),\n",
       "  (133, 160, 136),\n",
       "  (133, 160, 136),\n",
       "  (133, 160, 136)],\n",
       " 'all_spacings': [array([1., 1., 1.]),\n",
       "  array([1., 1., 1.]),\n",
       "  array([1., 1., 1.]),\n",
       "  array([1., 1., 1.]),\n",
       "  array([1., 1., 1.]),\n",
       "  array([1., 1., 1.])],\n",
       " 'all_classes': [1, 2, 3, 4],\n",
       " 'modalities': {0: '0000', 1: '0001', 2: '0002', 3: '0003'},\n",
       " 'intensityproperties': None,\n",
       " 'size_reductions': OrderedDict([('BraTS2021_01030', 0.32415770609318995),\n",
       "              ('BraTS2021_51030', 0.32415770609318995),\n",
       "              ('BraTS2021_61030', 0.32415770609318995),\n",
       "              ('BraTS2021_71030', 0.32415770609318995),\n",
       "              ('BraTS2021_81030', 0.32415770609318995),\n",
       "              ('BraTS2021_91030', 0.32415770609318995)])}"
      ]
     },
     "execution_count": 35,
     "metadata": {},
     "output_type": "execute_result"
    }
   ],
   "source": [
    "plans_42['dataset_properties']"
   ]
  },
  {
   "cell_type": "code",
   "execution_count": 36,
   "metadata": {},
   "outputs": [
    {
     "data": {
      "text/plain": [
       "{'all_sizes': [(144, 169, 133),\n",
       "  (136, 171, 130),\n",
       "  (137, 173, 128),\n",
       "  (130, 159, 123),\n",
       "  (141, 176, 141),\n",
       "  (138, 168, 135)],\n",
       " 'all_spacings': [array([1., 1., 1.]),\n",
       "  array([1., 1., 1.]),\n",
       "  array([1., 1., 1.]),\n",
       "  array([1., 1., 1.]),\n",
       "  array([1., 1., 1.]),\n",
       "  array([1., 1., 1.])],\n",
       " 'all_classes': [1, 2, 3, 4],\n",
       " 'modalities': {0: '0000', 1: '0001', 2: '0002', 3: '0003'},\n",
       " 'intensityproperties': None,\n",
       " 'size_reductions': OrderedDict([('BraTS2021_00468', 0.3625322580645161),\n",
       "              ('BraTS2021_00512', 0.3386290322580645),\n",
       "              ('BraTS2021_00565', 0.3397992831541219),\n",
       "              ('BraTS2021_01200', 0.28476814516129034),\n",
       "              ('BraTS2021_01277', 0.39191935483870965),\n",
       "              ('BraTS2021_01394', 0.3505645161290323)])}"
      ]
     },
     "execution_count": 36,
     "metadata": {},
     "output_type": "execute_result"
    }
   ],
   "source": [
    "plans_43['dataset_properties']"
   ]
  },
  {
   "cell_type": "code",
   "execution_count": null,
   "metadata": {},
   "outputs": [],
   "source": []
  },
  {
   "cell_type": "code",
   "execution_count": 37,
   "metadata": {},
   "outputs": [
    {
     "data": {
      "text/plain": [
       "[(133, 160, 136),\n",
       " (133, 160, 136),\n",
       " (133, 160, 136),\n",
       " (133, 160, 136),\n",
       " (133, 160, 136),\n",
       " (133, 160, 136)]"
      ]
     },
     "execution_count": 37,
     "metadata": {},
     "output_type": "execute_result"
    }
   ],
   "source": [
    "plans_42['original_sizes']"
   ]
  },
  {
   "cell_type": "code",
   "execution_count": 38,
   "metadata": {},
   "outputs": [
    {
     "data": {
      "text/plain": [
       "[(144, 169, 133),\n",
       " (136, 171, 130),\n",
       " (137, 173, 128),\n",
       " (130, 159, 123),\n",
       " (141, 176, 141),\n",
       " (138, 168, 135)]"
      ]
     },
     "execution_count": 38,
     "metadata": {},
     "output_type": "execute_result"
    }
   ],
   "source": [
    "plans_43['original_sizes']"
   ]
  },
  {
   "cell_type": "code",
   "execution_count": null,
   "metadata": {},
   "outputs": [],
   "source": []
  },
  {
   "cell_type": "code",
   "execution_count": 39,
   "metadata": {},
   "outputs": [
    {
     "data": {
      "text/plain": [
       "{0: {'batch_size': 2,\n",
       "  'num_pool_per_axis': [5, 5, 4],\n",
       "  'patch_size': array([128, 160, 112]),\n",
       "  'median_patient_size_in_voxels': array([138, 170, 132]),\n",
       "  'current_spacing': array([1., 1., 1.]),\n",
       "  'original_spacing': array([1., 1., 1.]),\n",
       "  'do_dummy_2D_data_aug': False,\n",
       "  'pool_op_kernel_sizes': [[2, 2, 2],\n",
       "   [2, 2, 2],\n",
       "   [2, 2, 2],\n",
       "   [2, 2, 2],\n",
       "   [2, 2, 1]],\n",
       "  'conv_kernel_sizes': [[3, 3, 3],\n",
       "   [3, 3, 3],\n",
       "   [3, 3, 3],\n",
       "   [3, 3, 3],\n",
       "   [3, 3, 3],\n",
       "   [3, 3, 3]]}}"
      ]
     },
     "execution_count": 39,
     "metadata": {},
     "output_type": "execute_result"
    }
   ],
   "source": [
    "plans_43['plans_per_stage']"
   ]
  },
  {
   "cell_type": "code",
   "execution_count": 40,
   "metadata": {},
   "outputs": [
    {
     "data": {
      "text/plain": [
       "{0: {'batch_size': 2,\n",
       "  'num_pool_per_axis': [5, 5, 5],\n",
       "  'patch_size': array([128, 128, 128]),\n",
       "  'median_patient_size_in_voxels': array([133, 160, 136]),\n",
       "  'current_spacing': array([1., 1., 1.]),\n",
       "  'original_spacing': array([1., 1., 1.]),\n",
       "  'do_dummy_2D_data_aug': False,\n",
       "  'pool_op_kernel_sizes': [[2, 2, 2],\n",
       "   [2, 2, 2],\n",
       "   [2, 2, 2],\n",
       "   [2, 2, 2],\n",
       "   [2, 2, 2]],\n",
       "  'conv_kernel_sizes': [[3, 3, 3],\n",
       "   [3, 3, 3],\n",
       "   [3, 3, 3],\n",
       "   [3, 3, 3],\n",
       "   [3, 3, 3],\n",
       "   [3, 3, 3]]}}"
      ]
     },
     "execution_count": 40,
     "metadata": {},
     "output_type": "execute_result"
    }
   ],
   "source": [
    "plans_42['plans_per_stage']"
   ]
  },
  {
   "cell_type": "code",
   "execution_count": 4,
   "metadata": {},
   "outputs": [],
   "source": [
    "splits_info = load_pickle('/raid/edwardsb/projects/RANO/BraTS22_pretending_tobe_postopp/nnUNet_raw_data_base/nnUNet_preprocessed/Task543_FakePostOpp_More/splits_final.pkl')"
   ]
  },
  {
   "cell_type": "code",
   "execution_count": 6,
   "metadata": {},
   "outputs": [
    {
     "data": {
      "text/plain": [
       "[OrderedDict([('train',\n",
       "               array(['BraTS2021_00468', 'BraTS2021_00512', 'BraTS2021_00565',\n",
       "                      'BraTS2021_01277'], dtype='<U15')),\n",
       "              ('val',\n",
       "               array(['BraTS2021_01200', 'BraTS2021_01394'], dtype='<U15'))]),\n",
       " OrderedDict([('train',\n",
       "               array(['BraTS2021_00468', 'BraTS2021_00512', 'BraTS2021_00565',\n",
       "                      'BraTS2021_01200', 'BraTS2021_01394'], dtype='<U15')),\n",
       "              ('val', array(['BraTS2021_01277'], dtype='<U15'))]),\n",
       " OrderedDict([('train',\n",
       "               array(['BraTS2021_00512', 'BraTS2021_00565', 'BraTS2021_01200',\n",
       "                      'BraTS2021_01277', 'BraTS2021_01394'], dtype='<U15')),\n",
       "              ('val', array(['BraTS2021_00468'], dtype='<U15'))]),\n",
       " OrderedDict([('train',\n",
       "               array(['BraTS2021_00468', 'BraTS2021_00565', 'BraTS2021_01200',\n",
       "                      'BraTS2021_01277', 'BraTS2021_01394'], dtype='<U15')),\n",
       "              ('val', array(['BraTS2021_00512'], dtype='<U15'))]),\n",
       " OrderedDict([('train',\n",
       "               array(['BraTS2021_00468', 'BraTS2021_00512', 'BraTS2021_01200',\n",
       "                      'BraTS2021_01277', 'BraTS2021_01394'], dtype='<U15')),\n",
       "              ('val', array(['BraTS2021_00565'], dtype='<U15'))])]"
      ]
     },
     "execution_count": 6,
     "metadata": {},
     "output_type": "execute_result"
    }
   ],
   "source": [
    "splits_info"
   ]
  },
  {
   "cell_type": "code",
   "execution_count": null,
   "metadata": {},
   "outputs": [],
   "source": []
  },
  {
   "cell_type": "code",
   "execution_count": null,
   "metadata": {},
   "outputs": [],
   "source": []
  },
  {
   "cell_type": "code",
   "execution_count": null,
   "metadata": {},
   "outputs": [],
   "source": []
  },
  {
   "cell_type": "code",
   "execution_count": null,
   "metadata": {},
   "outputs": [],
   "source": [
    "#################################\n",
    "#################################\n",
    "################################"
   ]
  },
  {
   "cell_type": "code",
   "execution_count": 2,
   "metadata": {},
   "outputs": [],
   "source": []
  },
  {
   "cell_type": "code",
   "execution_count": 2,
   "metadata": {},
   "outputs": [],
   "source": [
    "import os\n",
    "\n",
    "\"\"\"\n",
    "Creating some data links that mimic the folder structure expected after data prep\n",
    "\n",
    "\"\"\"\n",
    "source_dirpath = '/raid/datasets/BraTS22/BraTS2022_Training/RSNA_ASNR_MICCAI_BraTS2021_TrainingData_16July2021'\n",
    "# the directory immediately below should be cleared of all items before running this again\n",
    "test_folderpath = '/raid/edwardsb/projects/RANO/test_data_links'\n",
    "\n",
    "src_mods = ['t1.nii.gz', 't2.nii.gz', 't1ce.nii.gz', 'flair.nii.gz', 'seg.nii.gz']\n",
    "dst_mods = ['t1n.nii.gz', 't2w.nii.gz', 't1c.nii.gz', 't2f.nii.gz', 'final_seg.nii.gz']\n",
    "\n",
    "patients = list(os.listdir(source_dirpath))[:10]\n",
    "for src_mod, dst_mod in zip(src_mods, dst_mods):\n",
    "    if src_mod == 'seg.nii.gz':\n",
    "        subdir = 'labels'\n",
    "    else:\n",
    "        subdir = 'data'\n",
    "    \n",
    "    for patient in patients:\n",
    "        dst_pat_dir = os.path.join(test_folderpath, subdir, patient)\n",
    "        if not os.path.exists(dst_pat_dir):\n",
    "            os.makedirs(dst_pat_dir)\n",
    "        src_pat_dir = os.path.join(source_dirpath, patient)\n",
    "        for timestamp in ['2008.03.88', '2008.12.99']:\n",
    "            dst_pattim_dir = os.path.join(dst_pat_dir, timestamp)\n",
    "            if not os.path.exists(dst_pattim_dir):\n",
    "                os.makedirs(dst_pattim_dir)\n",
    "       \n",
    "            \n",
    "\n",
    "\n",
    "            src_path = os.path.join(src_pat_dir, patient + '_' + src_mod)\n",
    "            if dst_mod == 'final_seg.nii.gz':\n",
    "                dst_path = os.path.join(dst_pattim_dir, patient + '_' + timestamp + '_' + dst_mod)\n",
    "            else:\n",
    "                dst_path = os.path.join(dst_pattim_dir, patient + '_' + timestamp + '_brain_' + dst_mod)\n",
    "            os.symlink(src=src_path, dst=dst_path)\n",
    "        \n",
    "\n"
   ]
  },
  {
   "cell_type": "code",
   "execution_count": null,
   "metadata": {},
   "outputs": [],
   "source": []
  },
  {
   "cell_type": "code",
   "execution_count": null,
   "metadata": {},
   "outputs": [],
   "source": []
  },
  {
   "cell_type": "code",
   "execution_count": 21,
   "metadata": {},
   "outputs": [],
   "source": [
    "# Ok, I'm getting some errors in NNUnet data preprocessing with spacing info not being there. I had\n",
    "\n",
    "import SimpleITK as sitk\n",
    "import shutil\n",
    "\n",
    "def BE_version_split_4d_nifti(filename, output_folder, add_zeros=False):\n",
    "    img_itk = sitk.ReadImage(filename)\n",
    "    dim = img_itk.GetDimension()\n",
    "    print(f\"Dimension is: {dim}\")\n",
    "    file_base = filename.split(\"/\")[-1]\n",
    "    img_npy = sitk.GetArrayFromImage(img_itk)\n",
    "    spacing = img_itk.GetSpacing()\n",
    "    origin = img_itk.GetOrigin()\n",
    "    print(\"###########################\")\n",
    "    print(spacing)\n",
    "    print(\"###########################\")\n",
    "    # Brandon stopping here to output for test"
   ]
  },
  {
   "cell_type": "code",
   "execution_count": 22,
   "metadata": {},
   "outputs": [
    {
     "name": "stdout",
     "output_type": "stream",
     "text": [
      "Dimension is: 3\n",
      "###########################\n",
      "(1.0, 1.0, 1.0)\n",
      "###########################\n"
     ]
    }
   ],
   "source": [
    "BE_version_split_4d_nifti('/raid/edwardsb/projects/RANO/BraTS22_pretending_tobe_postopp/nnUNet_raw_data_base/nnUNet_raw_data/Task542_FakePostOpp/imagesTr/BraTS2021_01030_0000.nii.gz', './delete_me_test')"
   ]
  },
  {
   "cell_type": "code",
   "execution_count": 29,
   "metadata": {},
   "outputs": [
    {
     "ename": "RuntimeError",
     "evalue": "Exception thrown in SimpleITK ImageFileReader_Execute: /tmp/SimpleITK/Code/IO/src/sitkImageReaderBase.cxx:97:\nsitk::ERROR: The file \"/raid/edwardsb/projects/RANO/BraTS22_pretending_tobe_postopp/nnUNet_raw_data_base/nnUNet_raw_data/Task544_PostOpp_PreTest/imagesTr/BraTS2021_01630_2008.12.99_0000.nii.gz\" does not exist.",
     "output_type": "error",
     "traceback": [
      "\u001b[0;31m---------------------------------------------------------------------------\u001b[0m",
      "\u001b[0;31mRuntimeError\u001b[0m                              Traceback (most recent call last)",
      "\u001b[0;32m/tmp/ipykernel_1050806/923653921.py\u001b[0m in \u001b[0;36m?\u001b[0;34m()\u001b[0m\n\u001b[0;32m----> 1\u001b[0;31m \u001b[0mBE_version_split_4d_nifti\u001b[0m\u001b[0;34m(\u001b[0m\u001b[0;34m'/raid/edwardsb/projects/RANO/BraTS22_pretending_tobe_postopp/nnUNet_raw_data_base/nnUNet_raw_data/Task544_PostOpp_PreTest/imagesTr/BraTS2021_01630_2008.12.99_0000.nii.gz'\u001b[0m\u001b[0;34m,\u001b[0m \u001b[0;34m'./delete_me_test'\u001b[0m\u001b[0;34m)\u001b[0m\u001b[0;34m\u001b[0m\u001b[0;34m\u001b[0m\u001b[0m\n\u001b[0m",
      "\u001b[0;32m/tmp/ipykernel_1050806/3144876963.py\u001b[0m in \u001b[0;36m?\u001b[0;34m(filename, output_folder, add_zeros)\u001b[0m\n\u001b[1;32m      6\u001b[0m \u001b[0;32mdef\u001b[0m \u001b[0mBE_version_split_4d_nifti\u001b[0m\u001b[0;34m(\u001b[0m\u001b[0mfilename\u001b[0m\u001b[0;34m,\u001b[0m \u001b[0moutput_folder\u001b[0m\u001b[0;34m,\u001b[0m \u001b[0madd_zeros\u001b[0m\u001b[0;34m=\u001b[0m\u001b[0;32mFalse\u001b[0m\u001b[0;34m)\u001b[0m\u001b[0;34m:\u001b[0m\u001b[0;34m\u001b[0m\u001b[0;34m\u001b[0m\u001b[0m\n\u001b[0;32m----> 7\u001b[0;31m     \u001b[0mimg_itk\u001b[0m \u001b[0;34m=\u001b[0m \u001b[0msitk\u001b[0m\u001b[0;34m.\u001b[0m\u001b[0mReadImage\u001b[0m\u001b[0;34m(\u001b[0m\u001b[0mfilename\u001b[0m\u001b[0;34m)\u001b[0m\u001b[0;34m\u001b[0m\u001b[0;34m\u001b[0m\u001b[0m\n\u001b[0m\u001b[1;32m      8\u001b[0m     \u001b[0mdim\u001b[0m \u001b[0;34m=\u001b[0m \u001b[0mimg_itk\u001b[0m\u001b[0;34m.\u001b[0m\u001b[0mGetDimension\u001b[0m\u001b[0;34m(\u001b[0m\u001b[0;34m)\u001b[0m\u001b[0;34m\u001b[0m\u001b[0;34m\u001b[0m\u001b[0m\n\u001b[1;32m      9\u001b[0m     \u001b[0mprint\u001b[0m\u001b[0;34m(\u001b[0m\u001b[0;34mf\"Dimension is: {dim}\"\u001b[0m\u001b[0;34m)\u001b[0m\u001b[0;34m\u001b[0m\u001b[0;34m\u001b[0m\u001b[0m\n\u001b[1;32m     10\u001b[0m     \u001b[0mfile_base\u001b[0m \u001b[0;34m=\u001b[0m \u001b[0mfilename\u001b[0m\u001b[0;34m.\u001b[0m\u001b[0msplit\u001b[0m\u001b[0;34m(\u001b[0m\u001b[0;34m\"/\"\u001b[0m\u001b[0;34m)\u001b[0m\u001b[0;34m[\u001b[0m\u001b[0;34m-\u001b[0m\u001b[0;36m1\u001b[0m\u001b[0;34m]\u001b[0m\u001b[0;34m\u001b[0m\u001b[0;34m\u001b[0m\u001b[0m\n",
      "\u001b[0;32m~/virtual/CurrentGANDLF/lib/python3.9/site-packages/SimpleITK/extra.py\u001b[0m in \u001b[0;36m?\u001b[0;34m(fileName, outputPixelType, imageIO)\u001b[0m\n\u001b[1;32m    371\u001b[0m         \u001b[0mreader\u001b[0m\u001b[0;34m.\u001b[0m\u001b[0mSetFileNames\u001b[0m\u001b[0;34m(\u001b[0m\u001b[0;34m[\u001b[0m\u001b[0mstr\u001b[0m\u001b[0;34m(\u001b[0m\u001b[0mname\u001b[0m\u001b[0;34m)\u001b[0m \u001b[0;32mfor\u001b[0m \u001b[0mname\u001b[0m \u001b[0;32min\u001b[0m \u001b[0mfileName\u001b[0m\u001b[0;34m]\u001b[0m\u001b[0;34m)\u001b[0m\u001b[0;34m\u001b[0m\u001b[0;34m\u001b[0m\u001b[0m\n\u001b[1;32m    372\u001b[0m \u001b[0;34m\u001b[0m\u001b[0m\n\u001b[1;32m    373\u001b[0m     \u001b[0mreader\u001b[0m\u001b[0;34m.\u001b[0m\u001b[0mSetImageIO\u001b[0m\u001b[0;34m(\u001b[0m\u001b[0mimageIO\u001b[0m\u001b[0;34m)\u001b[0m\u001b[0;34m\u001b[0m\u001b[0;34m\u001b[0m\u001b[0m\n\u001b[1;32m    374\u001b[0m     \u001b[0mreader\u001b[0m\u001b[0;34m.\u001b[0m\u001b[0mSetOutputPixelType\u001b[0m\u001b[0;34m(\u001b[0m\u001b[0moutputPixelType\u001b[0m\u001b[0;34m)\u001b[0m\u001b[0;34m\u001b[0m\u001b[0;34m\u001b[0m\u001b[0m\n\u001b[0;32m--> 375\u001b[0;31m     \u001b[0;32mreturn\u001b[0m \u001b[0mreader\u001b[0m\u001b[0;34m.\u001b[0m\u001b[0mExecute\u001b[0m\u001b[0;34m(\u001b[0m\u001b[0;34m)\u001b[0m\u001b[0;34m\u001b[0m\u001b[0;34m\u001b[0m\u001b[0m\n\u001b[0m",
      "\u001b[0;32m~/virtual/CurrentGANDLF/lib/python3.9/site-packages/SimpleITK/SimpleITK.py\u001b[0m in \u001b[0;36m?\u001b[0;34m(self)\u001b[0m\n\u001b[1;32m   8426\u001b[0m         \u001b[0mtype\u001b[0m \u001b[0mto\u001b[0m \u001b[0mbe\u001b[0m \u001b[0msame\u001b[0m \u001b[0;32mas\u001b[0m \u001b[0mthe\u001b[0m \u001b[0mfile\u001b[0m\u001b[0;34m.\u001b[0m \u001b[0mIf\u001b[0m \u001b[0mthe\u001b[0m \u001b[0mpixel\u001b[0m \u001b[0mtype\u001b[0m \u001b[0;32mis\u001b[0m \u001b[0mspecified\u001b[0m \u001b[0mthen\u001b[0m \u001b[0mthe\u001b[0m \u001b[0mitk\u001b[0m\u001b[0;34m:\u001b[0m\u001b[0;34m:\u001b[0m\u001b[0mConvertPixelBuffer\u001b[0m \u001b[0mwill\u001b[0m \u001b[0mbe\u001b[0m \u001b[0mused\u001b[0m \u001b[0mto\u001b[0m \u001b[0mconvert\u001b[0m \u001b[0mthe\u001b[0m \u001b[0mpixels\u001b[0m\u001b[0;34m.\u001b[0m\u001b[0;34m\u001b[0m\u001b[0;34m\u001b[0m\u001b[0m\n\u001b[1;32m   8427\u001b[0m \u001b[0;34m\u001b[0m\u001b[0m\n\u001b[1;32m   8428\u001b[0m \u001b[0;34m\u001b[0m\u001b[0m\n\u001b[1;32m   8429\u001b[0m         \"\"\"\n\u001b[0;32m-> 8430\u001b[0;31m         \u001b[0;32mreturn\u001b[0m \u001b[0m_SimpleITK\u001b[0m\u001b[0;34m.\u001b[0m\u001b[0mImageFileReader_Execute\u001b[0m\u001b[0;34m(\u001b[0m\u001b[0mself\u001b[0m\u001b[0;34m)\u001b[0m\u001b[0;34m\u001b[0m\u001b[0;34m\u001b[0m\u001b[0m\n\u001b[0m",
      "\u001b[0;31mRuntimeError\u001b[0m: Exception thrown in SimpleITK ImageFileReader_Execute: /tmp/SimpleITK/Code/IO/src/sitkImageReaderBase.cxx:97:\nsitk::ERROR: The file \"/raid/edwardsb/projects/RANO/BraTS22_pretending_tobe_postopp/nnUNet_raw_data_base/nnUNet_raw_data/Task544_PostOpp_PreTest/imagesTr/BraTS2021_01630_2008.12.99_0000.nii.gz\" does not exist."
     ]
    }
   ],
   "source": [
    "BE_version_split_4d_nifti('/raid/edwardsb/projects/RANO/BraTS22_pretending_tobe_postopp/nnUNet_raw_data_base/nnUNet_raw_data/Task544_PostOpp_PreTest/imagesTr/BraTS2021_01630_2008.12.99_0000.nii.gz', './delete_me_test')"
   ]
  },
  {
   "cell_type": "code",
   "execution_count": 6,
   "metadata": {},
   "outputs": [
    {
     "data": {
      "text/plain": [
       "([1, 3, 5, 7, 9], [2, 4, 6, 8])"
      ]
     },
     "execution_count": 6,
     "metadata": {},
     "output_type": "execute_result"
    }
   ],
   "source": [
    "[1, 2, 3, 4, 5, 6, 7, 8, 9][::2], [1, 2, 3, 4, 5, 6, 7, 8, 9][1::2]"
   ]
  }
 ],
 "metadata": {
  "kernelspec": {
   "display_name": "CurrentGANDLF",
   "language": "python",
   "name": "currentgandlf"
  },
  "language_info": {
   "codemirror_mode": {
    "name": "ipython",
    "version": 3
   },
   "file_extension": ".py",
   "mimetype": "text/x-python",
   "name": "python",
   "nbconvert_exporter": "python",
   "pygments_lexer": "ipython3",
   "version": "3.9.5"
  }
 },
 "nbformat": 4,
 "nbformat_minor": 2
}
