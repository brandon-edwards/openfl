{
 "cells": [
  {
   "cell_type": "code",
   "execution_count": 37,
   "metadata": {},
   "outputs": [],
   "source": [
    "from fedsim_data_setup import split_by_timed_subjects, split_by_subject\n",
    "import pickle as pkl"
   ]
  },
  {
   "cell_type": "code",
   "execution_count": null,
   "metadata": {},
   "outputs": [],
   "source": []
  },
  {
   "cell_type": "code",
   "execution_count": 19,
   "metadata": {},
   "outputs": [],
   "source": [
    "test_subject_to_timestamps_10 = {'S1': [0, 1, 2, 3], \n",
    "                              'S2': [0, 1, 2, 3], \n",
    "                              'S3': [0, 1, 2, 3],\n",
    "                              'S4': [0, 1, 2, 3],\n",
    "                              'S5': [0, 1, 2, 3],\n",
    "                              'S6': [0, 1, 2, 3],\n",
    "                              'S7': [0, 1, 2, 3],\n",
    "                              'S8': [0, 1, 2, 3],\n",
    "                              'S9': [0, 1, 2, 3],\n",
    "                              'S10': [0, 1, 2, 3] \n",
    "                              }\n",
    "\n",
    "test_subject_to_timestamps_10_unbalanced = {'S1': [0], \n",
    "                              'S2': [0], \n",
    "                              'S3': [0],\n",
    "                              'S4': [0],\n",
    "                              'S5': [0],\n",
    "                              'S6': [0, 1, 2, 3],\n",
    "                              'S7': [0, 1, 2, 3],\n",
    "                              'S8': [0, 1, 2, 3],\n",
    "                              'S9': [0, 1, 2, 3],\n",
    "                              'S10': [0, 1, 2, 3] \n",
    "                              }"
   ]
  },
  {
   "cell_type": "code",
   "execution_count": 36,
   "metadata": {},
   "outputs": [
    {
     "name": "stdout",
     "output_type": "stream",
     "text": [
      "\n",
      "#########\n",
      " Split was performed by timed subject and an error of 0.067 was acheived in the percent train target.\n"
     ]
    },
    {
     "data": {
      "text/plain": [
       "({'S1': [0, 1, 2, 3],\n",
       "  'S5': [0, 1, 2, 3],\n",
       "  'S6': [0, 1, 2, 3],\n",
       "  'S3': [0, 1, 2, 3]},\n",
       " {'S8': [0, 1, 2, 3],\n",
       "  'S10': [0, 1, 2, 3],\n",
       "  'S2': [0, 1, 2, 3],\n",
       "  'S7': [0, 1, 2, 3],\n",
       "  'S9': [0, 1, 2, 3],\n",
       "  'S4': [0, 1, 2, 3]})"
      ]
     },
     "execution_count": 36,
     "metadata": {},
     "output_type": "execute_result"
    }
   ],
   "source": [
    "# RE-run with many percent_trains some hoping for exact solutions and some looking for approximate, also see splits change over runs\n",
    "split_by_timed_subjects(subject_to_timestamps=test_subject_to_timestamps_10, percent_train=0.333, verbose=True)"
   ]
  },
  {
   "cell_type": "code",
   "execution_count": 27,
   "metadata": {},
   "outputs": [
    {
     "name": "stdout",
     "output_type": "stream",
     "text": [
      "\n",
      "#########\n",
      " Split was performed by timed subject and an error of 0.02699999999999997 was acheived in the percent train target.\n"
     ]
    },
    {
     "data": {
      "text/plain": [
       "({'S2': [0], 'S7': [0, 1, 2, 3], 'S8': [0, 1, 2, 3]},\n",
       " {'S9': [0, 1, 2, 3],\n",
       "  'S1': [0],\n",
       "  'S10': [0, 1, 2, 3],\n",
       "  'S4': [0],\n",
       "  'S6': [0, 1, 2, 3],\n",
       "  'S3': [0],\n",
       "  'S5': [0]})"
      ]
     },
     "execution_count": 27,
     "metadata": {},
     "output_type": "execute_result"
    }
   ],
   "source": [
    "# RE-run with many percent_trains some hoping for exact solutions and some looking for approximate, also see splits change over runs\n",
    "split_by_timed_subjects(subject_to_timestamps=test_subject_to_timestamps_10_unbalanced, percent_train=0.333, verbose=True)"
   ]
  },
  {
   "cell_type": "code",
   "execution_count": null,
   "metadata": {},
   "outputs": [],
   "source": []
  },
  {
   "cell_type": "code",
   "execution_count": 50,
   "metadata": {},
   "outputs": [],
   "source": [
    "splits_568_fpath = '/raid/edwardsb/projects/RANO/BraTS22_pretending_tobe_postopp/nnUNet_raw_data_base/nnUNet_preprocessed/Task568_MultPathTest/splits_final.pkl'\n",
    "splits_569_fpath = '/raid/edwardsb/projects/RANO/BraTS22_pretending_tobe_postopp/nnUNet_raw_data_base/nnUNet_preprocessed/Task569_MultPathTest/splits_final.pkl'"
   ]
  },
  {
   "cell_type": "code",
   "execution_count": 67,
   "metadata": {},
   "outputs": [
    {
     "data": {
      "text/plain": [
       "[OrderedDict([('train',\n",
       "               array(['BraTS2021_00512_2008.03.26', 'BraTS2021_00512_2008.12.11',\n",
       "                      'BraTS2021_00565_2008.03.26', 'BraTS2021_00468_2008.03.26',\n",
       "                      'BraTS2021_00468_2008.12.11'], dtype='<U26')),\n",
       "              ('val', array(['BraTS2021_01277_2008.03.26'], dtype='<U26'))]),\n",
       " None,\n",
       " None,\n",
       " None,\n",
       " None]"
      ]
     },
     "execution_count": 67,
     "metadata": {},
     "output_type": "execute_result"
    }
   ],
   "source": [
    "with open(splits_568_fpath, 'rb') as f:\n",
    "    splits_final = pkl.load(f)\n",
    "splits_final"
   ]
  },
  {
   "cell_type": "code",
   "execution_count": 68,
   "metadata": {},
   "outputs": [
    {
     "data": {
      "text/plain": [
       "[OrderedDict([('train',\n",
       "               array(['BraTS2021_01200_2008.03.26', 'BraTS2021_01200_2008.12.11',\n",
       "                      'BraTS2021_00122_2008.03.26', 'BraTS2021_01299_2008.03.26',\n",
       "                      'BraTS2021_01299_2008.12.11'], dtype='<U26')),\n",
       "              ('val', array(['BraTS2021_01394_2008.03.26'], dtype='<U26'))]),\n",
       " None,\n",
       " None,\n",
       " None,\n",
       " None]"
      ]
     },
     "execution_count": 68,
     "metadata": {},
     "output_type": "execute_result"
    }
   ],
   "source": [
    "with open(splits_569_fpath, 'rb') as f:\n",
    "    splits_final = pkl.load(f)\n",
    "splits_final"
   ]
  }
 ],
 "metadata": {
  "kernelspec": {
   "display_name": "be-SATGOpenFL-too",
   "language": "python",
   "name": "be-satgopenfl-too"
  },
  "language_info": {
   "codemirror_mode": {
    "name": "ipython",
    "version": 3
   },
   "file_extension": ".py",
   "mimetype": "text/x-python",
   "name": "python",
   "nbconvert_exporter": "python",
   "pygments_lexer": "ipython3",
   "version": "3.8.10"
  }
 },
 "nbformat": 4,
 "nbformat_minor": 2
}
