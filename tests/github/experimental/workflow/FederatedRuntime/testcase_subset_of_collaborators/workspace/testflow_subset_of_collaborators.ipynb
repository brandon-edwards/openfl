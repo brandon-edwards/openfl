{
 "cells": [
  {
   "attachments": {},
   "cell_type": "markdown",
   "id": "dc13070c",
   "metadata": {},
   "source": [
    "# Testcase: Subset of Collaborators"
   ]
  },
  {
   "attachments": {},
   "cell_type": "markdown",
   "id": "a4394089",
   "metadata": {},
   "source": [
    "# Getting Started"
   ]
  },
  {
   "attachments": {},
   "cell_type": "markdown",
   "id": "857f9995",
   "metadata": {},
   "source": [
    "Initially, we start by specifying the module where cells marked with the `#| export` directive will be automatically exported. \n",
    "\n",
    "In the following cell, `#| default_exp experiment `indicates that the exported file will be named 'experiment'. This name can be modified based on user's requirement & preferences"
   ]
  },
  {
   "cell_type": "code",
   "execution_count": null,
   "id": "d79eacbd",
   "metadata": {},
   "outputs": [],
   "source": [
    "#| default_exp experiment"
   ]
  },
  {
   "cell_type": "code",
   "execution_count": null,
   "id": "9bd8ac2d",
   "metadata": {},
   "outputs": [],
   "source": [
    "# | export\n",
    "\n",
    "from metaflow import Flow\n",
    "\n",
    "from openfl.experimental.workflow.interface.fl_spec import FLSpec\n",
    "from openfl.experimental.workflow.placement.placement import aggregator, collaborator\n",
    "\n",
    "\n",
    "class bcolors:  # NOQA: N801\n",
    "    OKBLUE = \"\\033[94m\"\n",
    "    OKCYAN = \"\\033[96m\"\n",
    "    OKGREEN = \"\\033[92m\"\n",
    "    HEADER = \"\\033[95m\"\n",
    "    WARNING = \"\\033[93m\"\n",
    "    FAIL = \"\\033[91m\"\n",
    "    BOLD = \"\\033[1m\"\n",
    "    UNDERLINE = \"\\033[4m\"\n",
    "    ENDC = \"\\033[0m\"\n"
   ]
  },
  {
   "cell_type": "markdown",
   "id": "36ed5e31",
   "metadata": {},
   "source": [
    "Let us now define the flow of the testcase datastore cli"
   ]
  },
  {
   "cell_type": "code",
   "execution_count": null,
   "id": "52c4a752",
   "metadata": {},
   "outputs": [],
   "source": [
    "#| export\n",
    "\n",
    "class TestFlowSubsetCollaborators(FLSpec):\n",
    "    \"\"\"\n",
    "    Testflow to validate working of Subset Collaborators in Federated Flow.\n",
    "    \"\"\"\n",
    "\n",
    "    def __init__(self, **kwargs) -> None:\n",
    "        super().__init__(**kwargs)\n",
    "\n",
    "    @aggregator\n",
    "    def start(self):\n",
    "        \"\"\"\n",
    "        Starting the flow with random subset of collaborators\n",
    "        \"\"\"\n",
    "        print(\n",
    "            f\"{bcolors.OKBLUE}Testing FederatedFlow - Starting Test for \"\n",
    "            + f\"validating Subset of collaborators  {bcolors.ENDC}\"\n",
    "        )\n",
    "        self.collaborators = self.runtime.collaborators\n",
    "\n",
    "        # select subset of collaborators\n",
    "        self.subset_collabrators = self.collaborators[:2]\n",
    "\n",
    "        print(\n",
    "            f\"... Executing flow for {len(self.subset_collabrators)} collaborators out of Total: \"\n",
    "            + f\"{len(self.collaborators)}\"\n",
    "        )\n",
    "\n",
    "        self.next(self.test_valid_collaborators, foreach=\"subset_collabrators\")\n",
    "\n",
    "    @collaborator\n",
    "    def test_valid_collaborators(self):\n",
    "        \"\"\"\n",
    "        set the collaborator name\n",
    "        \"\"\"\n",
    "        print(\"executing collaborator step test_valid_collaborators for \"\n",
    "              + f\"collaborator {self.name}.\")\n",
    "        self.collaborator_ran = self.name\n",
    "        self.next(self.join)\n",
    "\n",
    "    @aggregator\n",
    "    def join(self, inputs):\n",
    "        \"\"\"\n",
    "        List of collaboartors ran successfully\n",
    "        \"\"\"\n",
    "        print(\"inside join\")\n",
    "        self.collaborators_ran = [input.collaborator_ran for input in inputs]\n",
    "        self.next(self.end)\n",
    "\n",
    "    @aggregator\n",
    "    def end(self):\n",
    "        \"\"\"\n",
    "        End of the flow\n",
    "        \"\"\"\n",
    "        print(f\"End of the test case {TestFlowSubsetCollaborators.__name__} reached.\")\n",
    "        testcase()\n",
    "\n",
    "\n",
    "def testcase():\n",
    "    tc_pass_fail = {\n",
    "        \"passed\": [], \"failed\": []\n",
    "    }\n",
    "    subset_collaborators = [\"envoy_one\", \"envoy_two\"]\n",
    "    f = Flow(\"TestFlowSubsetCollaborators/\")\n",
    "    r = f.latest_run\n",
    "    # Collaborator test_valid_collaborators step\n",
    "    step = list(r)[1]\n",
    "    # Aggregator join step\n",
    "    join = list(r)[0]\n",
    "\n",
    "    collaborators_ran = list(join)[0].data.collaborators_ran\n",
    "    print(f\"collaborators_ran: {collaborators_ran}\")\n",
    "\n",
    "    if len(list(step)) != len(subset_collaborators):\n",
    "        tc_pass_fail[\"failed\"].append(\n",
    "            f\"{bcolors.FAIL}...Flow only ran for {len(list(step))} \"\n",
    "            + f\"instead of the {len(subset_collaborators)} expected \"\n",
    "            + f\"collaborators- Testcase Failed.{bcolors.ENDC} \"\n",
    "        )\n",
    "    else:\n",
    "        tc_pass_fail[\"passed\"].append(\n",
    "            f\"{bcolors.OKGREEN}Found {len(list(step))} tasks for each of the \"\n",
    "            + f\"{len(subset_collaborators)} collaborators - \"\n",
    "            + f\"Testcase Passed.{bcolors.ENDC}\"\n",
    "        )\n",
    "    passed = True\n",
    "    for collaborator_name in subset_collaborators:\n",
    "        if collaborator_name not in collaborators_ran:\n",
    "            passed = False\n",
    "            tc_pass_fail[\"failed\"].append(\n",
    "                f\"{bcolors.FAIL}...Flow did not execute for \"\n",
    "                + f\"collaborator {collaborator_name}\"\n",
    "                + f\" - Testcase Failed.{bcolors.ENDC}\"\n",
    "            )\n",
    "\n",
    "    if passed:\n",
    "        tc_pass_fail[\"passed\"].append(\n",
    "            f\"{bcolors.OKGREEN}Flow executed for all collaborators\"\n",
    "            + f\"- Testcase Passed.{bcolors.ENDC}\"\n",
    "        )\n",
    "    for values in tc_pass_fail.values():\n",
    "        print(*values, sep=\"\\n\")\n",
    "\n",
    "    print(\n",
    "        f\"{bcolors.OKBLUE}Testing FederatedFlow - Ending test for validating \"\n",
    "        + f\"the subset of collaborators. {bcolors.ENDC}\"\n",
    "    )\n",
    "    if tc_pass_fail.get(\"failed\"):\n",
    "        tc_pass_fail_len = len(tc_pass_fail.get(\"failed\"))\n",
    "        raise AssertionError(\n",
    "            f\"{bcolors.FAIL}\\n {tc_pass_fail_len} Test \"\n",
    "            + f\"case(s) failed ... {bcolors.ENDC}\"\n",
    "        )\n"
   ]
  },
  {
   "cell_type": "markdown",
   "id": "b5371b6d",
   "metadata": {},
   "source": [
    "## Workspace creation"
   ]
  },
  {
   "cell_type": "code",
   "execution_count": null,
   "id": "1715a373",
   "metadata": {},
   "outputs": [],
   "source": [
    "#| export\n",
    "\n",
    "from openfl.experimental.workflow.runtime import FederatedRuntime\n",
    "\n",
    "director_info = {\n",
    "    'director_node_fqdn':'localhost',\n",
    "    'director_port':50050,\n",
    "    'cert_chain': None,\n",
    "    'api_cert': None,\n",
    "    'api_private_key': None,\n",
    "}\n",
    "\n",
    "federated_runtime = FederatedRuntime(\n",
    "    collaborators= ['envoy_one', 'envoy_two', 'envoy_three', 'envoy_four'], \n",
    "    director=director_info, \n",
    "    notebook_path='./testflow_subset_of_collaborators.ipynb'\n",
    ")"
   ]
  },
  {
   "cell_type": "code",
   "execution_count": null,
   "id": "1f1be87f",
   "metadata": {},
   "outputs": [],
   "source": [
    "federated_runtime.get_envoys()"
   ]
  },
  {
   "cell_type": "code",
   "execution_count": null,
   "id": "c6d19819",
   "metadata": {},
   "outputs": [],
   "source": [
    "#| export\n",
    "\n",
    "flflow = TestFlowSubsetCollaborators(checkpoint=True)\n",
    "flflow.runtime = federated_runtime"
   ]
  },
  {
   "cell_type": "code",
   "execution_count": null,
   "id": "e0c639b1",
   "metadata": {},
   "outputs": [],
   "source": [
    "flflow.run()"
   ]
  },
  {
   "cell_type": "code",
   "execution_count": null,
   "id": "664ec7f5",
   "metadata": {},
   "outputs": [],
   "source": [
    "vars(flflow)"
   ]
  }
 ],
 "metadata": {
  "kernelspec": {
   "display_name": "dir-wip",
   "language": "python",
   "name": "python3"
  },
  "language_info": {
   "codemirror_mode": {
    "name": "ipython",
    "version": 3
   },
   "file_extension": ".py",
   "mimetype": "text/x-python",
   "name": "python",
   "nbconvert_exporter": "python",
   "pygments_lexer": "ipython3",
   "version": "3.8.19"
  }
 },
 "nbformat": 4,
 "nbformat_minor": 5
}
